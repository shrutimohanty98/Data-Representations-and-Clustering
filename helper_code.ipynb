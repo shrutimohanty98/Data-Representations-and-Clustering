{
  "cells": [
    {
      "cell_type": "markdown",
      "metadata": {
        "id": "DGLe4bdHn0xL"
      },
      "source": [
        "#Preamble and Imports"
      ]
    },
    {
      "cell_type": "code",
      "execution_count": 1,
      "metadata": {
        "colab": {
          "base_uri": "https://localhost:8080/"
        },
        "id": "AZ_p4IHyshVj",
        "outputId": "a305e25e-651d-40d6-8143-7fbe1eca20ae"
      },
      "outputs": [
        {
          "output_type": "stream",
          "name": "stdout",
          "text": [
            "Collecting umap-learn\n",
            "  Downloading umap-learn-0.5.2.tar.gz (86 kB)\n",
            "\u001b[K     |████████████████████████████████| 86 kB 3.6 MB/s \n",
            "\u001b[?25hRequirement already satisfied: numpy>=1.17 in /usr/local/lib/python3.7/dist-packages (from umap-learn) (1.19.5)\n",
            "Requirement already satisfied: scikit-learn>=0.22 in /usr/local/lib/python3.7/dist-packages (from umap-learn) (1.0.2)\n",
            "Requirement already satisfied: scipy>=1.0 in /usr/local/lib/python3.7/dist-packages (from umap-learn) (1.4.1)\n",
            "Requirement already satisfied: numba>=0.49 in /usr/local/lib/python3.7/dist-packages (from umap-learn) (0.51.2)\n",
            "Collecting pynndescent>=0.5\n",
            "  Downloading pynndescent-0.5.6.tar.gz (1.1 MB)\n",
            "\u001b[K     |████████████████████████████████| 1.1 MB 11.7 MB/s \n",
            "\u001b[?25hRequirement already satisfied: tqdm in /usr/local/lib/python3.7/dist-packages (from umap-learn) (4.62.3)\n",
            "Requirement already satisfied: setuptools in /usr/local/lib/python3.7/dist-packages (from numba>=0.49->umap-learn) (57.4.0)\n",
            "Requirement already satisfied: llvmlite<0.35,>=0.34.0.dev0 in /usr/local/lib/python3.7/dist-packages (from numba>=0.49->umap-learn) (0.34.0)\n",
            "Requirement already satisfied: joblib>=0.11 in /usr/local/lib/python3.7/dist-packages (from pynndescent>=0.5->umap-learn) (1.1.0)\n",
            "Requirement already satisfied: threadpoolctl>=2.0.0 in /usr/local/lib/python3.7/dist-packages (from scikit-learn>=0.22->umap-learn) (3.1.0)\n",
            "Building wheels for collected packages: umap-learn, pynndescent\n",
            "  Building wheel for umap-learn (setup.py) ... \u001b[?25l\u001b[?25hdone\n",
            "  Created wheel for umap-learn: filename=umap_learn-0.5.2-py3-none-any.whl size=82708 sha256=60462d74cd1f5bf320b5ce2322174756411052ffcdf7c56b8ddad305c55ee64a\n",
            "  Stored in directory: /root/.cache/pip/wheels/84/1b/c6/aaf68a748122632967cef4dffef68224eb16798b6793257d82\n",
            "  Building wheel for pynndescent (setup.py) ... \u001b[?25l\u001b[?25hdone\n",
            "  Created wheel for pynndescent: filename=pynndescent-0.5.6-py3-none-any.whl size=53943 sha256=48348748eab96072b16e511243627a00f1168f595854d7ae79db3310d742fa06\n",
            "  Stored in directory: /root/.cache/pip/wheels/03/f1/56/f80d72741e400345b5a5b50ec3d929aca581bf45e0225d5c50\n",
            "Successfully built umap-learn pynndescent\n",
            "Installing collected packages: pynndescent, umap-learn\n",
            "Successfully installed pynndescent-0.5.6 umap-learn-0.5.2\n",
            "Collecting hdbscan\n",
            "  Downloading hdbscan-0.8.27.tar.gz (6.4 MB)\n",
            "\u001b[K     |████████████████████████████████| 6.4 MB 7.0 MB/s \n",
            "\u001b[?25h  Installing build dependencies ... \u001b[?25l\u001b[?25hdone\n",
            "  Getting requirements to build wheel ... \u001b[?25l\u001b[?25hdone\n",
            "    Preparing wheel metadata ... \u001b[?25l\u001b[?25hdone\n",
            "Requirement already satisfied: numpy>=1.16 in /usr/local/lib/python3.7/dist-packages (from hdbscan) (1.19.5)\n",
            "Requirement already satisfied: scipy>=1.0 in /usr/local/lib/python3.7/dist-packages (from hdbscan) (1.4.1)\n",
            "Requirement already satisfied: joblib>=1.0 in /usr/local/lib/python3.7/dist-packages (from hdbscan) (1.1.0)\n",
            "Requirement already satisfied: scikit-learn>=0.20 in /usr/local/lib/python3.7/dist-packages (from hdbscan) (1.0.2)\n",
            "Requirement already satisfied: six in /usr/local/lib/python3.7/dist-packages (from hdbscan) (1.15.0)\n",
            "Requirement already satisfied: cython>=0.27 in /usr/local/lib/python3.7/dist-packages (from hdbscan) (0.29.27)\n",
            "Requirement already satisfied: threadpoolctl>=2.0.0 in /usr/local/lib/python3.7/dist-packages (from scikit-learn>=0.20->hdbscan) (3.1.0)\n",
            "Building wheels for collected packages: hdbscan\n",
            "  Building wheel for hdbscan (PEP 517) ... \u001b[?25l\u001b[?25hdone\n",
            "  Created wheel for hdbscan: filename=hdbscan-0.8.27-cp37-cp37m-linux_x86_64.whl size=2311897 sha256=f785c222f1621a9a71116849ab37cd20959f5b195e77c68b642e0d6b818b900c\n",
            "  Stored in directory: /root/.cache/pip/wheels/73/5f/2f/9a259b84003b84847c259779206acecabb25ab56f1506ee72b\n",
            "Successfully built hdbscan\n",
            "Installing collected packages: hdbscan\n",
            "Successfully installed hdbscan-0.8.27\n",
            "Mounted at /content/drive\n"
          ]
        }
      ],
      "source": [
        "import torch\n",
        "import torch.nn as nn\n",
        "from torchvision import transforms, datasets\n",
        "from torch.utils.data import DataLoader, TensorDataset\n",
        "import numpy as np\n",
        "import matplotlib.pyplot as plt\n",
        "\n",
        "from tqdm import tqdm\n",
        "import requests\n",
        "import os\n",
        "import tarfile\n",
        "\n",
        "from sklearn.preprocessing import StandardScaler\n",
        "from sklearn.decomposition import PCA\n",
        "from sklearn.cluster import KMeans\n",
        "from sklearn.metrics import confusion_matrix, adjusted_rand_score, adjusted_mutual_info_score\n",
        "from sklearn.pipeline import Pipeline\n",
        "from sklearn.base import TransformerMixin\n",
        "\n",
        "#New \n",
        "from sklearn.decomposition import TruncatedSVD\n",
        "from sklearn.cluster import AgglomerativeClustering\n",
        "!pip install umap-learn\n",
        "#import umap-learn\n",
        "import umap\n",
        "!pip install hdbscan\n",
        "import hdbscan\n",
        "from sklearn.datasets import make_blobs\n",
        "from sklearn.metrics.cluster import adjusted_rand_score\n",
        "from sklearn.metrics.cluster import rand_score\n",
        "from sklearn.model_selection import train_test_split\n",
        "np.random.seed(0)\n",
        "import numpy as np\n",
        "import sklearn\n",
        "from sklearn.manifold import TSNE\n",
        "from google.colab import drive\n",
        "drive.mount('/content/drive')"
      ]
    },
    {
      "cell_type": "markdown",
      "metadata": {
        "id": "Lb40vdl6QMuq"
      },
      "source": [
        "# Flowers Dataset and VGG Features"
      ]
    },
    {
      "cell_type": "markdown",
      "metadata": {
        "id": "ZkLwkY9zQMut"
      },
      "source": [
        "![image.png](attachment:image.png)"
      ]
    },
    {
      "cell_type": "code",
      "execution_count": 2,
      "metadata": {
        "colab": {
          "base_uri": "https://localhost:8080/",
          "height": 1000,
          "referenced_widgets": [
            "baafb7b948b542a18f5eec51e71c36ae",
            "f7e0f026e9a64ca38a11f0ec05c0e105",
            "ce783c9592ea441093d3a78d47bafd3c",
            "ad337e132c0649e893e96ba538e22bbd",
            "f04780b5b6ac4f8d8a8b8e2d670cf9b5",
            "e980b651fc6842a4a354322ccfa2ab72",
            "5f1d88a0460f40118385f2b469397cc8",
            "276556ac226845d29ef63e6a15a79188",
            "77d95ce9f8e641469102b2e7dcaaa083",
            "2b3bb148b1aa40caa1c90d4cdc546f44",
            "2c6117a0717c4992b9bb5dc2c63779a8"
          ]
        },
        "id": "tAE8QD1BQ3O-",
        "outputId": "13a3f307-a828-4ab4-9629-967f90ba7316"
      },
      "outputs": [
        {
          "output_type": "stream",
          "name": "stderr",
          "text": [
            "Downloading: \"https://github.com/pytorch/vision/archive/v0.10.0.zip\" to /root/.cache/torch/hub/v0.10.0.zip\n",
            "Downloading: \"https://download.pytorch.org/models/vgg16-397923af.pth\" to /root/.cache/torch/hub/checkpoints/vgg16-397923af.pth\n"
          ]
        },
        {
          "output_type": "display_data",
          "data": {
            "application/vnd.jupyter.widget-view+json": {
              "model_id": "baafb7b948b542a18f5eec51e71c36ae",
              "version_minor": 0,
              "version_major": 2
            },
            "text/plain": [
              "  0%|          | 0.00/528M [00:00<?, ?B/s]"
            ]
          },
          "metadata": {}
        },
        {
          "output_type": "stream",
          "name": "stderr",
          "text": [
            "\r  0%|          | 0/58 [00:00<?, ?it/s]"
          ]
        },
        {
          "output_type": "stream",
          "name": "stdout",
          "text": [
            "In here\n",
            "torch.Size([64, 3, 224, 224])\n",
            "torch.Size([64, 512, 7, 7])\n",
            "torch.Size([64, 512, 7, 7])\n",
            "torch.Size([64, 25088])\n"
          ]
        },
        {
          "output_type": "stream",
          "name": "stderr",
          "text": [
            "\r  2%|▏         | 1/58 [00:01<01:18,  1.37s/it]"
          ]
        },
        {
          "output_type": "stream",
          "name": "stdout",
          "text": [
            "torch.Size([64, 4096])\n",
            "In here\n",
            "torch.Size([64, 3, 224, 224])\n",
            "torch.Size([64, 512, 7, 7])\n",
            "torch.Size([64, 512, 7, 7])\n",
            "torch.Size([64, 25088])\n",
            "torch.Size([64, 4096])\n"
          ]
        },
        {
          "output_type": "stream",
          "name": "stderr",
          "text": [
            "\r  3%|▎         | 2/58 [00:02<00:58,  1.05s/it]"
          ]
        },
        {
          "output_type": "stream",
          "name": "stdout",
          "text": [
            "In here\n",
            "torch.Size([64, 3, 224, 224])\n",
            "torch.Size([64, 512, 7, 7])\n",
            "torch.Size([64, 512, 7, 7])\n",
            "torch.Size([64, 25088])\n",
            "torch.Size([64, 4096])\n"
          ]
        },
        {
          "output_type": "stream",
          "name": "stderr",
          "text": [
            "\r  5%|▌         | 3/58 [00:03<00:52,  1.06it/s]"
          ]
        },
        {
          "output_type": "stream",
          "name": "stdout",
          "text": [
            "In here\n",
            "torch.Size([64, 3, 224, 224])\n",
            "torch.Size([64, 512, 7, 7])\n",
            "torch.Size([64, 512, 7, 7])\n",
            "torch.Size([64, 25088])\n",
            "torch.Size([64, 4096])\n"
          ]
        },
        {
          "output_type": "stream",
          "name": "stderr",
          "text": [
            "\r  7%|▋         | 4/58 [00:03<00:47,  1.13it/s]"
          ]
        },
        {
          "output_type": "stream",
          "name": "stdout",
          "text": [
            "In here\n",
            "torch.Size([64, 3, 224, 224])\n",
            "torch.Size([64, 512, 7, 7])\n",
            "torch.Size([64, 512, 7, 7])\n",
            "torch.Size([64, 25088])\n",
            "torch.Size([64, 4096])\n"
          ]
        },
        {
          "output_type": "stream",
          "name": "stderr",
          "text": [
            "\r  9%|▊         | 5/58 [00:04<00:45,  1.18it/s]"
          ]
        },
        {
          "output_type": "stream",
          "name": "stdout",
          "text": [
            "In here\n",
            "torch.Size([64, 3, 224, 224])\n",
            "torch.Size([64, 512, 7, 7])\n",
            "torch.Size([64, 512, 7, 7])\n",
            "torch.Size([64, 25088])\n",
            "torch.Size([64, 4096])\n"
          ]
        },
        {
          "output_type": "stream",
          "name": "stderr",
          "text": [
            "\r 10%|█         | 6/58 [00:05<00:42,  1.22it/s]"
          ]
        },
        {
          "output_type": "stream",
          "name": "stdout",
          "text": [
            "In here\n",
            "torch.Size([64, 3, 224, 224])\n",
            "torch.Size([64, 512, 7, 7])\n",
            "torch.Size([64, 512, 7, 7])\n",
            "torch.Size([64, 25088])\n",
            "torch.Size([64, 4096])\n"
          ]
        },
        {
          "output_type": "stream",
          "name": "stderr",
          "text": [
            "\r 12%|█▏        | 7/58 [00:06<00:41,  1.23it/s]"
          ]
        },
        {
          "output_type": "stream",
          "name": "stdout",
          "text": [
            "In here\n",
            "torch.Size([64, 3, 224, 224])\n",
            "torch.Size([64, 512, 7, 7])\n",
            "torch.Size([64, 512, 7, 7])\n",
            "torch.Size([64, 25088])\n",
            "torch.Size([64, 4096])\n"
          ]
        },
        {
          "output_type": "stream",
          "name": "stderr",
          "text": [
            "\r 14%|█▍        | 8/58 [00:06<00:40,  1.23it/s]"
          ]
        },
        {
          "output_type": "stream",
          "name": "stdout",
          "text": [
            "In here\n",
            "torch.Size([64, 3, 224, 224])\n",
            "torch.Size([64, 512, 7, 7])\n",
            "torch.Size([64, 512, 7, 7])\n",
            "torch.Size([64, 25088])\n",
            "torch.Size([64, 4096])\n"
          ]
        },
        {
          "output_type": "stream",
          "name": "stderr",
          "text": [
            "\r 16%|█▌        | 9/58 [00:07<00:39,  1.23it/s]"
          ]
        },
        {
          "output_type": "stream",
          "name": "stdout",
          "text": [
            "In here\n",
            "torch.Size([64, 3, 224, 224])\n",
            "torch.Size([64, 512, 7, 7])\n",
            "torch.Size([64, 512, 7, 7])\n",
            "torch.Size([64, 25088])\n",
            "torch.Size([64, 4096])\n"
          ]
        },
        {
          "output_type": "stream",
          "name": "stderr",
          "text": [
            "\r 17%|█▋        | 10/58 [00:08<00:39,  1.22it/s]"
          ]
        },
        {
          "output_type": "stream",
          "name": "stdout",
          "text": [
            "In here\n",
            "torch.Size([64, 3, 224, 224])\n",
            "torch.Size([64, 512, 7, 7])\n",
            "torch.Size([64, 512, 7, 7])\n",
            "torch.Size([64, 25088])\n",
            "torch.Size([64, 4096])\n"
          ]
        },
        {
          "output_type": "stream",
          "name": "stderr",
          "text": [
            "\r 19%|█▉        | 11/58 [00:09<00:37,  1.24it/s]"
          ]
        },
        {
          "output_type": "stream",
          "name": "stdout",
          "text": [
            "In here\n",
            "torch.Size([64, 3, 224, 224])\n",
            "torch.Size([64, 512, 7, 7])\n",
            "torch.Size([64, 512, 7, 7])\n",
            "torch.Size([64, 25088])\n",
            "torch.Size([64, 4096])\n"
          ]
        },
        {
          "output_type": "stream",
          "name": "stderr",
          "text": [
            "\r 21%|██        | 12/58 [00:10<00:36,  1.26it/s]"
          ]
        },
        {
          "output_type": "stream",
          "name": "stdout",
          "text": [
            "In here\n",
            "torch.Size([64, 3, 224, 224])\n",
            "torch.Size([64, 512, 7, 7])\n",
            "torch.Size([64, 512, 7, 7])\n",
            "torch.Size([64, 25088])\n",
            "torch.Size([64, 4096])\n"
          ]
        },
        {
          "output_type": "stream",
          "name": "stderr",
          "text": [
            "\r 22%|██▏       | 13/58 [00:10<00:35,  1.26it/s]"
          ]
        },
        {
          "output_type": "stream",
          "name": "stdout",
          "text": [
            "In here\n",
            "torch.Size([64, 3, 224, 224])\n",
            "torch.Size([64, 512, 7, 7])\n",
            "torch.Size([64, 512, 7, 7])\n",
            "torch.Size([64, 25088])\n",
            "torch.Size([64, 4096])\n"
          ]
        },
        {
          "output_type": "stream",
          "name": "stderr",
          "text": [
            "\r 24%|██▍       | 14/58 [00:11<00:34,  1.26it/s]"
          ]
        },
        {
          "output_type": "stream",
          "name": "stdout",
          "text": [
            "In here\n",
            "torch.Size([64, 3, 224, 224])\n",
            "torch.Size([64, 512, 7, 7])\n",
            "torch.Size([64, 512, 7, 7])\n",
            "torch.Size([64, 25088])\n",
            "torch.Size([64, 4096])\n"
          ]
        },
        {
          "output_type": "stream",
          "name": "stderr",
          "text": [
            "\r 26%|██▌       | 15/58 [00:12<00:34,  1.25it/s]"
          ]
        },
        {
          "output_type": "stream",
          "name": "stdout",
          "text": [
            "In here\n",
            "torch.Size([64, 3, 224, 224])\n",
            "torch.Size([64, 512, 7, 7])\n",
            "torch.Size([64, 512, 7, 7])\n",
            "torch.Size([64, 25088])\n",
            "torch.Size([64, 4096])\n"
          ]
        },
        {
          "output_type": "stream",
          "name": "stderr",
          "text": [
            "\r 28%|██▊       | 16/58 [00:13<00:33,  1.26it/s]"
          ]
        },
        {
          "output_type": "stream",
          "name": "stdout",
          "text": [
            "In here\n",
            "torch.Size([64, 3, 224, 224])\n",
            "torch.Size([64, 512, 7, 7])\n",
            "torch.Size([64, 512, 7, 7])\n",
            "torch.Size([64, 25088])\n",
            "torch.Size([64, 4096])\n"
          ]
        },
        {
          "output_type": "stream",
          "name": "stderr",
          "text": [
            "\r 29%|██▉       | 17/58 [00:14<00:32,  1.26it/s]"
          ]
        },
        {
          "output_type": "stream",
          "name": "stdout",
          "text": [
            "In here\n",
            "torch.Size([64, 3, 224, 224])\n",
            "torch.Size([64, 512, 7, 7])\n",
            "torch.Size([64, 512, 7, 7])\n",
            "torch.Size([64, 25088])\n",
            "torch.Size([64, 4096])\n"
          ]
        },
        {
          "output_type": "stream",
          "name": "stderr",
          "text": [
            "\r 31%|███       | 18/58 [00:14<00:31,  1.26it/s]"
          ]
        },
        {
          "output_type": "stream",
          "name": "stdout",
          "text": [
            "In here\n",
            "torch.Size([64, 3, 224, 224])\n",
            "torch.Size([64, 512, 7, 7])\n",
            "torch.Size([64, 512, 7, 7])\n",
            "torch.Size([64, 25088])\n",
            "torch.Size([64, 4096])\n"
          ]
        },
        {
          "output_type": "stream",
          "name": "stderr",
          "text": [
            "\r 33%|███▎      | 19/58 [00:15<00:31,  1.25it/s]"
          ]
        },
        {
          "output_type": "stream",
          "name": "stdout",
          "text": [
            "In here\n",
            "torch.Size([64, 3, 224, 224])\n",
            "torch.Size([64, 512, 7, 7])\n",
            "torch.Size([64, 512, 7, 7])\n",
            "torch.Size([64, 25088])\n",
            "torch.Size([64, 4096])\n"
          ]
        },
        {
          "output_type": "stream",
          "name": "stderr",
          "text": [
            "\r 34%|███▍      | 20/58 [00:16<00:30,  1.23it/s]"
          ]
        },
        {
          "output_type": "stream",
          "name": "stdout",
          "text": [
            "In here\n",
            "torch.Size([64, 3, 224, 224])\n",
            "torch.Size([64, 512, 7, 7])\n",
            "torch.Size([64, 512, 7, 7])\n",
            "torch.Size([64, 25088])\n",
            "torch.Size([64, 4096])\n"
          ]
        },
        {
          "output_type": "stream",
          "name": "stderr",
          "text": [
            "\r 36%|███▌      | 21/58 [00:17<00:30,  1.23it/s]"
          ]
        },
        {
          "output_type": "stream",
          "name": "stdout",
          "text": [
            "In here\n",
            "torch.Size([64, 3, 224, 224])\n",
            "torch.Size([64, 512, 7, 7])\n",
            "torch.Size([64, 512, 7, 7])\n",
            "torch.Size([64, 25088])\n",
            "torch.Size([64, 4096])\n"
          ]
        },
        {
          "output_type": "stream",
          "name": "stderr",
          "text": [
            "\r 38%|███▊      | 22/58 [00:18<00:29,  1.24it/s]"
          ]
        },
        {
          "output_type": "stream",
          "name": "stdout",
          "text": [
            "In here\n",
            "torch.Size([64, 3, 224, 224])\n",
            "torch.Size([64, 512, 7, 7])\n",
            "torch.Size([64, 512, 7, 7])\n",
            "torch.Size([64, 25088])\n",
            "torch.Size([64, 4096])\n"
          ]
        },
        {
          "output_type": "stream",
          "name": "stderr",
          "text": [
            "\r 40%|███▉      | 23/58 [00:19<00:28,  1.23it/s]"
          ]
        },
        {
          "output_type": "stream",
          "name": "stdout",
          "text": [
            "In here\n",
            "torch.Size([64, 3, 224, 224])\n",
            "torch.Size([64, 512, 7, 7])\n",
            "torch.Size([64, 512, 7, 7])\n",
            "torch.Size([64, 25088])\n",
            "torch.Size([64, 4096])\n"
          ]
        },
        {
          "output_type": "stream",
          "name": "stderr",
          "text": [
            "\r 41%|████▏     | 24/58 [00:20<00:29,  1.16it/s]"
          ]
        },
        {
          "output_type": "stream",
          "name": "stdout",
          "text": [
            "In here\n",
            "torch.Size([64, 3, 224, 224])\n",
            "torch.Size([64, 512, 7, 7])\n",
            "torch.Size([64, 512, 7, 7])\n",
            "torch.Size([64, 25088])\n",
            "torch.Size([64, 4096])\n"
          ]
        },
        {
          "output_type": "stream",
          "name": "stderr",
          "text": [
            "\r 43%|████▎     | 25/58 [00:20<00:29,  1.12it/s]"
          ]
        },
        {
          "output_type": "stream",
          "name": "stdout",
          "text": [
            "In here\n",
            "torch.Size([64, 3, 224, 224])\n",
            "torch.Size([64, 512, 7, 7])\n",
            "torch.Size([64, 512, 7, 7])\n",
            "torch.Size([64, 25088])\n",
            "torch.Size([64, 4096])\n"
          ]
        },
        {
          "output_type": "stream",
          "name": "stderr",
          "text": [
            "\r 45%|████▍     | 26/58 [00:21<00:26,  1.20it/s]"
          ]
        },
        {
          "output_type": "stream",
          "name": "stdout",
          "text": [
            "In here\n",
            "torch.Size([64, 3, 224, 224])\n",
            "torch.Size([64, 512, 7, 7])\n",
            "torch.Size([64, 512, 7, 7])\n",
            "torch.Size([64, 25088])\n",
            "torch.Size([64, 4096])\n"
          ]
        },
        {
          "output_type": "stream",
          "name": "stderr",
          "text": [
            "\r 47%|████▋     | 27/58 [00:22<00:23,  1.32it/s]"
          ]
        },
        {
          "output_type": "stream",
          "name": "stdout",
          "text": [
            "In here\n",
            "torch.Size([64, 3, 224, 224])\n",
            "torch.Size([64, 512, 7, 7])\n",
            "torch.Size([64, 512, 7, 7])\n",
            "torch.Size([64, 25088])\n",
            "torch.Size([64, 4096])\n"
          ]
        },
        {
          "output_type": "stream",
          "name": "stderr",
          "text": [
            "\r 48%|████▊     | 28/58 [00:22<00:21,  1.39it/s]"
          ]
        },
        {
          "output_type": "stream",
          "name": "stdout",
          "text": [
            "In here\n",
            "torch.Size([64, 3, 224, 224])\n",
            "torch.Size([64, 512, 7, 7])\n",
            "torch.Size([64, 512, 7, 7])\n",
            "torch.Size([64, 25088])\n",
            "torch.Size([64, 4096])\n"
          ]
        },
        {
          "output_type": "stream",
          "name": "stderr",
          "text": [
            "\r 50%|█████     | 29/58 [00:23<00:19,  1.45it/s]"
          ]
        },
        {
          "output_type": "stream",
          "name": "stdout",
          "text": [
            "In here\n",
            "torch.Size([64, 3, 224, 224])\n",
            "torch.Size([64, 512, 7, 7])\n",
            "torch.Size([64, 512, 7, 7])\n",
            "torch.Size([64, 25088])\n",
            "torch.Size([64, 4096])\n"
          ]
        },
        {
          "output_type": "stream",
          "name": "stderr",
          "text": [
            "\r 52%|█████▏    | 30/58 [00:24<00:18,  1.50it/s]"
          ]
        },
        {
          "output_type": "stream",
          "name": "stdout",
          "text": [
            "In here\n",
            "torch.Size([64, 3, 224, 224])\n",
            "torch.Size([64, 512, 7, 7])\n",
            "torch.Size([64, 512, 7, 7])\n",
            "torch.Size([64, 25088])\n",
            "torch.Size([64, 4096])\n"
          ]
        },
        {
          "output_type": "stream",
          "name": "stderr",
          "text": [
            "\r 53%|█████▎    | 31/58 [00:24<00:17,  1.53it/s]"
          ]
        },
        {
          "output_type": "stream",
          "name": "stdout",
          "text": [
            "In here\n",
            "torch.Size([64, 3, 224, 224])\n",
            "torch.Size([64, 512, 7, 7])\n",
            "torch.Size([64, 512, 7, 7])\n",
            "torch.Size([64, 25088])\n",
            "torch.Size([64, 4096])\n"
          ]
        },
        {
          "output_type": "stream",
          "name": "stderr",
          "text": [
            "\r 55%|█████▌    | 32/58 [00:25<00:16,  1.57it/s]"
          ]
        },
        {
          "output_type": "stream",
          "name": "stdout",
          "text": [
            "In here\n",
            "torch.Size([64, 3, 224, 224])\n",
            "torch.Size([64, 512, 7, 7])\n",
            "torch.Size([64, 512, 7, 7])\n",
            "torch.Size([64, 25088])\n",
            "torch.Size([64, 4096])\n"
          ]
        },
        {
          "output_type": "stream",
          "name": "stderr",
          "text": [
            "\r 57%|█████▋    | 33/58 [00:25<00:15,  1.57it/s]"
          ]
        },
        {
          "output_type": "stream",
          "name": "stdout",
          "text": [
            "In here\n",
            "torch.Size([64, 3, 224, 224])\n",
            "torch.Size([64, 512, 7, 7])\n",
            "torch.Size([64, 512, 7, 7])\n",
            "torch.Size([64, 25088])\n",
            "torch.Size([64, 4096])\n"
          ]
        },
        {
          "output_type": "stream",
          "name": "stderr",
          "text": [
            "\r 59%|█████▊    | 34/58 [00:26<00:15,  1.58it/s]"
          ]
        },
        {
          "output_type": "stream",
          "name": "stdout",
          "text": [
            "In here\n",
            "torch.Size([64, 3, 224, 224])\n",
            "torch.Size([64, 512, 7, 7])\n",
            "torch.Size([64, 512, 7, 7])\n",
            "torch.Size([64, 25088])\n",
            "torch.Size([64, 4096])\n"
          ]
        },
        {
          "output_type": "stream",
          "name": "stderr",
          "text": [
            "\r 60%|██████    | 35/58 [00:27<00:14,  1.59it/s]"
          ]
        },
        {
          "output_type": "stream",
          "name": "stdout",
          "text": [
            "In here\n",
            "torch.Size([64, 3, 224, 224])\n",
            "torch.Size([64, 512, 7, 7])\n",
            "torch.Size([64, 512, 7, 7])\n",
            "torch.Size([64, 25088])\n",
            "torch.Size([64, 4096])\n"
          ]
        },
        {
          "output_type": "stream",
          "name": "stderr",
          "text": [
            "\r 62%|██████▏   | 36/58 [00:27<00:14,  1.57it/s]"
          ]
        },
        {
          "output_type": "stream",
          "name": "stdout",
          "text": [
            "In here\n",
            "torch.Size([64, 3, 224, 224])\n",
            "torch.Size([64, 512, 7, 7])\n",
            "torch.Size([64, 512, 7, 7])\n",
            "torch.Size([64, 25088])\n",
            "torch.Size([64, 4096])\n"
          ]
        },
        {
          "output_type": "stream",
          "name": "stderr",
          "text": [
            "\r 64%|██████▍   | 37/58 [00:28<00:13,  1.59it/s]"
          ]
        },
        {
          "output_type": "stream",
          "name": "stdout",
          "text": [
            "In here\n",
            "torch.Size([64, 3, 224, 224])\n",
            "torch.Size([64, 512, 7, 7])\n",
            "torch.Size([64, 512, 7, 7])\n",
            "torch.Size([64, 25088])\n",
            "torch.Size([64, 4096])\n"
          ]
        },
        {
          "output_type": "stream",
          "name": "stderr",
          "text": [
            "\r 66%|██████▌   | 38/58 [00:29<00:12,  1.61it/s]"
          ]
        },
        {
          "output_type": "stream",
          "name": "stdout",
          "text": [
            "In here\n",
            "torch.Size([64, 3, 224, 224])\n",
            "torch.Size([64, 512, 7, 7])\n",
            "torch.Size([64, 512, 7, 7])\n",
            "torch.Size([64, 25088])\n",
            "torch.Size([64, 4096])\n"
          ]
        },
        {
          "output_type": "stream",
          "name": "stderr",
          "text": [
            "\r 67%|██████▋   | 39/58 [00:29<00:11,  1.60it/s]"
          ]
        },
        {
          "output_type": "stream",
          "name": "stdout",
          "text": [
            "In here\n",
            "torch.Size([64, 3, 224, 224])\n",
            "torch.Size([64, 512, 7, 7])\n",
            "torch.Size([64, 512, 7, 7])\n",
            "torch.Size([64, 25088])\n",
            "torch.Size([64, 4096])\n"
          ]
        },
        {
          "output_type": "stream",
          "name": "stderr",
          "text": [
            "\r 69%|██████▉   | 40/58 [00:30<00:11,  1.60it/s]"
          ]
        },
        {
          "output_type": "stream",
          "name": "stdout",
          "text": [
            "In here\n",
            "torch.Size([64, 3, 224, 224])\n",
            "torch.Size([64, 512, 7, 7])\n",
            "torch.Size([64, 512, 7, 7])\n",
            "torch.Size([64, 25088])\n",
            "torch.Size([64, 4096])\n"
          ]
        },
        {
          "output_type": "stream",
          "name": "stderr",
          "text": [
            "\r 71%|███████   | 41/58 [00:30<00:10,  1.60it/s]"
          ]
        },
        {
          "output_type": "stream",
          "name": "stdout",
          "text": [
            "In here\n",
            "torch.Size([64, 3, 224, 224])\n",
            "torch.Size([64, 512, 7, 7])\n",
            "torch.Size([64, 512, 7, 7])\n",
            "torch.Size([64, 25088])\n",
            "torch.Size([64, 4096])\n"
          ]
        },
        {
          "output_type": "stream",
          "name": "stderr",
          "text": [
            "\r 72%|███████▏  | 42/58 [00:31<00:10,  1.58it/s]"
          ]
        },
        {
          "output_type": "stream",
          "name": "stdout",
          "text": [
            "In here\n",
            "torch.Size([64, 3, 224, 224])\n",
            "torch.Size([64, 512, 7, 7])\n",
            "torch.Size([64, 512, 7, 7])\n",
            "torch.Size([64, 25088])\n",
            "torch.Size([64, 4096])\n"
          ]
        },
        {
          "output_type": "stream",
          "name": "stderr",
          "text": [
            "\r 74%|███████▍  | 43/58 [00:32<00:09,  1.59it/s]"
          ]
        },
        {
          "output_type": "stream",
          "name": "stdout",
          "text": [
            "In here\n",
            "torch.Size([64, 3, 224, 224])\n",
            "torch.Size([64, 512, 7, 7])\n",
            "torch.Size([64, 512, 7, 7])\n",
            "torch.Size([64, 25088])\n",
            "torch.Size([64, 4096])\n"
          ]
        },
        {
          "output_type": "stream",
          "name": "stderr",
          "text": [
            "\r 76%|███████▌  | 44/58 [00:32<00:08,  1.56it/s]"
          ]
        },
        {
          "output_type": "stream",
          "name": "stdout",
          "text": [
            "In here\n",
            "torch.Size([64, 3, 224, 224])\n",
            "torch.Size([64, 512, 7, 7])\n",
            "torch.Size([64, 512, 7, 7])\n",
            "torch.Size([64, 25088])\n",
            "torch.Size([64, 4096])\n"
          ]
        },
        {
          "output_type": "stream",
          "name": "stderr",
          "text": [
            "\r 78%|███████▊  | 45/58 [00:33<00:08,  1.57it/s]"
          ]
        },
        {
          "output_type": "stream",
          "name": "stdout",
          "text": [
            "In here\n",
            "torch.Size([64, 3, 224, 224])\n",
            "torch.Size([64, 512, 7, 7])\n",
            "torch.Size([64, 512, 7, 7])\n",
            "torch.Size([64, 25088])\n",
            "torch.Size([64, 4096])\n"
          ]
        },
        {
          "output_type": "stream",
          "name": "stderr",
          "text": [
            "\r 79%|███████▉  | 46/58 [00:34<00:07,  1.58it/s]"
          ]
        },
        {
          "output_type": "stream",
          "name": "stdout",
          "text": [
            "In here\n",
            "torch.Size([64, 3, 224, 224])\n",
            "torch.Size([64, 512, 7, 7])\n",
            "torch.Size([64, 512, 7, 7])\n",
            "torch.Size([64, 25088])\n",
            "torch.Size([64, 4096])\n"
          ]
        },
        {
          "output_type": "stream",
          "name": "stderr",
          "text": [
            "\r 81%|████████  | 47/58 [00:34<00:07,  1.56it/s]"
          ]
        },
        {
          "output_type": "stream",
          "name": "stdout",
          "text": [
            "In here\n",
            "torch.Size([64, 3, 224, 224])\n",
            "torch.Size([64, 512, 7, 7])\n",
            "torch.Size([64, 512, 7, 7])\n",
            "torch.Size([64, 25088])\n",
            "torch.Size([64, 4096])\n"
          ]
        },
        {
          "output_type": "stream",
          "name": "stderr",
          "text": [
            "\r 83%|████████▎ | 48/58 [00:35<00:06,  1.58it/s]"
          ]
        },
        {
          "output_type": "stream",
          "name": "stdout",
          "text": [
            "In here\n",
            "torch.Size([64, 3, 224, 224])\n",
            "torch.Size([64, 512, 7, 7])\n",
            "torch.Size([64, 512, 7, 7])\n",
            "torch.Size([64, 25088])\n",
            "torch.Size([64, 4096])\n"
          ]
        },
        {
          "output_type": "stream",
          "name": "stderr",
          "text": [
            "\r 84%|████████▍ | 49/58 [00:36<00:05,  1.57it/s]"
          ]
        },
        {
          "output_type": "stream",
          "name": "stdout",
          "text": [
            "In here\n",
            "torch.Size([64, 3, 224, 224])\n",
            "torch.Size([64, 512, 7, 7])\n",
            "torch.Size([64, 512, 7, 7])\n",
            "torch.Size([64, 25088])\n",
            "torch.Size([64, 4096])\n"
          ]
        },
        {
          "output_type": "stream",
          "name": "stderr",
          "text": [
            "\r 86%|████████▌ | 50/58 [00:36<00:05,  1.58it/s]"
          ]
        },
        {
          "output_type": "stream",
          "name": "stdout",
          "text": [
            "In here\n",
            "torch.Size([64, 3, 224, 224])\n",
            "torch.Size([64, 512, 7, 7])\n",
            "torch.Size([64, 512, 7, 7])\n",
            "torch.Size([64, 25088])\n",
            "torch.Size([64, 4096])\n"
          ]
        },
        {
          "output_type": "stream",
          "name": "stderr",
          "text": [
            "\r 88%|████████▊ | 51/58 [00:37<00:04,  1.59it/s]"
          ]
        },
        {
          "output_type": "stream",
          "name": "stdout",
          "text": [
            "In here\n",
            "torch.Size([64, 3, 224, 224])\n",
            "torch.Size([64, 512, 7, 7])\n",
            "torch.Size([64, 512, 7, 7])\n",
            "torch.Size([64, 25088])\n",
            "torch.Size([64, 4096])\n"
          ]
        },
        {
          "output_type": "stream",
          "name": "stderr",
          "text": [
            "\r 90%|████████▉ | 52/58 [00:37<00:03,  1.59it/s]"
          ]
        },
        {
          "output_type": "stream",
          "name": "stdout",
          "text": [
            "In here\n",
            "torch.Size([64, 3, 224, 224])\n",
            "torch.Size([64, 512, 7, 7])\n",
            "torch.Size([64, 512, 7, 7])\n",
            "torch.Size([64, 25088])\n",
            "torch.Size([64, 4096])\n"
          ]
        },
        {
          "output_type": "stream",
          "name": "stderr",
          "text": [
            "\r 91%|█████████▏| 53/58 [00:38<00:03,  1.58it/s]"
          ]
        },
        {
          "output_type": "stream",
          "name": "stdout",
          "text": [
            "In here\n",
            "torch.Size([64, 3, 224, 224])\n",
            "torch.Size([64, 512, 7, 7])\n",
            "torch.Size([64, 512, 7, 7])\n",
            "torch.Size([64, 25088])\n",
            "torch.Size([64, 4096])\n"
          ]
        },
        {
          "output_type": "stream",
          "name": "stderr",
          "text": [
            "\r 93%|█████████▎| 54/58 [00:39<00:02,  1.58it/s]"
          ]
        },
        {
          "output_type": "stream",
          "name": "stdout",
          "text": [
            "In here\n",
            "torch.Size([64, 3, 224, 224])\n",
            "torch.Size([64, 512, 7, 7])\n",
            "torch.Size([64, 512, 7, 7])\n",
            "torch.Size([64, 25088])\n",
            "torch.Size([64, 4096])\n"
          ]
        },
        {
          "output_type": "stream",
          "name": "stderr",
          "text": [
            "\r 95%|█████████▍| 55/58 [00:39<00:01,  1.58it/s]"
          ]
        },
        {
          "output_type": "stream",
          "name": "stdout",
          "text": [
            "In here\n",
            "torch.Size([64, 3, 224, 224])\n",
            "torch.Size([64, 512, 7, 7])\n",
            "torch.Size([64, 512, 7, 7])\n",
            "torch.Size([64, 25088])\n",
            "torch.Size([64, 4096])\n"
          ]
        },
        {
          "output_type": "stream",
          "name": "stderr",
          "text": [
            "\r 97%|█████████▋| 56/58 [00:40<00:01,  1.59it/s]"
          ]
        },
        {
          "output_type": "stream",
          "name": "stdout",
          "text": [
            "In here\n",
            "torch.Size([64, 3, 224, 224])\n",
            "torch.Size([64, 512, 7, 7])\n",
            "torch.Size([64, 512, 7, 7])\n",
            "torch.Size([64, 25088])\n",
            "torch.Size([64, 4096])\n"
          ]
        },
        {
          "output_type": "stream",
          "name": "stderr",
          "text": [
            "100%|██████████| 58/58 [00:41<00:00,  1.40it/s]"
          ]
        },
        {
          "output_type": "stream",
          "name": "stdout",
          "text": [
            "In here\n",
            "torch.Size([22, 3, 224, 224])\n",
            "torch.Size([22, 512, 7, 7])\n",
            "torch.Size([22, 512, 7, 7])\n",
            "torch.Size([22, 25088])\n",
            "torch.Size([22, 4096])\n"
          ]
        },
        {
          "output_type": "stream",
          "name": "stderr",
          "text": [
            "\n"
          ]
        }
      ],
      "source": [
        "filename = './flowers_features_and_labels.npz'\n",
        "\n",
        "if os.path.exists(filename):\n",
        "    file = np.load(filename)\n",
        "    f_all, y_all = file['f_all'], file['y_all']\n",
        "\n",
        "else:\n",
        "    if not os.path.exists('./flower_photos'):\n",
        "        # download the flowers dataset and extract its images\n",
        "        url = 'http://download.tensorflow.org/example_images/flower_photos.tgz'\n",
        "        with open('./flower_photos.tgz', 'wb') as file:\n",
        "            file.write(requests.get(url).content)\n",
        "        with tarfile.open('./flower_photos.tgz') as file:\n",
        "            file.extractall('./')\n",
        "        os.remove('./flower_photos.tgz')\n",
        "\n",
        "    class FeatureExtractor(nn.Module):\n",
        "        def __init__(self):\n",
        "            super().__init__()\n",
        "\n",
        "            vgg = torch.hub.load('pytorch/vision:v0.10.0', 'vgg16', pretrained=True)\n",
        "\n",
        "            # Extract VGG-16 Feature Layers\n",
        "            self.features = list(vgg.features)\n",
        "            \n",
        "            self.features = nn.Sequential(*self.features)\n",
        "            # Extract VGG-16 Average Pooling Layer\n",
        "            self.pooling = vgg.avgpool\n",
        "            # Convert the image into one-dimensional vector\n",
        "            self.flatten = nn.Flatten()\n",
        "            # Extract the first part of fully-connected layer from VGG16\n",
        "            self.fc = vgg.classifier[0]\n",
        "\n",
        "        def forward(self, x):\n",
        "            # It will take the input 'x' until it returns the feature vector called 'out'\n",
        "            np.shape(x)\n",
        "            out = self.features(x)\n",
        "            print(out.shape)\n",
        "            out = self.pooling(out)\n",
        "            print(out.shape)\n",
        "            out = self.flatten(out)\n",
        "            print(out.shape)\n",
        "            out = self.fc(out) \n",
        "            print(out.shape)\n",
        "            return out \n",
        "\n",
        "    # Initialize the model\n",
        "    assert torch.cuda.is_available()\n",
        "    feature_extractor = FeatureExtractor().cuda().eval()\n",
        "\n",
        "    dataset = datasets.ImageFolder(root='./flower_photos',\n",
        "                                   transform=transforms.Compose([transforms.Resize(224),\n",
        "                                                                 transforms.CenterCrop(224),\n",
        "                                                                 transforms.ToTensor(),\n",
        "                                                                 transforms.Normalize(mean=[0.485, 0.456, 0.406], std=[0.229, 0.224, 0.225])]))\n",
        "    dataloader = DataLoader(dataset, batch_size=64, shuffle=True)\n",
        "\n",
        "    # Extract features and store them on disk\n",
        "    f_all, y_all = np.zeros((0, 4096)), np.zeros((0,))\n",
        "    for x, y in tqdm(dataloader):\n",
        "        print(\"In here\")\n",
        "        print(x.shape)\n",
        "        with torch.no_grad():\n",
        "            f_all = np.vstack([f_all, feature_extractor(x.cuda()).cpu()])\n",
        "            y_all = np.concatenate([y_all, y])\n",
        "    np.savez(filename, f_all=f_all, y_all=y_all)"
      ]
    },
    {
      "cell_type": "code",
      "source": [
        "print(f_all[0])"
      ],
      "metadata": {
        "id": "6V3JAsQwbAI1"
      },
      "execution_count": null,
      "outputs": []
    },
    {
      "cell_type": "code",
      "execution_count": null,
      "metadata": {
        "id": "PoKiVC6bT0I3"
      },
      "outputs": [],
      "source": [
        "print(f_all.shape, y_all.shape)\n",
        "num_features = f_all.shape[1]"
      ]
    },
    {
      "cell_type": "markdown",
      "source": [
        "#PCA"
      ],
      "metadata": {
        "id": "VctGXnfmvR8U"
      }
    },
    {
      "cell_type": "code",
      "execution_count": 3,
      "metadata": {
        "colab": {
          "base_uri": "https://localhost:8080/",
          "height": 300
        },
        "id": "ehvIPDEhkr1Y",
        "outputId": "cad68a0e-f6de-46f4-85e8-f8bb9fa38466"
      },
      "outputs": [
        {
          "output_type": "stream",
          "name": "stdout",
          "text": [
            "(3670, 2)\n"
          ]
        },
        {
          "output_type": "execute_result",
          "data": {
            "text/plain": [
              "<matplotlib.collections.PathCollection at 0x7f3a706f2610>"
            ]
          },
          "metadata": {},
          "execution_count": 3
        },
        {
          "output_type": "display_data",
          "data": {
            "image/png": "[encoded data removed]",
            "text/plain": [
              "<Figure size 432x288 with 1 Axes>"
            ]
          },
          "metadata": {
            "needs_background": "light"
          }
        }
      ],
      "source": [
        "f_pca = PCA(n_components=2).fit_transform(f_all)\n",
        "print(f_pca.shape)\n",
        "plt.scatter(*f_pca.T, c=y_all)\n",
        "#plt.savefig(\"/content/drive/My Drive/pca.png\")"
      ]
    },
    {
      "cell_type": "markdown",
      "source": [
        "#Q23 : t-SNE\n"
      ],
      "metadata": {
        "id": "8_K2QCODvUSr"
      }
    },
    {
      "cell_type": "code",
      "source": [
        "#Q23\n",
        "f_tsne = sklearn.manifold.TSNE(n_components = 2).fit_transform(f_all)\n",
        "print(f_tsne.shape)\n",
        "plt.scatter(*f_tsne.T, c=y_all)\n",
        "#plt.savefig(\"/content/drive/My Drive/tsne.png\")"
      ],
      "metadata": {
        "colab": {
          "base_uri": "https://localhost:8080/",
          "height": 389
        },
        "id": "i99qHwacIBCk",
        "outputId": "beafd10e-e679-467c-8af1-9c55a1cc8669"
      },
      "execution_count": null,
      "outputs": [
        {
          "output_type": "stream",
          "name": "stderr",
          "text": [
            "/usr/local/lib/python3.7/dist-packages/sklearn/manifold/_t_sne.py:783: FutureWarning: The default initialization in TSNE will change from 'random' to 'pca' in 1.2.\n",
            "  FutureWarning,\n",
            "/usr/local/lib/python3.7/dist-packages/sklearn/manifold/_t_sne.py:793: FutureWarning: The default learning rate in TSNE will change from 200.0 to 'auto' in 1.2.\n",
            "  FutureWarning,\n"
          ]
        },
        {
          "output_type": "stream",
          "name": "stdout",
          "text": [
            "(3670, 2)\n"
          ]
        },
        {
          "output_type": "execute_result",
          "data": {
            "text/plain": [
              "<matplotlib.collections.PathCollection at 0x7f79aeac3610>"
            ]
          },
          "metadata": {},
          "execution_count": 16
        },
        {
          "output_type": "display_data",
          "data": {
            "image/png": "[encoded data removed]",
            "text/plain": [
              "<Figure size 432x288 with 1 Axes>"
            ]
          },
          "metadata": {
            "needs_background": "light"
          }
        }
      ]
    },
    {
      "cell_type": "markdown",
      "source": [
        "#SVD"
      ],
      "metadata": {
        "id": "YJeV-bnVvcpX"
      }
    },
    {
      "cell_type": "code",
      "execution_count": null,
      "metadata": {
        "id": "ob0zlxiZmtJs"
      },
      "outputs": [],
      "source": [
        "### SVD\n",
        "def funcsvd(inputs):\n",
        "  f_svd = TruncatedSVD(n_components=50).fit_transform(inputs)\n",
        "  return f_svd\n",
        "#print(f_svd.shape)\n",
        "#plt.scatter(*f_svd.T, c=y_all)"
      ]
    },
    {
      "cell_type": "markdown",
      "source": [
        "#UMAP"
      ],
      "metadata": {
        "id": "OgiTdKTmve3D"
      }
    },
    {
      "cell_type": "code",
      "execution_count": null,
      "metadata": {
        "id": "LKfb7pVspPvg"
      },
      "outputs": [],
      "source": [
        "\n",
        "##UMAP\n",
        "def funcumap(inputs):\n",
        "  f_umap = umap.UMAP(n_neighbors=50, metric = 'cosine').fit_transform(inputs)\n",
        "  return f_umap\n",
        "#print(f_svd.shape)"
      ]
    },
    {
      "cell_type": "markdown",
      "metadata": {
        "id": "bwLau2x6rbfD"
      },
      "source": [
        "#Clustering algorithms"
      ]
    },
    {
      "cell_type": "code",
      "execution_count": null,
      "metadata": {
        "id": "gc45-7cqq4A9"
      },
      "outputs": [],
      "source": [
        "def kmeans1(inputs):\n",
        "  kmeans = KMeans(n_clusters=5, random_state=0)\n",
        "  #return kmeans\n",
        "  yp = kmeans.fit_predict(inputs)\n",
        "  return yp\n",
        "  #print(y_all.shape, yp.shape)\n",
        "  #rand_score(y_all,yp)\n",
        "#print(kmeans.shape)\n",
        "#plt.scatter(*kmeans, c=y_all)"
      ]
    },
    {
      "cell_type": "code",
      "execution_count": null,
      "metadata": {
        "id": "iWbKKxm_u4Zj"
      },
      "outputs": [],
      "source": [
        "def ac1(inputs):\n",
        "  clustering = AgglomerativeClustering(n_clusters=5)\n",
        " # return clustering\n",
        "  y_ac=clustering.fit_predict(inputs)\n",
        "  return y_ac\n",
        "#rand_score(y_all,y_ac)"
      ]
    },
    {
      "cell_type": "code",
      "execution_count": null,
      "metadata": {
        "id": "2E6o6PvNvGpq"
      },
      "outputs": [],
      "source": [
        "#data, _ = make_blobs(1000)\n",
        "def hdbscan1(inputs):\n",
        "  clusterer = hdbscan.HDBSCAN(min_cluster_size=5, min_samples=1)\n",
        "  #return clusterer\n",
        "  cluster_labels = clusterer.fit_predict(inputs)\n",
        "  return cluster_labels\n",
        "\n",
        "def hdbscan2(inputs):\n",
        "  clusterer = hdbscan.HDBSCAN(min_cluster_size=100, min_samples=30)\n",
        "  #return clusterer\n",
        "  cluster_labels = clusterer.fit_predict(inputs)\n",
        "  return cluster_labels\n",
        "\n",
        "def hdbscan3(inputs):\n",
        "  clusterer = hdbscan.HDBSCAN(min_cluster_size=100, min_samples=5)\n",
        "  #return clusterer\n",
        "  cluster_labels = clusterer.fit_predict(inputs)\n",
        "  return cluster_labels\n",
        "\n",
        "def hdbscan4(inputs):\n",
        "  clusterer = hdbscan.HDBSCAN(min_cluster_size=200, min_samples=30)\n",
        "  #return clusterer\n",
        "  cluster_labels = clusterer.fit_predict(inputs)\n",
        "  return cluster_labels\n",
        "\n",
        "def hdbscan5(inputs):\n",
        "  clusterer = hdbscan.HDBSCAN(min_cluster_size=10, min_samples=1)\n",
        "  #return clusterer\n",
        "  cluster_labels = clusterer.fit_predict(inputs)\n",
        "  return cluster_labels\n",
        "\n",
        "#rand_score(y_all,cluster_labels)"
      ]
    },
    {
      "cell_type": "code",
      "execution_count": null,
      "metadata": {
        "id": "SuYSjDIsTnsp"
      },
      "outputs": [],
      "source": [
        "def doNothing(inputs):\n",
        "  return inputs"
      ]
    },
    {
      "cell_type": "markdown",
      "source": [
        "#Autoencoder"
      ],
      "metadata": {
        "id": "8lzYMbNlviPR"
      }
    },
    {
      "cell_type": "code",
      "execution_count": null,
      "metadata": {
        "id": "Kd-bryaBVBtP"
      },
      "outputs": [],
      "source": [
        "class Autoencoder(torch.nn.Module, TransformerMixin):\n",
        "    def __init__(self, n_components=2):\n",
        "        super().__init__()\n",
        "        self.n_components = n_components\n",
        "        self.n_features = None  # to be determined with data\n",
        "        self.encoder = None\n",
        "        self.decoder = None\n",
        "        \n",
        "    def _create_encoder(self):\n",
        "        return nn.Sequential(\n",
        "            nn.Linear(4096, 1280),\n",
        "            nn.ReLU(True),\n",
        "            nn.Linear(1280, 640),\n",
        "            nn.ReLU(True), nn.Linear(640, 120), nn.ReLU(True), nn.Linear(120, self.n_components))\n",
        "    \n",
        "    def _create_decoder(self):\n",
        "        return nn.Sequential(\n",
        "            nn.Linear(self.n_components, 120),\n",
        "            nn.ReLU(True),\n",
        "            nn.Linear(120, 640),\n",
        "            nn.ReLU(True),\n",
        "            nn.Linear(640, 1280),\n",
        "            nn.ReLU(True), nn.Linear(1280, 4096))\n",
        "    \n",
        "    def forward(self, X):\n",
        "        encoded = self.encoder(X)\n",
        "        decoded = self.decoder(encoded)\n",
        "        return decoded\n",
        "    \n",
        "    def fit(self, X):\n",
        "        X = torch.tensor(X, dtype=torch.float32, device='cuda')\n",
        "        self.n_features = X.shape[1]\n",
        "        self.encoder = self._create_encoder()\n",
        "        self.decoder = self._create_decoder()\n",
        "        self.cuda()\n",
        "        self.train()\n",
        "        \n",
        "        criterion = nn.MSELoss()\n",
        "        optimizer = torch.optim.Adam(self.parameters(), lr=1e-3, weight_decay=1e-5)\n",
        "\n",
        "        dataset = TensorDataset(X)\n",
        "        dataloader = DataLoader(dataset, batch_size=128, shuffle=True)\n",
        "\n",
        "        for epoch in tqdm(range(100)):\n",
        "            for (X_,) in dataloader:\n",
        "                X_ = X_.cuda()\n",
        "                # ===================forward=====================\n",
        "                output = self(X_)\n",
        "                loss = criterion(output, X_)\n",
        "                # ===================backward====================\n",
        "                optimizer.zero_grad()\n",
        "                loss.backward()\n",
        "                optimizer.step()\n",
        "\n",
        "        return self     \n",
        "        \n",
        "    def transform(self, X):\n",
        "        X = torch.tensor(X, dtype=torch.float32, device='cuda')\n",
        "        self.eval()\n",
        "        with torch.no_grad():\n",
        "            return self.encoder(X).cpu().numpy()"
      ]
    },
    {
      "cell_type": "code",
      "execution_count": null,
      "metadata": {
        "colab": {
          "base_uri": "https://localhost:8080/"
        },
        "id": "bRp8HJWwZ0V5",
        "outputId": "78354989-f591-430e-f500-8def81298205"
      },
      "outputs": [
        {
          "output_type": "stream",
          "name": "stderr",
          "text": [
            "100%|██████████| 100/100 [00:22<00:00,  4.41it/s]"
          ]
        },
        {
          "output_type": "stream",
          "name": "stdout",
          "text": [
            "(3670, 50)\n"
          ]
        },
        {
          "output_type": "stream",
          "name": "stderr",
          "text": [
            "\n"
          ]
        }
      ],
      "source": [
        "X_em =Autoencoder(50).fit_transform(f_all)\n",
        "print(X_em.shape)"
      ]
    },
    {
      "cell_type": "code",
      "execution_count": null,
      "metadata": {
        "id": "CmJvWv4uV4TE"
      },
      "outputs": [],
      "source": [
        "def autoencode1(inputs):\n",
        "  X_em =Autoencoder(50).fit_transform(inputs)\n",
        "  print(X_em.shape)\n",
        "  return X_em\n",
        "  "
      ]
    },
    {
      "cell_type": "markdown",
      "source": [
        "#Q24: Grid Search"
      ],
      "metadata": {
        "id": "cN_3nSPZvlxN"
      }
    },
    {
      "cell_type": "code",
      "execution_count": null,
      "metadata": {
        "colab": {
          "base_uri": "https://localhost:8080/"
        },
        "id": "pdGzulq9Ov-e",
        "outputId": "e3c8f5db-4245-4ead-9c6b-960aedbc1257"
      },
      "outputs": [
        {
          "output_type": "stream",
          "name": "stdout",
          "text": [
            "(3670, 4096)\n",
            "(3670,) (3670, 4096) (3670,)\n",
            "<function kmeans1 at 0x7f7a1066c290> <function doNothing at 0x7f7a1066c560> 0.19586505816124616\n",
            "(3670, 50)\n",
            "(3670,) (3670, 50) (3670,)\n",
            "<function kmeans1 at 0x7f7a1066c290> <function funcsvd at 0x7f7a106425f0> 0.19332022535307106\n"
          ]
        },
        {
          "output_type": "stream",
          "name": "stderr",
          "text": [
            "/usr/local/lib/python3.7/dist-packages/numba/np/ufunc/parallel.py:363: NumbaWarning: The TBB threading layer requires TBB version 2019.5 or later i.e., TBB_INTERFACE_VERSION >= 11005. Found TBB_INTERFACE_VERSION = 9107. The TBB threading layer is disabled.\n",
            "  warnings.warn(problem)\n"
          ]
        },
        {
          "output_type": "stream",
          "name": "stdout",
          "text": [
            "(3670, 2)\n",
            "(3670,) (3670, 2) (3670,)\n",
            "<function kmeans1 at 0x7f7a1066c290> <function funcumap at 0x7f7a10642ef0> 0.44085747327184416\n"
          ]
        },
        {
          "output_type": "stream",
          "name": "stderr",
          "text": [
            "100%|██████████| 100/100 [00:22<00:00,  4.50it/s]\n"
          ]
        },
        {
          "output_type": "stream",
          "name": "stdout",
          "text": [
            "(3670, 50)\n",
            "(3670, 50)\n",
            "(3670,) (3670, 50) (3670,)\n",
            "<function kmeans1 at 0x7f7a1066c290> <function autoencode1 at 0x7f7a10642f80> 0.1910599838932507\n",
            "(3670, 4096)\n",
            "(3670,) (3670, 4096) (3670,)\n",
            "<function ac1 at 0x7f7a1066c320> <function doNothing at 0x7f7a1066c560> 0.18855278251971858\n",
            "(3670, 50)\n",
            "(3670,) (3670, 50) (3670,)\n",
            "<function ac1 at 0x7f7a1066c320> <function funcsvd at 0x7f7a106425f0> 0.13628642904719862\n",
            "(3670, 2)\n",
            "(3670,) (3670, 2) (3670,)\n",
            "<function ac1 at 0x7f7a1066c320> <function funcumap at 0x7f7a10642ef0> 0.4359271414621078\n"
          ]
        },
        {
          "output_type": "stream",
          "name": "stderr",
          "text": [
            "100%|██████████| 100/100 [00:22<00:00,  4.50it/s]\n"
          ]
        },
        {
          "output_type": "stream",
          "name": "stdout",
          "text": [
            "(3670, 50)\n",
            "(3670, 50)\n",
            "(3670,) (3670, 50) (3670,)\n",
            "<function ac1 at 0x7f7a1066c320> <function autoencode1 at 0x7f7a10642f80> 0.20592588909317708\n",
            "(3670, 4096)\n",
            "(3670,) (3670, 4096) (3670,)\n",
            "<function hdbscan1 at 0x7f7a1066ccb0> <function doNothing at 0x7f7a1066c560> 0.014983034591038287\n",
            "(3670, 50)\n",
            "(3670,) (3670, 50) (3670,)\n",
            "<function hdbscan1 at 0x7f7a1066ccb0> <function funcsvd at 0x7f7a106425f0> 0.024254361194687615\n",
            "(3670, 2)\n",
            "(3670,) (3670, 2) (3670,)\n",
            "<function hdbscan1 at 0x7f7a1066ccb0> <function funcumap at 0x7f7a10642ef0> 0.19748396770271676\n"
          ]
        },
        {
          "output_type": "stream",
          "name": "stderr",
          "text": [
            "100%|██████████| 100/100 [00:22<00:00,  4.49it/s]\n"
          ]
        },
        {
          "output_type": "stream",
          "name": "stdout",
          "text": [
            "(3670, 50)\n",
            "(3670, 50)\n",
            "(3670,) (3670, 50) (3670,)\n",
            "<function hdbscan1 at 0x7f7a1066ccb0> <function autoencode1 at 0x7f7a10642f80> 0.025211996107668992\n",
            "(3670, 4096)\n",
            "(3670,) (3670, 4096) (3670,)\n",
            "<function hdbscan2 at 0x7f7a1066c170> <function doNothing at 0x7f7a1066c560> 0.0\n",
            "(3670, 50)\n",
            "(3670,) (3670, 50) (3670,)\n",
            "<function hdbscan2 at 0x7f7a1066c170> <function funcsvd at 0x7f7a106425f0> 0.0\n",
            "(3670, 2)\n",
            "(3670,) (3670, 2) (3670,)\n",
            "<function hdbscan2 at 0x7f7a1066c170> <function funcumap at 0x7f7a10642ef0> 0.09665559417492456\n"
          ]
        },
        {
          "output_type": "stream",
          "name": "stderr",
          "text": [
            "100%|██████████| 100/100 [00:22<00:00,  4.50it/s]\n"
          ]
        },
        {
          "output_type": "stream",
          "name": "stdout",
          "text": [
            "(3670, 50)\n",
            "(3670, 50)\n",
            "(3670,) (3670, 50) (3670,)\n",
            "<function hdbscan2 at 0x7f7a1066c170> <function autoencode1 at 0x7f7a10642f80> 0.0\n",
            "(3670, 4096)\n",
            "(3670,) (3670, 4096) (3670,)\n",
            "<function hdbscan3 at 0x7f7a1066c200> <function doNothing at 0x7f7a1066c560> 0.0\n",
            "(3670, 50)\n",
            "(3670,) (3670, 50) (3670,)\n",
            "<function hdbscan3 at 0x7f7a1066c200> <function funcsvd at 0x7f7a106425f0> 0.0\n",
            "(3670, 2)\n",
            "(3670,) (3670, 2) (3670,)\n",
            "<function hdbscan3 at 0x7f7a1066c200> <function funcumap at 0x7f7a10642ef0> 0.09607707705936752\n"
          ]
        },
        {
          "output_type": "stream",
          "name": "stderr",
          "text": [
            "100%|██████████| 100/100 [00:22<00:00,  4.50it/s]\n"
          ]
        },
        {
          "output_type": "stream",
          "name": "stdout",
          "text": [
            "(3670, 50)\n",
            "(3670, 50)\n",
            "(3670,) (3670, 50) (3670,)\n",
            "<function hdbscan3 at 0x7f7a1066c200> <function autoencode1 at 0x7f7a10642f80> 0.0\n",
            "(3670, 4096)\n",
            "(3670,) (3670, 4096) (3670,)\n",
            "<function hdbscan4 at 0x7f7a10713dd0> <function doNothing at 0x7f7a1066c560> 0.0\n",
            "(3670, 50)\n",
            "(3670,) (3670, 50) (3670,)\n",
            "<function hdbscan4 at 0x7f7a10713dd0> <function funcsvd at 0x7f7a106425f0> 0.0\n",
            "(3670, 2)\n",
            "(3670,) (3670, 2) (3670,)\n",
            "<function hdbscan4 at 0x7f7a10713dd0> <function funcumap at 0x7f7a10642ef0> 0.09691737954933624\n"
          ]
        },
        {
          "output_type": "stream",
          "name": "stderr",
          "text": [
            "100%|██████████| 100/100 [00:22<00:00,  4.50it/s]\n"
          ]
        },
        {
          "output_type": "stream",
          "name": "stdout",
          "text": [
            "(3670, 50)\n",
            "(3670, 50)\n",
            "(3670,) (3670, 50) (3670,)\n",
            "<function hdbscan4 at 0x7f7a10713dd0> <function autoencode1 at 0x7f7a10642f80> 0.0\n",
            "(3670, 4096)\n",
            "(3670,) (3670, 4096) (3670,)\n",
            "<function hdbscan5 at 0x7f7a10642b00> <function doNothing at 0x7f7a1066c560> 0.015014212771105666\n",
            "(3670, 50)\n",
            "(3670,) (3670, 50) (3670,)\n",
            "<function hdbscan5 at 0x7f7a10642b00> <function funcsvd at 0x7f7a106425f0> 0.01641908904146645\n",
            "(3670, 2)\n",
            "(3670,) (3670, 2) (3670,)\n",
            "<function hdbscan5 at 0x7f7a10642b00> <function funcumap at 0x7f7a10642ef0> 0.20985292346172957\n"
          ]
        },
        {
          "output_type": "stream",
          "name": "stderr",
          "text": [
            "100%|██████████| 100/100 [00:22<00:00,  4.50it/s]\n"
          ]
        },
        {
          "output_type": "stream",
          "name": "stdout",
          "text": [
            "(3670, 50)\n",
            "(3670, 50)\n",
            "(3670,) (3670, 50) (3670,)\n",
            "<function hdbscan5 at 0x7f7a10642b00> <function autoencode1 at 0x7f7a10642f80> 0.021902594900760027\n"
          ]
        }
      ],
      "source": [
        "## grid search\n",
        "\n",
        "dim_red = [doNothing, funcsvd, funcumap, autoencode1]\n",
        "clustering = [kmeans1, ac1, hdbscan1,  hdbscan2,  hdbscan3, hdbscan4, hdbscan5]\n",
        "for cluster in clustering:\n",
        "  for method in dim_red:\n",
        "    f_reduced = method(f_all)\n",
        "    print( f_reduced.shape)\n",
        "    outputs = cluster(f_reduced)\n",
        "    print(outputs.shape, f_reduced.shape, y_all.shape)\n",
        "  \n",
        "    score = adjusted_rand_score(y_all,outputs)\n",
        "    print(cluster, method,score)\n"
      ]
    },
    {
      "cell_type": "markdown",
      "metadata": {
        "id": "ZwwDpUtdQMu2"
      },
      "source": [
        "# Q25: MLP Classifier"
      ]
    },
    {
      "cell_type": "code",
      "execution_count": 4,
      "metadata": {
        "id": "77xWmJF-QMu4"
      },
      "outputs": [],
      "source": [
        "class MLP(torch.nn.Module):\n",
        "    def __init__(self, num_features):\n",
        "        super().__init__()\n",
        "        self.model = nn.Sequential(\n",
        "            nn.Linear(num_features, 1280),\n",
        "            nn.ReLU(True),\n",
        "            nn.Linear(1280, 640),\n",
        "            nn.ReLU(True), \n",
        "            nn.Linear(640, 5),\n",
        "            nn.LogSoftmax(dim=1)\n",
        "        )\n",
        "        self.cuda()\n",
        "    \n",
        "    \n",
        "    def forward(self, X):\n",
        "        return self.model(X)\n",
        "    \n",
        "    def train(self, X, y):\n",
        "        X = torch.tensor(X, dtype=torch.float32, device='cuda')\n",
        "        y = torch.tensor(y, dtype=torch.int64, device='cuda')\n",
        "\n",
        "        self.model.train()\n",
        "        \n",
        "        criterion = nn.NLLLoss()\n",
        "        optimizer = torch.optim.Adam(self.parameters(), lr=1e-3, weight_decay=1e-5)\n",
        "\n",
        "        dataset = TensorDataset(X, y)\n",
        "        dataloader = DataLoader(dataset, batch_size=128, shuffle=True)\n",
        "        \n",
        "        for epoch in tqdm(range(100)):\n",
        "            print('Epoch {}/{}'.format(epoch, 100 - 1))\n",
        "            print('-' * 10)\n",
        "            \n",
        "            for (X_, y_) in dataloader:\n",
        "              #Zero the parameter gradient\n",
        "              outputs = self.model(X_)\n",
        "              loss = criterion(outputs,y_ )\n",
        "              optimizer.zero_grad()\n",
        "              loss.backward()\n",
        "              optimizer.step()       \n",
        "            print('{} Loss: ', loss)\n",
        "        return self\n",
        "    \n",
        "    def eval(self, X_test, y_test):\n",
        "        ##################################\n",
        "        # you should implement this part #\n",
        "        ##################################\n",
        "        X_test = torch.tensor(X_test, dtype=torch.float32, device='cuda')\n",
        "        y_test = torch.tensor(y_test, dtype=torch.int64, device='cuda')\n",
        "        criterion = nn.NLLLoss()\n",
        "        optimizer = torch.optim.Adam(self.parameters(), lr=1e-3, weight_decay=1e-5)\n",
        "\n",
        "        dataset = TensorDataset(X_test, y_test)\n",
        "        dataloader = DataLoader(dataset, batch_size=128, shuffle=True)\n",
        "       # total_loss=[]\n",
        "        #outputs_all=[]\n",
        "        tot=0\n",
        "        corr=0\n",
        "        with torch.no_grad():\n",
        "          for (X_test, y_test) in dataloader:\n",
        "            outputs = self.model(X_test)\n",
        "            \n",
        "            _,pred= torch.max(outputs,1)\n",
        "            tot+= y_test.size(0)\n",
        "            corr += (pred==y_test).sum().item()\n",
        "        accuracy = (corr/tot)*100\n",
        "      \n",
        "\n",
        "        #np.savez(filename, f_all=f_all, y_all=y_all)\n",
        "      #  print(f'\\n------------------------\\nTotal loss: {total_loss}\\n-----------------------------')\n",
        "        print(f'\\n------------------------\\nAccuracy: {accuracy}\\n-----------------------------')\n",
        "       # raise NotImplementedError\n"
      ]
    },
    {
      "cell_type": "markdown",
      "source": [
        "# No Dim Reduction: Train-Test"
      ],
      "metadata": {
        "id": "0dbtzR_UvuaR"
      }
    },
    {
      "cell_type": "code",
      "source": [
        "\n",
        "X_train, X_test,y_train,  y_test = train_test_split(f_all,y_all, test_size=0.2, random_state=0)\n",
        "print(X_test)\n",
        "print(len(X_train), len(X_train[0]), len(X_test), len(X_test[0]))\n",
        "a = MLP(len(X_train[0]))\n",
        "a.train(X_train, y_train)\n",
        "a.eval(X_test, y_test)\n"
      ],
      "metadata": {
        "colab": {
          "base_uri": "https://localhost:8080/"
        },
        "id": "K8GUD9cyuoDY",
        "outputId": "5bb578e0-2ee6-4561-d07f-55f953e123bd"
      },
      "execution_count": null,
      "outputs": [
        {
          "output_type": "stream",
          "name": "stdout",
          "text": [
            "[[-1.09391952 -0.74333471  2.34696531 ... -6.02570391 -1.64820957\n",
            "  -0.17426714]\n",
            " [-0.49618384 -0.33805868 -2.40786266 ... -3.74040341  0.2785576\n",
            "   3.51135683]\n",
            " [-3.4009316  -1.61380982 -0.79997665 ... -7.20987749  0.27326632\n",
            "  -0.61771256]\n",
            " ...\n",
            " [-2.11876965  0.63564527  0.75016475 ... -6.43461275 -0.29414183\n",
            "   1.1748122 ]\n",
            " [-2.34383416 -0.68400943 -2.0577414  ... -1.26587486  2.34199524\n",
            "   3.21130347]\n",
            " [-0.99264961 -0.93188149  0.21016225 ... -0.64660215  1.13032568\n",
            "   2.32165885]]\n",
            "2936 4096 734 4096\n"
          ]
        },
        {
          "output_type": "stream",
          "name": "stderr",
          "text": [
            "\r  0%|          | 0/100 [00:00<?, ?it/s]"
          ]
        },
        {
          "output_type": "stream",
          "name": "stdout",
          "text": [
            "Epoch 0/99\n",
            "----------\n",
            "{} Loss:  "
          ]
        },
        {
          "output_type": "stream",
          "name": "stderr",
          "text": [
            "\r  1%|          | 1/100 [00:00<00:18,  5.23it/s]"
          ]
        },
        {
          "output_type": "stream",
          "name": "stdout",
          "text": [
            "tensor(0.4630, device='cuda:0', grad_fn=<NllLossBackward0>)\n",
            "Epoch 1/99\n",
            "----------\n"
          ]
        },
        {
          "output_type": "stream",
          "name": "stderr",
          "text": [
            "\r  2%|▏         | 2/100 [00:00<00:18,  5.42it/s]"
          ]
        },
        {
          "output_type": "stream",
          "name": "stdout",
          "text": [
            "{} Loss:  tensor(0.4251, device='cuda:0', grad_fn=<NllLossBackward0>)\n",
            "Epoch 2/99\n",
            "----------\n",
            "{} Loss:  "
          ]
        },
        {
          "output_type": "stream",
          "name": "stderr",
          "text": [
            "\r  3%|▎         | 3/100 [00:00<00:17,  5.47it/s]"
          ]
        },
        {
          "output_type": "stream",
          "name": "stdout",
          "text": [
            "tensor(0.2124, device='cuda:0', grad_fn=<NllLossBackward0>)\n",
            "Epoch 3/99\n",
            "----------\n",
            "{} Loss:  "
          ]
        },
        {
          "output_type": "stream",
          "name": "stderr",
          "text": [
            "\r  4%|▍         | 4/100 [00:00<00:17,  5.51it/s]"
          ]
        },
        {
          "output_type": "stream",
          "name": "stdout",
          "text": [
            "tensor(0.1707, device='cuda:0', grad_fn=<NllLossBackward0>)\n",
            "Epoch 4/99\n",
            "----------\n"
          ]
        },
        {
          "output_type": "stream",
          "name": "stderr",
          "text": [
            "\r  5%|▌         | 5/100 [00:00<00:17,  5.53it/s]"
          ]
        },
        {
          "output_type": "stream",
          "name": "stdout",
          "text": [
            "{} Loss:  tensor(0.0871, device='cuda:0', grad_fn=<NllLossBackward0>)\n",
            "Epoch 5/99\n",
            "----------\n",
            "{} Loss:  "
          ]
        },
        {
          "output_type": "stream",
          "name": "stderr",
          "text": [
            "\r  6%|▌         | 6/100 [00:01<00:16,  5.53it/s]"
          ]
        },
        {
          "output_type": "stream",
          "name": "stdout",
          "text": [
            "tensor(0.0404, device='cuda:0', grad_fn=<NllLossBackward0>)\n",
            "Epoch 6/99\n",
            "----------\n",
            "{} Loss:  "
          ]
        },
        {
          "output_type": "stream",
          "name": "stderr",
          "text": [
            "\r  7%|▋         | 7/100 [00:01<00:16,  5.54it/s]"
          ]
        },
        {
          "output_type": "stream",
          "name": "stdout",
          "text": [
            "tensor(0.0428, device='cuda:0', grad_fn=<NllLossBackward0>)\n",
            "Epoch 7/99\n",
            "----------\n"
          ]
        },
        {
          "output_type": "stream",
          "name": "stderr",
          "text": [
            "\r  8%|▊         | 8/100 [00:01<00:16,  5.54it/s]"
          ]
        },
        {
          "output_type": "stream",
          "name": "stdout",
          "text": [
            "{} Loss:  tensor(0.0221, device='cuda:0', grad_fn=<NllLossBackward0>)\n",
            "Epoch 8/99\n",
            "----------\n",
            "{} Loss:  "
          ]
        },
        {
          "output_type": "stream",
          "name": "stderr",
          "text": [
            "\r  9%|▉         | 9/100 [00:01<00:16,  5.52it/s]"
          ]
        },
        {
          "output_type": "stream",
          "name": "stdout",
          "text": [
            "tensor(0.0500, device='cuda:0', grad_fn=<NllLossBackward0>)\n",
            "Epoch 9/99\n",
            "----------\n",
            "{} Loss:  "
          ]
        },
        {
          "output_type": "stream",
          "name": "stderr",
          "text": [
            "\r 10%|█         | 10/100 [00:01<00:16,  5.52it/s]"
          ]
        },
        {
          "output_type": "stream",
          "name": "stdout",
          "text": [
            "tensor(0.0161, device='cuda:0', grad_fn=<NllLossBackward0>)\n",
            "Epoch 10/99\n",
            "----------\n"
          ]
        },
        {
          "output_type": "stream",
          "name": "stderr",
          "text": [
            "\r 11%|█         | 11/100 [00:01<00:16,  5.54it/s]"
          ]
        },
        {
          "output_type": "stream",
          "name": "stdout",
          "text": [
            "{} Loss:  tensor(0.0350, device='cuda:0', grad_fn=<NllLossBackward0>)\n",
            "Epoch 11/99\n",
            "----------\n",
            "{} Loss:  "
          ]
        },
        {
          "output_type": "stream",
          "name": "stderr",
          "text": [
            "\r 12%|█▏        | 12/100 [00:02<00:15,  5.55it/s]"
          ]
        },
        {
          "output_type": "stream",
          "name": "stdout",
          "text": [
            "tensor(0.0283, device='cuda:0', grad_fn=<NllLossBackward0>)\n",
            "Epoch 12/99\n",
            "----------\n",
            "{} Loss:  "
          ]
        },
        {
          "output_type": "stream",
          "name": "stderr",
          "text": [
            "\r 13%|█▎        | 13/100 [00:02<00:15,  5.54it/s]"
          ]
        },
        {
          "output_type": "stream",
          "name": "stdout",
          "text": [
            "tensor(0.0137, device='cuda:0', grad_fn=<NllLossBackward0>)\n",
            "Epoch 13/99\n",
            "----------\n"
          ]
        },
        {
          "output_type": "stream",
          "name": "stderr",
          "text": [
            "\r 14%|█▍        | 14/100 [00:02<00:15,  5.55it/s]"
          ]
        },
        {
          "output_type": "stream",
          "name": "stdout",
          "text": [
            "{} Loss:  tensor(0.0053, device='cuda:0', grad_fn=<NllLossBackward0>)\n",
            "Epoch 14/99\n",
            "----------\n",
            "{} Loss:  "
          ]
        },
        {
          "output_type": "stream",
          "name": "stderr",
          "text": [
            "\r 15%|█▌        | 15/100 [00:02<00:15,  5.55it/s]"
          ]
        },
        {
          "output_type": "stream",
          "name": "stdout",
          "text": [
            "tensor(0.0202, device='cuda:0', grad_fn=<NllLossBackward0>)\n",
            "Epoch 15/99\n",
            "----------\n",
            "{} Loss:  "
          ]
        },
        {
          "output_type": "stream",
          "name": "stderr",
          "text": [
            "\r 16%|█▌        | 16/100 [00:02<00:15,  5.53it/s]"
          ]
        },
        {
          "output_type": "stream",
          "name": "stdout",
          "text": [
            "tensor(0.0290, device='cuda:0', grad_fn=<NllLossBackward0>)\n",
            "Epoch 16/99\n",
            "----------\n"
          ]
        },
        {
          "output_type": "stream",
          "name": "stderr",
          "text": [
            "\r 17%|█▋        | 17/100 [00:03<00:14,  5.56it/s]"
          ]
        },
        {
          "output_type": "stream",
          "name": "stdout",
          "text": [
            "{} Loss:  tensor(0.0471, device='cuda:0', grad_fn=<NllLossBackward0>)\n",
            "Epoch 17/99\n",
            "----------\n",
            "{} Loss:  "
          ]
        },
        {
          "output_type": "stream",
          "name": "stderr",
          "text": [
            "\r 18%|█▊        | 18/100 [00:03<00:14,  5.56it/s]"
          ]
        },
        {
          "output_type": "stream",
          "name": "stdout",
          "text": [
            "tensor(0.0711, device='cuda:0', grad_fn=<NllLossBackward0>)\n",
            "Epoch 18/99\n",
            "----------\n",
            "{} Loss:  "
          ]
        },
        {
          "output_type": "stream",
          "name": "stderr",
          "text": [
            "\r 19%|█▉        | 19/100 [00:03<00:14,  5.58it/s]"
          ]
        },
        {
          "output_type": "stream",
          "name": "stdout",
          "text": [
            "tensor(0.0124, device='cuda:0', grad_fn=<NllLossBackward0>)\n",
            "Epoch 19/99\n",
            "----------\n"
          ]
        },
        {
          "output_type": "stream",
          "name": "stderr",
          "text": [
            "\r 20%|██        | 20/100 [00:03<00:14,  5.57it/s]"
          ]
        },
        {
          "output_type": "stream",
          "name": "stdout",
          "text": [
            "{} Loss:  tensor(0.0181, device='cuda:0', grad_fn=<NllLossBackward0>)\n",
            "Epoch 20/99\n",
            "----------\n",
            "{} Loss:  "
          ]
        },
        {
          "output_type": "stream",
          "name": "stderr",
          "text": [
            "\r 21%|██        | 21/100 [00:03<00:14,  5.55it/s]"
          ]
        },
        {
          "output_type": "stream",
          "name": "stdout",
          "text": [
            "tensor(0.1684, device='cuda:0', grad_fn=<NllLossBackward0>)\n",
            "Epoch 21/99\n",
            "----------\n",
            "{} Loss:  "
          ]
        },
        {
          "output_type": "stream",
          "name": "stderr",
          "text": [
            "\r 22%|██▏       | 22/100 [00:03<00:14,  5.55it/s]"
          ]
        },
        {
          "output_type": "stream",
          "name": "stdout",
          "text": [
            "tensor(0.0369, device='cuda:0', grad_fn=<NllLossBackward0>)\n",
            "Epoch 22/99\n",
            "----------\n"
          ]
        },
        {
          "output_type": "stream",
          "name": "stderr",
          "text": [
            "\r 23%|██▎       | 23/100 [00:04<00:13,  5.58it/s]"
          ]
        },
        {
          "output_type": "stream",
          "name": "stdout",
          "text": [
            "{} Loss:  tensor(0.0264, device='cuda:0', grad_fn=<NllLossBackward0>)\n",
            "Epoch 23/99\n",
            "----------\n",
            "{} Loss:  "
          ]
        },
        {
          "output_type": "stream",
          "name": "stderr",
          "text": [
            "\r 24%|██▍       | 24/100 [00:04<00:13,  5.56it/s]"
          ]
        },
        {
          "output_type": "stream",
          "name": "stdout",
          "text": [
            "tensor(0.0372, device='cuda:0', grad_fn=<NllLossBackward0>)\n",
            "Epoch 24/99\n",
            "----------\n",
            "{} Loss:  "
          ]
        },
        {
          "output_type": "stream",
          "name": "stderr",
          "text": [
            "\r 25%|██▌       | 25/100 [00:04<00:13,  5.54it/s]"
          ]
        },
        {
          "output_type": "stream",
          "name": "stdout",
          "text": [
            "tensor(0.0395, device='cuda:0', grad_fn=<NllLossBackward0>)\n",
            "Epoch 25/99\n",
            "----------\n"
          ]
        },
        {
          "output_type": "stream",
          "name": "stderr",
          "text": [
            "\r 26%|██▌       | 26/100 [00:04<00:13,  5.54it/s]"
          ]
        },
        {
          "output_type": "stream",
          "name": "stdout",
          "text": [
            "{} Loss:  tensor(0.0046, device='cuda:0', grad_fn=<NllLossBackward0>)\n",
            "Epoch 26/99\n",
            "----------\n",
            "{} Loss:  "
          ]
        },
        {
          "output_type": "stream",
          "name": "stderr",
          "text": [
            "\r 27%|██▋       | 27/100 [00:04<00:13,  5.53it/s]"
          ]
        },
        {
          "output_type": "stream",
          "name": "stdout",
          "text": [
            "tensor(0.0002, device='cuda:0', grad_fn=<NllLossBackward0>)\n",
            "Epoch 27/99\n",
            "----------\n",
            "{} Loss:  "
          ]
        },
        {
          "output_type": "stream",
          "name": "stderr",
          "text": [
            "\r 28%|██▊       | 28/100 [00:05<00:12,  5.55it/s]"
          ]
        },
        {
          "output_type": "stream",
          "name": "stdout",
          "text": [
            "tensor(0.0003, device='cuda:0', grad_fn=<NllLossBackward0>)\n",
            "Epoch 28/99\n",
            "----------\n"
          ]
        },
        {
          "output_type": "stream",
          "name": "stderr",
          "text": [
            "\r 29%|██▉       | 29/100 [00:05<00:12,  5.56it/s]"
          ]
        },
        {
          "output_type": "stream",
          "name": "stdout",
          "text": [
            "{} Loss:  tensor(0.0002, device='cuda:0', grad_fn=<NllLossBackward0>)\n",
            "Epoch 29/99\n",
            "----------\n",
            "{} Loss:  "
          ]
        },
        {
          "output_type": "stream",
          "name": "stderr",
          "text": [
            "\r 30%|███       | 30/100 [00:05<00:12,  5.55it/s]"
          ]
        },
        {
          "output_type": "stream",
          "name": "stdout",
          "text": [
            "tensor(0.0001, device='cuda:0', grad_fn=<NllLossBackward0>)\n",
            "Epoch 30/99\n",
            "----------\n",
            "{} Loss:  "
          ]
        },
        {
          "output_type": "stream",
          "name": "stderr",
          "text": [
            "\r 31%|███       | 31/100 [00:05<00:12,  5.56it/s]"
          ]
        },
        {
          "output_type": "stream",
          "name": "stdout",
          "text": [
            "tensor(0.0097, device='cuda:0', grad_fn=<NllLossBackward0>)\n",
            "Epoch 31/99\n",
            "----------\n"
          ]
        },
        {
          "output_type": "stream",
          "name": "stderr",
          "text": [
            "\r 32%|███▏      | 32/100 [00:05<00:12,  5.57it/s]"
          ]
        },
        {
          "output_type": "stream",
          "name": "stdout",
          "text": [
            "{} Loss:  tensor(0.0002, device='cuda:0', grad_fn=<NllLossBackward0>)\n",
            "Epoch 32/99\n",
            "----------\n",
            "{} Loss:  "
          ]
        },
        {
          "output_type": "stream",
          "name": "stderr",
          "text": [
            "\r 33%|███▎      | 33/100 [00:05<00:12,  5.57it/s]"
          ]
        },
        {
          "output_type": "stream",
          "name": "stdout",
          "text": [
            "tensor(9.3862e-05, device='cuda:0', grad_fn=<NllLossBackward0>)\n",
            "Epoch 33/99\n",
            "----------\n",
            "{} Loss:  "
          ]
        },
        {
          "output_type": "stream",
          "name": "stderr",
          "text": [
            "\r 34%|███▍      | 34/100 [00:06<00:11,  5.56it/s]"
          ]
        },
        {
          "output_type": "stream",
          "name": "stdout",
          "text": [
            "tensor(0.0004, device='cuda:0', grad_fn=<NllLossBackward0>)\n",
            "Epoch 34/99\n",
            "----------\n"
          ]
        },
        {
          "output_type": "stream",
          "name": "stderr",
          "text": [
            "\r 35%|███▌      | 35/100 [00:06<00:11,  5.55it/s]"
          ]
        },
        {
          "output_type": "stream",
          "name": "stdout",
          "text": [
            "{} Loss:  tensor(6.4923e-05, device='cuda:0', grad_fn=<NllLossBackward0>)\n",
            "Epoch 35/99\n",
            "----------\n",
            "{} Loss:  "
          ]
        },
        {
          "output_type": "stream",
          "name": "stderr",
          "text": [
            "\r 36%|███▌      | 36/100 [00:06<00:11,  5.55it/s]"
          ]
        },
        {
          "output_type": "stream",
          "name": "stdout",
          "text": [
            "tensor(8.6929e-05, device='cuda:0', grad_fn=<NllLossBackward0>)\n",
            "Epoch 36/99\n",
            "----------\n",
            "{} Loss:  "
          ]
        },
        {
          "output_type": "stream",
          "name": "stderr",
          "text": [
            "\r 37%|███▋      | 37/100 [00:06<00:11,  5.53it/s]"
          ]
        },
        {
          "output_type": "stream",
          "name": "stdout",
          "text": [
            "tensor(0.0001, device='cuda:0', grad_fn=<NllLossBackward0>)\n",
            "Epoch 37/99\n",
            "----------\n"
          ]
        },
        {
          "output_type": "stream",
          "name": "stderr",
          "text": [
            "\r 38%|███▊      | 38/100 [00:06<00:11,  5.56it/s]"
          ]
        },
        {
          "output_type": "stream",
          "name": "stdout",
          "text": [
            "{} Loss:  tensor(4.6771e-05, device='cuda:0', grad_fn=<NllLossBackward0>)\n",
            "Epoch 38/99\n",
            "----------\n",
            "{} Loss:  "
          ]
        },
        {
          "output_type": "stream",
          "name": "stderr",
          "text": [
            "\r 39%|███▉      | 39/100 [00:07<00:10,  5.56it/s]"
          ]
        },
        {
          "output_type": "stream",
          "name": "stdout",
          "text": [
            "tensor(4.7742e-05, device='cuda:0', grad_fn=<NllLossBackward0>)\n",
            "Epoch 39/99\n",
            "----------\n",
            "{} Loss:  "
          ]
        },
        {
          "output_type": "stream",
          "name": "stderr",
          "text": [
            "\r 40%|████      | 40/100 [00:07<00:10,  5.58it/s]"
          ]
        },
        {
          "output_type": "stream",
          "name": "stdout",
          "text": [
            "tensor(6.1079e-05, device='cuda:0', grad_fn=<NllLossBackward0>)\n",
            "Epoch 40/99\n",
            "----------\n"
          ]
        },
        {
          "output_type": "stream",
          "name": "stderr",
          "text": [
            "\r 41%|████      | 41/100 [00:07<00:10,  5.60it/s]"
          ]
        },
        {
          "output_type": "stream",
          "name": "stdout",
          "text": [
            "{} Loss:  tensor(3.7284e-05, device='cuda:0', grad_fn=<NllLossBackward0>)\n",
            "Epoch 41/99\n",
            "----------\n",
            "{} Loss:  "
          ]
        },
        {
          "output_type": "stream",
          "name": "stderr",
          "text": [
            "\r 42%|████▏     | 42/100 [00:07<00:10,  5.59it/s]"
          ]
        },
        {
          "output_type": "stream",
          "name": "stdout",
          "text": [
            "tensor(4.8155e-05, device='cuda:0', grad_fn=<NllLossBackward0>)\n",
            "Epoch 42/99\n",
            "----------\n",
            "{} Loss:  "
          ]
        },
        {
          "output_type": "stream",
          "name": "stderr",
          "text": [
            "\r 43%|████▎     | 43/100 [00:07<00:10,  5.57it/s]"
          ]
        },
        {
          "output_type": "stream",
          "name": "stdout",
          "text": [
            "tensor(7.1954e-05, device='cuda:0', grad_fn=<NllLossBackward0>)\n",
            "Epoch 43/99\n",
            "----------\n"
          ]
        },
        {
          "output_type": "stream",
          "name": "stderr",
          "text": [
            "\r 44%|████▍     | 44/100 [00:07<00:10,  5.55it/s]"
          ]
        },
        {
          "output_type": "stream",
          "name": "stdout",
          "text": [
            "{} Loss:  tensor(7.8264e-05, device='cuda:0', grad_fn=<NllLossBackward0>)\n",
            "Epoch 44/99\n",
            "----------\n",
            "{} Loss:  "
          ]
        },
        {
          "output_type": "stream",
          "name": "stderr",
          "text": [
            "\r 45%|████▌     | 45/100 [00:08<00:09,  5.54it/s]"
          ]
        },
        {
          "output_type": "stream",
          "name": "stdout",
          "text": [
            "tensor(6.0224e-05, device='cuda:0', grad_fn=<NllLossBackward0>)\n",
            "Epoch 45/99\n",
            "----------\n",
            "{} Loss:  "
          ]
        },
        {
          "output_type": "stream",
          "name": "stderr",
          "text": [
            "\r 46%|████▌     | 46/100 [00:08<00:09,  5.54it/s]"
          ]
        },
        {
          "output_type": "stream",
          "name": "stdout",
          "text": [
            "tensor(0.0001, device='cuda:0', grad_fn=<NllLossBackward0>)\n",
            "Epoch 46/99\n",
            "----------\n"
          ]
        },
        {
          "output_type": "stream",
          "name": "stderr",
          "text": [
            "\r 47%|████▋     | 47/100 [00:08<00:09,  5.53it/s]"
          ]
        },
        {
          "output_type": "stream",
          "name": "stdout",
          "text": [
            "{} Loss:  tensor(0.0121, device='cuda:0', grad_fn=<NllLossBackward0>)\n",
            "Epoch 47/99\n",
            "----------\n",
            "{} Loss:  "
          ]
        },
        {
          "output_type": "stream",
          "name": "stderr",
          "text": [
            "\r 48%|████▊     | 48/100 [00:08<00:09,  5.54it/s]"
          ]
        },
        {
          "output_type": "stream",
          "name": "stdout",
          "text": [
            "tensor(7.7042e-05, device='cuda:0', grad_fn=<NllLossBackward0>)\n",
            "Epoch 48/99\n",
            "----------\n",
            "{} Loss:  "
          ]
        },
        {
          "output_type": "stream",
          "name": "stderr",
          "text": [
            "\r 49%|████▉     | 49/100 [00:08<00:09,  5.54it/s]"
          ]
        },
        {
          "output_type": "stream",
          "name": "stdout",
          "text": [
            "tensor(8.9791e-05, device='cuda:0', grad_fn=<NllLossBackward0>)\n",
            "Epoch 49/99\n",
            "----------\n"
          ]
        },
        {
          "output_type": "stream",
          "name": "stderr",
          "text": [
            "\r 50%|█████     | 50/100 [00:09<00:09,  5.54it/s]"
          ]
        },
        {
          "output_type": "stream",
          "name": "stdout",
          "text": [
            "{} Loss:  tensor(4.7847e-05, device='cuda:0', grad_fn=<NllLossBackward0>)\n",
            "Epoch 50/99\n",
            "----------\n",
            "{} Loss:  "
          ]
        },
        {
          "output_type": "stream",
          "name": "stderr",
          "text": [
            "\r 51%|█████     | 51/100 [00:09<00:08,  5.54it/s]"
          ]
        },
        {
          "output_type": "stream",
          "name": "stdout",
          "text": [
            "tensor(6.9574e-05, device='cuda:0', grad_fn=<NllLossBackward0>)\n",
            "Epoch 51/99\n",
            "----------\n",
            "{} Loss:  "
          ]
        },
        {
          "output_type": "stream",
          "name": "stderr",
          "text": [
            "\r 52%|█████▏    | 52/100 [00:09<00:08,  5.55it/s]"
          ]
        },
        {
          "output_type": "stream",
          "name": "stdout",
          "text": [
            "tensor(3.9530e-05, device='cuda:0', grad_fn=<NllLossBackward0>)\n",
            "Epoch 52/99\n",
            "----------\n"
          ]
        },
        {
          "output_type": "stream",
          "name": "stderr",
          "text": [
            "\r 53%|█████▎    | 53/100 [00:09<00:08,  5.55it/s]"
          ]
        },
        {
          "output_type": "stream",
          "name": "stdout",
          "text": [
            "{} Loss:  tensor(4.8240e-05, device='cuda:0', grad_fn=<NllLossBackward0>)\n",
            "Epoch 53/99\n",
            "----------\n",
            "{} Loss:  "
          ]
        },
        {
          "output_type": "stream",
          "name": "stderr",
          "text": [
            "\r 54%|█████▍    | 54/100 [00:09<00:08,  5.53it/s]"
          ]
        },
        {
          "output_type": "stream",
          "name": "stdout",
          "text": [
            "tensor(0.0072, device='cuda:0', grad_fn=<NllLossBackward0>)\n",
            "Epoch 54/99\n",
            "----------\n",
            "{} Loss:  "
          ]
        },
        {
          "output_type": "stream",
          "name": "stderr",
          "text": [
            "\r 55%|█████▌    | 55/100 [00:09<00:08,  5.53it/s]"
          ]
        },
        {
          "output_type": "stream",
          "name": "stdout",
          "text": [
            "tensor(3.6068e-05, device='cuda:0', grad_fn=<NllLossBackward0>)\n",
            "Epoch 55/99\n",
            "----------\n"
          ]
        },
        {
          "output_type": "stream",
          "name": "stderr",
          "text": [
            "\r 56%|█████▌    | 56/100 [00:10<00:07,  5.51it/s]"
          ]
        },
        {
          "output_type": "stream",
          "name": "stdout",
          "text": [
            "{} Loss:  tensor(5.6758e-05, device='cuda:0', grad_fn=<NllLossBackward0>)\n",
            "Epoch 56/99\n",
            "----------\n",
            "{} Loss:  "
          ]
        },
        {
          "output_type": "stream",
          "name": "stderr",
          "text": [
            "\r 57%|█████▋    | 57/100 [00:10<00:07,  5.50it/s]"
          ]
        },
        {
          "output_type": "stream",
          "name": "stdout",
          "text": [
            "tensor(0.0070, device='cuda:0', grad_fn=<NllLossBackward0>)\n",
            "Epoch 57/99\n",
            "----------\n",
            "{} Loss:  "
          ]
        },
        {
          "output_type": "stream",
          "name": "stderr",
          "text": [
            "\r 58%|█████▊    | 58/100 [00:10<00:07,  5.51it/s]"
          ]
        },
        {
          "output_type": "stream",
          "name": "stdout",
          "text": [
            "tensor(0.0058, device='cuda:0', grad_fn=<NllLossBackward0>)\n",
            "Epoch 58/99\n",
            "----------\n"
          ]
        },
        {
          "output_type": "stream",
          "name": "stderr",
          "text": [
            "\r 59%|█████▉    | 59/100 [00:10<00:07,  5.51it/s]"
          ]
        },
        {
          "output_type": "stream",
          "name": "stdout",
          "text": [
            "{} Loss:  tensor(3.8720e-05, device='cuda:0', grad_fn=<NllLossBackward0>)\n",
            "Epoch 59/99\n",
            "----------\n",
            "{} Loss:  "
          ]
        },
        {
          "output_type": "stream",
          "name": "stderr",
          "text": [
            "\r 60%|██████    | 60/100 [00:10<00:07,  5.51it/s]"
          ]
        },
        {
          "output_type": "stream",
          "name": "stdout",
          "text": [
            "tensor(3.1660e-05, device='cuda:0', grad_fn=<NllLossBackward0>)\n",
            "Epoch 60/99\n",
            "----------\n",
            "{} Loss:  "
          ]
        },
        {
          "output_type": "stream",
          "name": "stderr",
          "text": [
            "\r 61%|██████    | 61/100 [00:11<00:07,  5.51it/s]"
          ]
        },
        {
          "output_type": "stream",
          "name": "stdout",
          "text": [
            "tensor(4.4017e-05, device='cuda:0', grad_fn=<NllLossBackward0>)\n",
            "Epoch 61/99\n",
            "----------\n"
          ]
        },
        {
          "output_type": "stream",
          "name": "stderr",
          "text": [
            "\r 62%|██████▏   | 62/100 [00:11<00:06,  5.52it/s]"
          ]
        },
        {
          "output_type": "stream",
          "name": "stdout",
          "text": [
            "{} Loss:  tensor(2.8616e-05, device='cuda:0', grad_fn=<NllLossBackward0>)\n",
            "Epoch 62/99\n",
            "----------\n",
            "{} Loss:  "
          ]
        },
        {
          "output_type": "stream",
          "name": "stderr",
          "text": [
            "\r 63%|██████▎   | 63/100 [00:11<00:06,  5.52it/s]"
          ]
        },
        {
          "output_type": "stream",
          "name": "stdout",
          "text": [
            "tensor(0.0075, device='cuda:0', grad_fn=<NllLossBackward0>)\n",
            "Epoch 63/99\n",
            "----------\n",
            "{} Loss:  "
          ]
        },
        {
          "output_type": "stream",
          "name": "stderr",
          "text": [
            "\r 64%|██████▍   | 64/100 [00:11<00:06,  5.52it/s]"
          ]
        },
        {
          "output_type": "stream",
          "name": "stdout",
          "text": [
            "tensor(1.8718e-05, device='cuda:0', grad_fn=<NllLossBackward0>)\n",
            "Epoch 64/99\n",
            "----------\n"
          ]
        },
        {
          "output_type": "stream",
          "name": "stderr",
          "text": [
            "\r 65%|██████▌   | 65/100 [00:11<00:06,  5.53it/s]"
          ]
        },
        {
          "output_type": "stream",
          "name": "stdout",
          "text": [
            "{} Loss:  tensor(4.0219e-05, device='cuda:0', grad_fn=<NllLossBackward0>)\n",
            "Epoch 65/99\n",
            "----------\n",
            "{} Loss:  "
          ]
        },
        {
          "output_type": "stream",
          "name": "stderr",
          "text": [
            "\r 66%|██████▌   | 66/100 [00:11<00:06,  5.52it/s]"
          ]
        },
        {
          "output_type": "stream",
          "name": "stdout",
          "text": [
            "tensor(3.5647e-05, device='cuda:0', grad_fn=<NllLossBackward0>)\n",
            "Epoch 66/99\n",
            "----------\n",
            "{} Loss:  "
          ]
        },
        {
          "output_type": "stream",
          "name": "stderr",
          "text": [
            "\r 67%|██████▋   | 67/100 [00:12<00:05,  5.51it/s]"
          ]
        },
        {
          "output_type": "stream",
          "name": "stdout",
          "text": [
            "tensor(0.0068, device='cuda:0', grad_fn=<NllLossBackward0>)\n",
            "Epoch 67/99\n",
            "----------\n"
          ]
        },
        {
          "output_type": "stream",
          "name": "stderr",
          "text": [
            "\r 68%|██████▊   | 68/100 [00:12<00:05,  5.52it/s]"
          ]
        },
        {
          "output_type": "stream",
          "name": "stdout",
          "text": [
            "{} Loss:  tensor(1.7636e-05, device='cuda:0', grad_fn=<NllLossBackward0>)\n",
            "Epoch 68/99\n",
            "----------\n",
            "{} Loss:  "
          ]
        },
        {
          "output_type": "stream",
          "name": "stderr",
          "text": [
            "\r 69%|██████▉   | 69/100 [00:12<00:05,  5.53it/s]"
          ]
        },
        {
          "output_type": "stream",
          "name": "stdout",
          "text": [
            "tensor(1.0388e-05, device='cuda:0', grad_fn=<NllLossBackward0>)\n",
            "Epoch 69/99\n",
            "----------\n",
            "{} Loss:  "
          ]
        },
        {
          "output_type": "stream",
          "name": "stderr",
          "text": [
            "\r 70%|███████   | 70/100 [00:12<00:05,  5.54it/s]"
          ]
        },
        {
          "output_type": "stream",
          "name": "stdout",
          "text": [
            "tensor(5.2463e-05, device='cuda:0', grad_fn=<NllLossBackward0>)\n",
            "Epoch 70/99\n",
            "----------\n"
          ]
        },
        {
          "output_type": "stream",
          "name": "stderr",
          "text": [
            "\r 71%|███████   | 71/100 [00:12<00:05,  5.54it/s]"
          ]
        },
        {
          "output_type": "stream",
          "name": "stdout",
          "text": [
            "{} Loss:  tensor(0.0002, device='cuda:0', grad_fn=<NllLossBackward0>)\n",
            "Epoch 71/99\n",
            "----------\n",
            "{} Loss:  "
          ]
        },
        {
          "output_type": "stream",
          "name": "stderr",
          "text": [
            "\r 72%|███████▏  | 72/100 [00:12<00:05,  5.53it/s]"
          ]
        },
        {
          "output_type": "stream",
          "name": "stdout",
          "text": [
            "tensor(3.8456e-05, device='cuda:0', grad_fn=<NllLossBackward0>)\n",
            "Epoch 72/99\n",
            "----------\n",
            "{} Loss:  "
          ]
        },
        {
          "output_type": "stream",
          "name": "stderr",
          "text": [
            "\r 73%|███████▎  | 73/100 [00:13<00:04,  5.53it/s]"
          ]
        },
        {
          "output_type": "stream",
          "name": "stdout",
          "text": [
            "tensor(6.2066e-05, device='cuda:0', grad_fn=<NllLossBackward0>)\n",
            "Epoch 73/99\n",
            "----------\n"
          ]
        },
        {
          "output_type": "stream",
          "name": "stderr",
          "text": [
            "\r 74%|███████▍  | 74/100 [00:13<00:04,  5.56it/s]"
          ]
        },
        {
          "output_type": "stream",
          "name": "stdout",
          "text": [
            "{} Loss:  tensor(6.0009e-05, device='cuda:0', grad_fn=<NllLossBackward0>)\n",
            "Epoch 74/99\n",
            "----------\n",
            "{} Loss:  "
          ]
        },
        {
          "output_type": "stream",
          "name": "stderr",
          "text": [
            "\r 75%|███████▌  | 75/100 [00:13<00:04,  5.56it/s]"
          ]
        },
        {
          "output_type": "stream",
          "name": "stdout",
          "text": [
            "tensor(1.9538e-05, device='cuda:0', grad_fn=<NllLossBackward0>)\n",
            "Epoch 75/99\n",
            "----------\n",
            "{} Loss:  "
          ]
        },
        {
          "output_type": "stream",
          "name": "stderr",
          "text": [
            "\r 76%|███████▌  | 76/100 [00:13<00:04,  5.58it/s]"
          ]
        },
        {
          "output_type": "stream",
          "name": "stdout",
          "text": [
            "tensor(2.9593e-05, device='cuda:0', grad_fn=<NllLossBackward0>)\n",
            "Epoch 76/99\n",
            "----------\n"
          ]
        },
        {
          "output_type": "stream",
          "name": "stderr",
          "text": [
            "\r 77%|███████▋  | 77/100 [00:13<00:04,  5.57it/s]"
          ]
        },
        {
          "output_type": "stream",
          "name": "stdout",
          "text": [
            "{} Loss:  tensor(1.1768e-05, device='cuda:0', grad_fn=<NllLossBackward0>)\n",
            "Epoch 77/99\n",
            "----------\n",
            "{} Loss:  "
          ]
        },
        {
          "output_type": "stream",
          "name": "stderr",
          "text": [
            "\r 78%|███████▊  | 78/100 [00:14<00:03,  5.56it/s]"
          ]
        },
        {
          "output_type": "stream",
          "name": "stdout",
          "text": [
            "tensor(2.7319e-05, device='cuda:0', grad_fn=<NllLossBackward0>)\n",
            "Epoch 78/99\n",
            "----------\n",
            "{} Loss:  "
          ]
        },
        {
          "output_type": "stream",
          "name": "stderr",
          "text": [
            "\r 79%|███████▉  | 79/100 [00:14<00:03,  5.51it/s]"
          ]
        },
        {
          "output_type": "stream",
          "name": "stdout",
          "text": [
            "tensor(0.0071, device='cuda:0', grad_fn=<NllLossBackward0>)\n",
            "Epoch 79/99\n",
            "----------\n"
          ]
        },
        {
          "output_type": "stream",
          "name": "stderr",
          "text": [
            "\r 80%|████████  | 80/100 [00:14<00:03,  5.50it/s]"
          ]
        },
        {
          "output_type": "stream",
          "name": "stdout",
          "text": [
            "{} Loss:  tensor(1.7192e-05, device='cuda:0', grad_fn=<NllLossBackward0>)\n",
            "Epoch 80/99\n",
            "----------\n",
            "{} Loss:  "
          ]
        },
        {
          "output_type": "stream",
          "name": "stderr",
          "text": [
            "\r 81%|████████  | 81/100 [00:14<00:03,  5.51it/s]"
          ]
        },
        {
          "output_type": "stream",
          "name": "stdout",
          "text": [
            "tensor(3.5620e-05, device='cuda:0', grad_fn=<NllLossBackward0>)\n",
            "Epoch 81/99\n",
            "----------\n",
            "{} Loss:  "
          ]
        },
        {
          "output_type": "stream",
          "name": "stderr",
          "text": [
            "\r 82%|████████▏ | 82/100 [00:14<00:03,  5.53it/s]"
          ]
        },
        {
          "output_type": "stream",
          "name": "stdout",
          "text": [
            "tensor(1.4779e-05, device='cuda:0', grad_fn=<NllLossBackward0>)\n",
            "Epoch 82/99\n",
            "----------\n"
          ]
        },
        {
          "output_type": "stream",
          "name": "stderr",
          "text": [
            "\r 83%|████████▎ | 83/100 [00:14<00:03,  5.53it/s]"
          ]
        },
        {
          "output_type": "stream",
          "name": "stdout",
          "text": [
            "{} Loss:  tensor(1.6122e-05, device='cuda:0', grad_fn=<NllLossBackward0>)\n",
            "Epoch 83/99\n",
            "----------\n",
            "{} Loss:  "
          ]
        },
        {
          "output_type": "stream",
          "name": "stderr",
          "text": [
            "\r 84%|████████▍ | 84/100 [00:15<00:02,  5.53it/s]"
          ]
        },
        {
          "output_type": "stream",
          "name": "stdout",
          "text": [
            "tensor(1.1470e-05, device='cuda:0', grad_fn=<NllLossBackward0>)\n",
            "Epoch 84/99\n",
            "----------\n",
            "{} Loss:  "
          ]
        },
        {
          "output_type": "stream",
          "name": "stderr",
          "text": [
            "\r 85%|████████▌ | 85/100 [00:15<00:02,  5.53it/s]"
          ]
        },
        {
          "output_type": "stream",
          "name": "stdout",
          "text": [
            "tensor(2.3884e-05, device='cuda:0', grad_fn=<NllLossBackward0>)\n",
            "Epoch 85/99\n",
            "----------\n"
          ]
        },
        {
          "output_type": "stream",
          "name": "stderr",
          "text": [
            "\r 86%|████████▌ | 86/100 [00:15<00:02,  5.53it/s]"
          ]
        },
        {
          "output_type": "stream",
          "name": "stdout",
          "text": [
            "{} Loss:  tensor(1.3206e-05, device='cuda:0', grad_fn=<NllLossBackward0>)\n",
            "Epoch 86/99\n",
            "----------\n",
            "{} Loss:  "
          ]
        },
        {
          "output_type": "stream",
          "name": "stderr",
          "text": [
            "\r 87%|████████▋ | 87/100 [00:15<00:02,  5.55it/s]"
          ]
        },
        {
          "output_type": "stream",
          "name": "stdout",
          "text": [
            "tensor(1.6761e-05, device='cuda:0', grad_fn=<NllLossBackward0>)\n",
            "Epoch 87/99\n",
            "----------\n",
            "{} Loss:  "
          ]
        },
        {
          "output_type": "stream",
          "name": "stderr",
          "text": [
            "\r 88%|████████▊ | 88/100 [00:15<00:02,  5.56it/s]"
          ]
        },
        {
          "output_type": "stream",
          "name": "stdout",
          "text": [
            "tensor(1.0820e-05, device='cuda:0', grad_fn=<NllLossBackward0>)\n",
            "Epoch 88/99\n",
            "----------\n"
          ]
        },
        {
          "output_type": "stream",
          "name": "stderr",
          "text": [
            "\r 89%|████████▉ | 89/100 [00:16<00:01,  5.55it/s]"
          ]
        },
        {
          "output_type": "stream",
          "name": "stdout",
          "text": [
            "{} Loss:  tensor(0.0073, device='cuda:0', grad_fn=<NllLossBackward0>)\n",
            "Epoch 89/99\n",
            "----------\n",
            "{} Loss:  "
          ]
        },
        {
          "output_type": "stream",
          "name": "stderr",
          "text": [
            "\r 90%|█████████ | 90/100 [00:16<00:01,  5.55it/s]"
          ]
        },
        {
          "output_type": "stream",
          "name": "stdout",
          "text": [
            "tensor(1.3047e-05, device='cuda:0', grad_fn=<NllLossBackward0>)\n",
            "Epoch 90/99\n",
            "----------\n",
            "{} Loss:  "
          ]
        },
        {
          "output_type": "stream",
          "name": "stderr",
          "text": [
            "\r 91%|█████████ | 91/100 [00:16<00:01,  5.52it/s]"
          ]
        },
        {
          "output_type": "stream",
          "name": "stdout",
          "text": [
            "tensor(1.8691e-05, device='cuda:0', grad_fn=<NllLossBackward0>)\n",
            "Epoch 91/99\n",
            "----------\n"
          ]
        },
        {
          "output_type": "stream",
          "name": "stderr",
          "text": [
            "\r 92%|█████████▏| 92/100 [00:16<00:01,  5.52it/s]"
          ]
        },
        {
          "output_type": "stream",
          "name": "stdout",
          "text": [
            "{} Loss:  tensor(6.7678e-06, device='cuda:0', grad_fn=<NllLossBackward0>)\n",
            "Epoch 92/99\n",
            "----------\n",
            "{} Loss:  "
          ]
        },
        {
          "output_type": "stream",
          "name": "stderr",
          "text": [
            "\r 93%|█████████▎| 93/100 [00:16<00:01,  5.53it/s]"
          ]
        },
        {
          "output_type": "stream",
          "name": "stdout",
          "text": [
            "tensor(0.0108, device='cuda:0', grad_fn=<NllLossBackward0>)\n",
            "Epoch 93/99\n",
            "----------\n",
            "{} Loss:  "
          ]
        },
        {
          "output_type": "stream",
          "name": "stderr",
          "text": [
            "\r 94%|█████████▍| 94/100 [00:16<00:01,  5.53it/s]"
          ]
        },
        {
          "output_type": "stream",
          "name": "stdout",
          "text": [
            "tensor(1.3870e-05, device='cuda:0', grad_fn=<NllLossBackward0>)\n",
            "Epoch 94/99\n",
            "----------\n"
          ]
        },
        {
          "output_type": "stream",
          "name": "stderr",
          "text": [
            "\r 95%|█████████▌| 95/100 [00:17<00:00,  5.52it/s]"
          ]
        },
        {
          "output_type": "stream",
          "name": "stdout",
          "text": [
            "{} Loss:  tensor(1.1540e-05, device='cuda:0', grad_fn=<NllLossBackward0>)\n",
            "Epoch 95/99\n",
            "----------\n",
            "{} Loss:  "
          ]
        },
        {
          "output_type": "stream",
          "name": "stderr",
          "text": [
            "\r 96%|█████████▌| 96/100 [00:17<00:00,  5.54it/s]"
          ]
        },
        {
          "output_type": "stream",
          "name": "stdout",
          "text": [
            "tensor(1.3126e-05, device='cuda:0', grad_fn=<NllLossBackward0>)\n",
            "Epoch 96/99\n",
            "----------\n",
            "{} Loss:  "
          ]
        },
        {
          "output_type": "stream",
          "name": "stderr",
          "text": [
            "\r 97%|█████████▋| 97/100 [00:17<00:00,  5.54it/s]"
          ]
        },
        {
          "output_type": "stream",
          "name": "stdout",
          "text": [
            "tensor(1.9414e-05, device='cuda:0', grad_fn=<NllLossBackward0>)\n",
            "Epoch 97/99\n",
            "----------\n"
          ]
        },
        {
          "output_type": "stream",
          "name": "stderr",
          "text": [
            "\r 98%|█████████▊| 98/100 [00:17<00:00,  5.55it/s]"
          ]
        },
        {
          "output_type": "stream",
          "name": "stdout",
          "text": [
            "{} Loss:  tensor(0.0080, device='cuda:0', grad_fn=<NllLossBackward0>)\n",
            "Epoch 98/99\n",
            "----------\n",
            "{} Loss:  "
          ]
        },
        {
          "output_type": "stream",
          "name": "stderr",
          "text": [
            "\r 99%|█████████▉| 99/100 [00:17<00:00,  5.54it/s]"
          ]
        },
        {
          "output_type": "stream",
          "name": "stdout",
          "text": [
            "tensor(1.0279e-05, device='cuda:0', grad_fn=<NllLossBackward0>)\n",
            "Epoch 99/99\n",
            "----------\n",
            "{} Loss:  "
          ]
        },
        {
          "output_type": "stream",
          "name": "stderr",
          "text": [
            "100%|██████████| 100/100 [00:18<00:00,  5.54it/s]"
          ]
        },
        {
          "output_type": "stream",
          "name": "stdout",
          "text": [
            "tensor(8.7753e-06, device='cuda:0', grad_fn=<NllLossBackward0>)\n"
          ]
        },
        {
          "output_type": "stream",
          "name": "stderr",
          "text": [
            "\n"
          ]
        },
        {
          "output_type": "stream",
          "name": "stdout",
          "text": [
            "\n",
            "------------------------\n",
            "Accuracy: 90.87193460490464\n",
            "-----------------------------\n"
          ]
        }
      ]
    },
    {
      "cell_type": "code",
      "source": [
        "a.eval(X_test, y_test)"
      ],
      "metadata": {
        "colab": {
          "base_uri": "https://localhost:8080/"
        },
        "id": "uJQhYhJl8dkD",
        "outputId": "4879f2d8-f8ce-4d17-aad6-1962cb23b6f7"
      },
      "execution_count": null,
      "outputs": [
        {
          "output_type": "stream",
          "name": "stdout",
          "text": [
            "\n",
            "------------------------\n",
            "Accuracy: 90.87193460490464\n",
            "-----------------------------\n"
          ]
        }
      ]
    },
    {
      "cell_type": "markdown",
      "source": [
        "# UMAP : Train-Test"
      ],
      "metadata": {
        "id": "2lNQ2oW3v1Ty"
      }
    },
    {
      "cell_type": "code",
      "source": [
        "#funcsvd, funcumap, autoencode1\n",
        "f_reduced = funcumap(f_all)"
      ],
      "metadata": {
        "id": "sOy1D5Yl5Oas"
      },
      "execution_count": null,
      "outputs": []
    },
    {
      "cell_type": "code",
      "source": [
        "X_train, X_test,y_train,  y_test = train_test_split(f_reduced,y_all, test_size=0.2, random_state=0)\n",
        "print(X_test)\n",
        "print(len(X_train), len(X_train[0]), len(X_test), len(X_test[0]))\n",
        "c = MLP(len(X_train[0]))\n",
        "c.train(X_train, y_train)"
      ],
      "metadata": {
        "colab": {
          "base_uri": "https://localhost:8080/"
        },
        "id": "00Bby49X5TUG",
        "outputId": "ec1b16e0-e727-4c12-cc48-0225dd892580"
      },
      "execution_count": null,
      "outputs": [
        {
          "output_type": "stream",
          "name": "stdout",
          "text": [
            "[[-3.7132633   1.2334253 ]\n",
            " [ 1.3059366  -0.5873665 ]\n",
            " [ 0.2195643  -0.25338644]\n",
            " ...\n",
            " [ 6.023107   -0.08438105]\n",
            " [ 2.0885084  -3.3042884 ]\n",
            " [ 5.1254644   1.5365621 ]]\n",
            "2936 2 734 2\n"
          ]
        },
        {
          "output_type": "stream",
          "name": "stderr",
          "text": [
            "  1%|          | 1/100 [00:00<00:14,  6.85it/s]"
          ]
        },
        {
          "output_type": "stream",
          "name": "stdout",
          "text": [
            "Epoch 0/99\n",
            "----------\n",
            "{} Loss:  tensor(0.5292, device='cuda:0', grad_fn=<NllLossBackward0>)\n",
            "Epoch 1/99\n",
            "----------\n"
          ]
        },
        {
          "output_type": "stream",
          "name": "stderr",
          "text": [
            "  3%|▎         | 3/100 [00:00<00:13,  6.93it/s]"
          ]
        },
        {
          "output_type": "stream",
          "name": "stdout",
          "text": [
            "{} Loss:  tensor(0.4173, device='cuda:0', grad_fn=<NllLossBackward0>)\n",
            "Epoch 2/99\n",
            "----------\n",
            "{} Loss:  tensor(0.5776, device='cuda:0', grad_fn=<NllLossBackward0>)\n",
            "Epoch 3/99\n",
            "----------\n"
          ]
        },
        {
          "output_type": "stream",
          "name": "stderr",
          "text": [
            "  5%|▌         | 5/100 [00:00<00:13,  6.84it/s]"
          ]
        },
        {
          "output_type": "stream",
          "name": "stdout",
          "text": [
            "{} Loss:  tensor(0.5357, device='cuda:0', grad_fn=<NllLossBackward0>)\n",
            "Epoch 4/99\n",
            "----------\n",
            "{} Loss:  tensor(0.4369, device='cuda:0', grad_fn=<NllLossBackward0>)\n",
            "Epoch 5/99\n",
            "----------\n"
          ]
        },
        {
          "output_type": "stream",
          "name": "stderr",
          "text": [
            "  7%|▋         | 7/100 [00:01<00:13,  6.78it/s]"
          ]
        },
        {
          "output_type": "stream",
          "name": "stdout",
          "text": [
            "{} Loss:  tensor(0.3847, device='cuda:0', grad_fn=<NllLossBackward0>)\n",
            "Epoch 6/99\n",
            "----------\n",
            "{} Loss:  tensor(0.6480, device='cuda:0', grad_fn=<NllLossBackward0>)\n",
            "Epoch 7/99\n",
            "----------\n"
          ]
        },
        {
          "output_type": "stream",
          "name": "stderr",
          "text": [
            "  9%|▉         | 9/100 [00:01<00:13,  6.87it/s]"
          ]
        },
        {
          "output_type": "stream",
          "name": "stdout",
          "text": [
            "{} Loss:  tensor(0.4869, device='cuda:0', grad_fn=<NllLossBackward0>)\n",
            "Epoch 8/99\n",
            "----------\n",
            "{} Loss:  tensor(0.5619, device='cuda:0', grad_fn=<NllLossBackward0>)\n",
            "Epoch 9/99\n",
            "----------\n"
          ]
        },
        {
          "output_type": "stream",
          "name": "stderr",
          "text": [
            " 11%|█         | 11/100 [00:01<00:12,  6.88it/s]"
          ]
        },
        {
          "output_type": "stream",
          "name": "stdout",
          "text": [
            "{} Loss:  tensor(0.4572, device='cuda:0', grad_fn=<NllLossBackward0>)\n",
            "Epoch 10/99\n",
            "----------\n",
            "{} Loss:  tensor(0.4980, device='cuda:0', grad_fn=<NllLossBackward0>)\n",
            "Epoch 11/99\n",
            "----------\n"
          ]
        },
        {
          "output_type": "stream",
          "name": "stderr",
          "text": [
            " 13%|█▎        | 13/100 [00:01<00:12,  7.08it/s]"
          ]
        },
        {
          "output_type": "stream",
          "name": "stdout",
          "text": [
            "{} Loss:  tensor(0.3319, device='cuda:0', grad_fn=<NllLossBackward0>)\n",
            "Epoch 12/99\n",
            "----------\n",
            "{} Loss:  tensor(0.6985, device='cuda:0', grad_fn=<NllLossBackward0>)\n",
            "Epoch 13/99\n",
            "----------\n"
          ]
        },
        {
          "output_type": "stream",
          "name": "stderr",
          "text": [
            " 15%|█▌        | 15/100 [00:02<00:11,  7.24it/s]"
          ]
        },
        {
          "output_type": "stream",
          "name": "stdout",
          "text": [
            "{} Loss:  tensor(0.6038, device='cuda:0', grad_fn=<NllLossBackward0>)\n",
            "Epoch 14/99\n",
            "----------\n",
            "{} Loss:  tensor(0.3420, device='cuda:0', grad_fn=<NllLossBackward0>)\n",
            "Epoch 15/99\n",
            "----------\n"
          ]
        },
        {
          "output_type": "stream",
          "name": "stderr",
          "text": [
            " 17%|█▋        | 17/100 [00:02<00:11,  7.23it/s]"
          ]
        },
        {
          "output_type": "stream",
          "name": "stdout",
          "text": [
            "{} Loss:  tensor(0.5037, device='cuda:0', grad_fn=<NllLossBackward0>)\n",
            "Epoch 16/99\n",
            "----------\n",
            "{} Loss:  tensor(0.4698, device='cuda:0', grad_fn=<NllLossBackward0>)\n",
            "Epoch 17/99\n",
            "----------\n"
          ]
        },
        {
          "output_type": "stream",
          "name": "stderr",
          "text": [
            " 19%|█▉        | 19/100 [00:02<00:11,  7.10it/s]"
          ]
        },
        {
          "output_type": "stream",
          "name": "stdout",
          "text": [
            "{} Loss:  tensor(0.5607, device='cuda:0', grad_fn=<NllLossBackward0>)\n",
            "Epoch 18/99\n",
            "----------\n",
            "{} Loss:  tensor(0.3632, device='cuda:0', grad_fn=<NllLossBackward0>)\n",
            "Epoch 19/99\n",
            "----------\n"
          ]
        },
        {
          "output_type": "stream",
          "name": "stderr",
          "text": [
            " 21%|██        | 21/100 [00:03<00:11,  6.87it/s]"
          ]
        },
        {
          "output_type": "stream",
          "name": "stdout",
          "text": [
            "{} Loss:  tensor(0.4411, device='cuda:0', grad_fn=<NllLossBackward0>)\n",
            "Epoch 20/99\n",
            "----------\n",
            "{} Loss:  tensor(0.4684, device='cuda:0', grad_fn=<NllLossBackward0>)\n",
            "Epoch 21/99\n",
            "----------\n"
          ]
        },
        {
          "output_type": "stream",
          "name": "stderr",
          "text": [
            " 23%|██▎       | 23/100 [00:03<00:11,  6.92it/s]"
          ]
        },
        {
          "output_type": "stream",
          "name": "stdout",
          "text": [
            "{} Loss:  tensor(0.5389, device='cuda:0', grad_fn=<NllLossBackward0>)\n",
            "Epoch 22/99\n",
            "----------\n",
            "{} Loss:  tensor(0.5098, device='cuda:0', grad_fn=<NllLossBackward0>)\n",
            "Epoch 23/99\n",
            "----------\n"
          ]
        },
        {
          "output_type": "stream",
          "name": "stderr",
          "text": [
            " 25%|██▌       | 25/100 [00:03<00:11,  6.61it/s]"
          ]
        },
        {
          "output_type": "stream",
          "name": "stdout",
          "text": [
            "{} Loss:  tensor(0.4894, device='cuda:0', grad_fn=<NllLossBackward0>)\n",
            "Epoch 24/99\n",
            "----------\n",
            "{} Loss:  tensor(0.5222, device='cuda:0', grad_fn=<NllLossBackward0>)\n",
            "Epoch 25/99\n",
            "----------\n"
          ]
        },
        {
          "output_type": "stream",
          "name": "stderr",
          "text": [
            " 27%|██▋       | 27/100 [00:03<00:10,  6.84it/s]"
          ]
        },
        {
          "output_type": "stream",
          "name": "stdout",
          "text": [
            "{} Loss:  tensor(0.4627, device='cuda:0', grad_fn=<NllLossBackward0>)\n",
            "Epoch 26/99\n",
            "----------\n",
            "{} Loss:  tensor(0.5353, device='cuda:0', grad_fn=<NllLossBackward0>)\n",
            "Epoch 27/99\n",
            "----------\n"
          ]
        },
        {
          "output_type": "stream",
          "name": "stderr",
          "text": [
            " 29%|██▉       | 29/100 [00:04<00:10,  6.89it/s]"
          ]
        },
        {
          "output_type": "stream",
          "name": "stdout",
          "text": [
            "{} Loss:  tensor(0.5039, device='cuda:0', grad_fn=<NllLossBackward0>)\n",
            "Epoch 28/99\n",
            "----------\n",
            "{} Loss:  tensor(0.3970, device='cuda:0', grad_fn=<NllLossBackward0>)\n",
            "Epoch 29/99\n",
            "----------\n"
          ]
        },
        {
          "output_type": "stream",
          "name": "stderr",
          "text": [
            " 31%|███       | 31/100 [00:04<00:09,  7.08it/s]"
          ]
        },
        {
          "output_type": "stream",
          "name": "stdout",
          "text": [
            "{} Loss:  tensor(0.4700, device='cuda:0', grad_fn=<NllLossBackward0>)\n",
            "Epoch 30/99\n",
            "----------\n",
            "{} Loss:  tensor(0.3664, device='cuda:0', grad_fn=<NllLossBackward0>)\n",
            "Epoch 31/99\n",
            "----------\n"
          ]
        },
        {
          "output_type": "stream",
          "name": "stderr",
          "text": [
            " 33%|███▎      | 33/100 [00:04<00:09,  7.06it/s]"
          ]
        },
        {
          "output_type": "stream",
          "name": "stdout",
          "text": [
            "{} Loss:  tensor(0.5831, device='cuda:0', grad_fn=<NllLossBackward0>)\n",
            "Epoch 32/99\n",
            "----------\n",
            "{} Loss:  tensor(0.3712, device='cuda:0', grad_fn=<NllLossBackward0>)\n",
            "Epoch 33/99\n",
            "----------\n"
          ]
        },
        {
          "output_type": "stream",
          "name": "stderr",
          "text": [
            " 35%|███▌      | 35/100 [00:05<00:09,  6.94it/s]"
          ]
        },
        {
          "output_type": "stream",
          "name": "stdout",
          "text": [
            "{} Loss:  tensor(0.5151, device='cuda:0', grad_fn=<NllLossBackward0>)\n",
            "Epoch 34/99\n",
            "----------\n",
            "{} Loss:  tensor(0.5843, device='cuda:0', grad_fn=<NllLossBackward0>)\n",
            "Epoch 35/99\n",
            "----------\n"
          ]
        },
        {
          "output_type": "stream",
          "name": "stderr",
          "text": [
            " 37%|███▋      | 37/100 [00:05<00:09,  6.98it/s]"
          ]
        },
        {
          "output_type": "stream",
          "name": "stdout",
          "text": [
            "{} Loss:  tensor(0.2643, device='cuda:0', grad_fn=<NllLossBackward0>)\n",
            "Epoch 36/99\n",
            "----------\n",
            "{} Loss:  tensor(0.4322, device='cuda:0', grad_fn=<NllLossBackward0>)\n",
            "Epoch 37/99\n",
            "----------\n"
          ]
        },
        {
          "output_type": "stream",
          "name": "stderr",
          "text": [
            " 39%|███▉      | 39/100 [00:05<00:08,  6.79it/s]"
          ]
        },
        {
          "output_type": "stream",
          "name": "stdout",
          "text": [
            "{} Loss:  tensor(0.5621, device='cuda:0', grad_fn=<NllLossBackward0>)\n",
            "Epoch 38/99\n",
            "----------\n",
            "{} Loss:  tensor(0.4219, device='cuda:0', grad_fn=<NllLossBackward0>)\n",
            "Epoch 39/99\n",
            "----------\n"
          ]
        },
        {
          "output_type": "stream",
          "name": "stderr",
          "text": [
            " 41%|████      | 41/100 [00:05<00:08,  6.88it/s]"
          ]
        },
        {
          "output_type": "stream",
          "name": "stdout",
          "text": [
            "{} Loss:  tensor(0.4766, device='cuda:0', grad_fn=<NllLossBackward0>)\n",
            "Epoch 40/99\n",
            "----------\n",
            "{} Loss:  tensor(0.5194, device='cuda:0', grad_fn=<NllLossBackward0>)\n",
            "Epoch 41/99\n",
            "----------\n"
          ]
        },
        {
          "output_type": "stream",
          "name": "stderr",
          "text": [
            " 43%|████▎     | 43/100 [00:06<00:08,  6.99it/s]"
          ]
        },
        {
          "output_type": "stream",
          "name": "stdout",
          "text": [
            "{} Loss:  tensor(0.4489, device='cuda:0', grad_fn=<NllLossBackward0>)\n",
            "Epoch 42/99\n",
            "----------\n",
            "{} Loss:  tensor(0.3917, device='cuda:0', grad_fn=<NllLossBackward0>)\n",
            "Epoch 43/99\n",
            "----------\n"
          ]
        },
        {
          "output_type": "stream",
          "name": "stderr",
          "text": [
            " 45%|████▌     | 45/100 [00:06<00:08,  6.84it/s]"
          ]
        },
        {
          "output_type": "stream",
          "name": "stdout",
          "text": [
            "{} Loss:  tensor(0.5393, device='cuda:0', grad_fn=<NllLossBackward0>)\n",
            "Epoch 44/99\n",
            "----------\n",
            "{} Loss:  tensor(0.4257, device='cuda:0', grad_fn=<NllLossBackward0>)\n",
            "Epoch 45/99\n",
            "----------\n"
          ]
        },
        {
          "output_type": "stream",
          "name": "stderr",
          "text": [
            " 47%|████▋     | 47/100 [00:06<00:07,  6.87it/s]"
          ]
        },
        {
          "output_type": "stream",
          "name": "stdout",
          "text": [
            "{} Loss:  tensor(0.5135, device='cuda:0', grad_fn=<NllLossBackward0>)\n",
            "Epoch 46/99\n",
            "----------\n",
            "{} Loss:  tensor(0.4368, device='cuda:0', grad_fn=<NllLossBackward0>)\n",
            "Epoch 47/99\n",
            "----------\n"
          ]
        },
        {
          "output_type": "stream",
          "name": "stderr",
          "text": [
            " 49%|████▉     | 49/100 [00:07<00:07,  6.95it/s]"
          ]
        },
        {
          "output_type": "stream",
          "name": "stdout",
          "text": [
            "{} Loss:  tensor(0.4796, device='cuda:0', grad_fn=<NllLossBackward0>)\n",
            "Epoch 48/99\n",
            "----------\n",
            "{} Loss:  tensor(0.4688, device='cuda:0', grad_fn=<NllLossBackward0>)\n",
            "Epoch 49/99\n",
            "----------\n"
          ]
        },
        {
          "output_type": "stream",
          "name": "stderr",
          "text": [
            " 51%|█████     | 51/100 [00:07<00:07,  6.88it/s]"
          ]
        },
        {
          "output_type": "stream",
          "name": "stdout",
          "text": [
            "{} Loss:  tensor(0.5442, device='cuda:0', grad_fn=<NllLossBackward0>)\n",
            "Epoch 50/99\n",
            "----------\n",
            "{} Loss:  tensor(0.4314, device='cuda:0', grad_fn=<NllLossBackward0>)\n",
            "Epoch 51/99\n",
            "----------\n"
          ]
        },
        {
          "output_type": "stream",
          "name": "stderr",
          "text": [
            " 53%|█████▎    | 53/100 [00:07<00:07,  6.69it/s]"
          ]
        },
        {
          "output_type": "stream",
          "name": "stdout",
          "text": [
            "{} Loss:  tensor(0.4377, device='cuda:0', grad_fn=<NllLossBackward0>)\n",
            "Epoch 52/99\n",
            "----------\n",
            "{} Loss:  tensor(0.4711, device='cuda:0', grad_fn=<NllLossBackward0>)\n",
            "Epoch 53/99\n",
            "----------\n"
          ]
        },
        {
          "output_type": "stream",
          "name": "stderr",
          "text": [
            " 55%|█████▌    | 55/100 [00:07<00:06,  6.84it/s]"
          ]
        },
        {
          "output_type": "stream",
          "name": "stdout",
          "text": [
            "{} Loss:  tensor(0.4059, device='cuda:0', grad_fn=<NllLossBackward0>)\n",
            "Epoch 54/99\n",
            "----------\n",
            "{} Loss:  tensor(0.4961, device='cuda:0', grad_fn=<NllLossBackward0>)\n",
            "Epoch 55/99\n",
            "----------\n"
          ]
        },
        {
          "output_type": "stream",
          "name": "stderr",
          "text": [
            " 57%|█████▋    | 57/100 [00:08<00:06,  6.90it/s]"
          ]
        },
        {
          "output_type": "stream",
          "name": "stdout",
          "text": [
            "{} Loss:  tensor(0.4644, device='cuda:0', grad_fn=<NllLossBackward0>)\n",
            "Epoch 56/99\n",
            "----------\n",
            "{} Loss:  tensor(0.3697, device='cuda:0', grad_fn=<NllLossBackward0>)\n",
            "Epoch 57/99\n",
            "----------\n"
          ]
        },
        {
          "output_type": "stream",
          "name": "stderr",
          "text": [
            " 59%|█████▉    | 59/100 [00:08<00:05,  6.90it/s]"
          ]
        },
        {
          "output_type": "stream",
          "name": "stdout",
          "text": [
            "{} Loss:  tensor(0.4605, device='cuda:0', grad_fn=<NllLossBackward0>)\n",
            "Epoch 58/99\n",
            "----------\n",
            "{} Loss:  tensor(0.5721, device='cuda:0', grad_fn=<NllLossBackward0>)\n",
            "Epoch 59/99\n",
            "----------\n"
          ]
        },
        {
          "output_type": "stream",
          "name": "stderr",
          "text": [
            " 61%|██████    | 61/100 [00:08<00:05,  6.60it/s]"
          ]
        },
        {
          "output_type": "stream",
          "name": "stdout",
          "text": [
            "{} Loss:  tensor(0.4499, device='cuda:0', grad_fn=<NllLossBackward0>)\n",
            "Epoch 60/99\n",
            "----------\n",
            "{} Loss:  tensor(0.4426, device='cuda:0', grad_fn=<NllLossBackward0>)\n",
            "Epoch 61/99\n",
            "----------\n"
          ]
        },
        {
          "output_type": "stream",
          "name": "stderr",
          "text": [
            " 63%|██████▎   | 63/100 [00:09<00:05,  6.61it/s]"
          ]
        },
        {
          "output_type": "stream",
          "name": "stdout",
          "text": [
            "{} Loss:  tensor(0.4003, device='cuda:0', grad_fn=<NllLossBackward0>)\n",
            "Epoch 62/99\n",
            "----------\n",
            "{} Loss:  tensor(0.4668, device='cuda:0', grad_fn=<NllLossBackward0>)\n",
            "Epoch 63/99\n",
            "----------\n"
          ]
        },
        {
          "output_type": "stream",
          "name": "stderr",
          "text": [
            "\r 64%|██████▍   | 64/100 [00:09<00:06,  5.57it/s]"
          ]
        },
        {
          "output_type": "stream",
          "name": "stdout",
          "text": [
            "{} Loss:  tensor(0.4958, device='cuda:0', grad_fn=<NllLossBackward0>)\n",
            "Epoch 64/99\n",
            "----------\n"
          ]
        },
        {
          "output_type": "stream",
          "name": "stderr",
          "text": [
            " 66%|██████▌   | 66/100 [00:09<00:06,  4.90it/s]"
          ]
        },
        {
          "output_type": "stream",
          "name": "stdout",
          "text": [
            "{} Loss:  tensor(0.4654, device='cuda:0', grad_fn=<NllLossBackward0>)\n",
            "Epoch 65/99\n",
            "----------\n",
            "{} Loss:  tensor(0.5492, device='cuda:0', grad_fn=<NllLossBackward0>)\n",
            "Epoch 66/99\n",
            "----------\n"
          ]
        },
        {
          "output_type": "stream",
          "name": "stderr",
          "text": [
            " 68%|██████▊   | 68/100 [00:10<00:06,  4.60it/s]"
          ]
        },
        {
          "output_type": "stream",
          "name": "stdout",
          "text": [
            "{} Loss:  tensor(0.3516, device='cuda:0', grad_fn=<NllLossBackward0>)\n",
            "Epoch 67/99\n",
            "----------\n",
            "{} Loss:  tensor(0.5297, device='cuda:0', grad_fn=<NllLossBackward0>)\n",
            "Epoch 68/99\n",
            "----------\n"
          ]
        },
        {
          "output_type": "stream",
          "name": "stderr",
          "text": [
            "\r 69%|██████▉   | 69/100 [00:10<00:06,  4.61it/s]"
          ]
        },
        {
          "output_type": "stream",
          "name": "stdout",
          "text": [
            "{} Loss:  tensor(0.5117, device='cuda:0', grad_fn=<NllLossBackward0>)\n",
            "Epoch 69/99\n",
            "----------\n"
          ]
        },
        {
          "output_type": "stream",
          "name": "stderr",
          "text": [
            " 71%|███████   | 71/100 [00:10<00:05,  5.12it/s]"
          ]
        },
        {
          "output_type": "stream",
          "name": "stdout",
          "text": [
            "{} Loss:  tensor(0.6094, device='cuda:0', grad_fn=<NllLossBackward0>)\n",
            "Epoch 70/99\n",
            "----------\n",
            "{} Loss:  tensor(0.6313, device='cuda:0', grad_fn=<NllLossBackward0>)\n",
            "Epoch 71/99\n",
            "----------\n"
          ]
        },
        {
          "output_type": "stream",
          "name": "stderr",
          "text": [
            "\r 72%|███████▏  | 72/100 [00:11<00:05,  5.24it/s]"
          ]
        },
        {
          "output_type": "stream",
          "name": "stdout",
          "text": [
            "{} Loss:  tensor(0.4941, device='cuda:0', grad_fn=<NllLossBackward0>)\n",
            "Epoch 72/99\n",
            "----------\n"
          ]
        },
        {
          "output_type": "stream",
          "name": "stderr",
          "text": [
            " 74%|███████▍  | 74/100 [00:11<00:04,  5.38it/s]"
          ]
        },
        {
          "output_type": "stream",
          "name": "stdout",
          "text": [
            "{} Loss:  tensor(0.4282, device='cuda:0', grad_fn=<NllLossBackward0>)\n",
            "Epoch 73/99\n",
            "----------\n",
            "{} Loss:  tensor(0.3620, device='cuda:0', grad_fn=<NllLossBackward0>)\n",
            "Epoch 74/99\n",
            "----------\n"
          ]
        },
        {
          "output_type": "stream",
          "name": "stderr",
          "text": [
            " 76%|███████▌  | 76/100 [00:11<00:04,  5.15it/s]"
          ]
        },
        {
          "output_type": "stream",
          "name": "stdout",
          "text": [
            "{} Loss:  tensor(0.4523, device='cuda:0', grad_fn=<NllLossBackward0>)\n",
            "Epoch 75/99\n",
            "----------\n",
            "{} Loss:  tensor(0.5105, device='cuda:0', grad_fn=<NllLossBackward0>)\n",
            "Epoch 76/99\n",
            "----------\n"
          ]
        },
        {
          "output_type": "stream",
          "name": "stderr",
          "text": [
            " 78%|███████▊  | 78/100 [00:12<00:04,  5.28it/s]"
          ]
        },
        {
          "output_type": "stream",
          "name": "stdout",
          "text": [
            "{} Loss:  tensor(0.4465, device='cuda:0', grad_fn=<NllLossBackward0>)\n",
            "Epoch 77/99\n",
            "----------\n",
            "{} Loss:  tensor(0.5527, device='cuda:0', grad_fn=<NllLossBackward0>)\n"
          ]
        },
        {
          "output_type": "stream",
          "name": "stderr",
          "text": [
            " 80%|████████  | 80/100 [00:12<00:03,  5.68it/s]"
          ]
        },
        {
          "output_type": "stream",
          "name": "stdout",
          "text": [
            "Epoch 78/99\n",
            "----------\n",
            "{} Loss:  tensor(0.3939, device='cuda:0', grad_fn=<NllLossBackward0>)\n",
            "Epoch 79/99\n",
            "----------\n",
            "{} Loss:  tensor(0.3895, device='cuda:0', grad_fn=<NllLossBackward0>)\n",
            "Epoch 80/99\n",
            "----------\n"
          ]
        },
        {
          "output_type": "stream",
          "name": "stderr",
          "text": [
            " 82%|████████▏ | 82/100 [00:12<00:03,  5.80it/s]"
          ]
        },
        {
          "output_type": "stream",
          "name": "stdout",
          "text": [
            "{} Loss:  tensor(0.6147, device='cuda:0', grad_fn=<NllLossBackward0>)\n",
            "Epoch 81/99\n",
            "----------\n",
            "{} Loss:  tensor(0.5321, device='cuda:0', grad_fn=<NllLossBackward0>)\n",
            "Epoch 82/99\n",
            "----------\n"
          ]
        },
        {
          "output_type": "stream",
          "name": "stderr",
          "text": [
            " 84%|████████▍ | 84/100 [00:13<00:02,  5.40it/s]"
          ]
        },
        {
          "output_type": "stream",
          "name": "stdout",
          "text": [
            "{} Loss:  tensor(0.3821, device='cuda:0', grad_fn=<NllLossBackward0>)\n",
            "Epoch 83/99\n",
            "----------\n",
            "{} Loss:  tensor(0.3567, device='cuda:0', grad_fn=<NllLossBackward0>)\n"
          ]
        },
        {
          "output_type": "stream",
          "name": "stderr",
          "text": [
            "\r 85%|████████▌ | 85/100 [00:13<00:02,  5.47it/s]"
          ]
        },
        {
          "output_type": "stream",
          "name": "stdout",
          "text": [
            "Epoch 84/99\n",
            "----------\n",
            "{} Loss:  tensor(0.4226, device='cuda:0', grad_fn=<NllLossBackward0>)\n",
            "Epoch 85/99\n",
            "----------\n"
          ]
        },
        {
          "output_type": "stream",
          "name": "stderr",
          "text": [
            " 87%|████████▋ | 87/100 [00:13<00:02,  5.95it/s]"
          ]
        },
        {
          "output_type": "stream",
          "name": "stdout",
          "text": [
            "{} Loss:  tensor(0.2758, device='cuda:0', grad_fn=<NllLossBackward0>)\n",
            "Epoch 86/99\n",
            "----------\n",
            "{} Loss:  tensor(0.4002, device='cuda:0', grad_fn=<NllLossBackward0>)\n",
            "Epoch 87/99\n",
            "----------\n"
          ]
        },
        {
          "output_type": "stream",
          "name": "stderr",
          "text": [
            " 89%|████████▉ | 89/100 [00:14<00:01,  6.47it/s]"
          ]
        },
        {
          "output_type": "stream",
          "name": "stdout",
          "text": [
            "{} Loss:  tensor(0.3457, device='cuda:0', grad_fn=<NllLossBackward0>)\n",
            "Epoch 88/99\n",
            "----------\n",
            "{} Loss:  tensor(0.4191, device='cuda:0', grad_fn=<NllLossBackward0>)\n",
            "Epoch 89/99\n",
            "----------\n"
          ]
        },
        {
          "output_type": "stream",
          "name": "stderr",
          "text": [
            " 91%|█████████ | 91/100 [00:14<00:01,  6.40it/s]"
          ]
        },
        {
          "output_type": "stream",
          "name": "stdout",
          "text": [
            "{} Loss:  tensor(0.5495, device='cuda:0', grad_fn=<NllLossBackward0>)\n",
            "Epoch 90/99\n",
            "----------\n",
            "{} Loss:  tensor(0.6207, device='cuda:0', grad_fn=<NllLossBackward0>)\n",
            "Epoch 91/99\n",
            "----------\n"
          ]
        },
        {
          "output_type": "stream",
          "name": "stderr",
          "text": [
            " 93%|█████████▎| 93/100 [00:14<00:01,  6.51it/s]"
          ]
        },
        {
          "output_type": "stream",
          "name": "stdout",
          "text": [
            "{} Loss:  tensor(0.5049, device='cuda:0', grad_fn=<NllLossBackward0>)\n",
            "Epoch 92/99\n",
            "----------\n",
            "{} Loss:  tensor(0.4725, device='cuda:0', grad_fn=<NllLossBackward0>)\n",
            "Epoch 93/99\n",
            "----------\n"
          ]
        },
        {
          "output_type": "stream",
          "name": "stderr",
          "text": [
            " 95%|█████████▌| 95/100 [00:15<00:00,  6.62it/s]"
          ]
        },
        {
          "output_type": "stream",
          "name": "stdout",
          "text": [
            "{} Loss:  tensor(0.4647, device='cuda:0', grad_fn=<NllLossBackward0>)\n",
            "Epoch 94/99\n",
            "----------\n",
            "{} Loss:  tensor(0.3513, device='cuda:0', grad_fn=<NllLossBackward0>)\n",
            "Epoch 95/99\n",
            "----------\n"
          ]
        },
        {
          "output_type": "stream",
          "name": "stderr",
          "text": [
            " 97%|█████████▋| 97/100 [00:15<00:00,  6.53it/s]"
          ]
        },
        {
          "output_type": "stream",
          "name": "stdout",
          "text": [
            "{} Loss:  tensor(0.5341, device='cuda:0', grad_fn=<NllLossBackward0>)\n",
            "Epoch 96/99\n",
            "----------\n",
            "{} Loss:  tensor(0.2029, device='cuda:0', grad_fn=<NllLossBackward0>)\n",
            "Epoch 97/99\n",
            "----------\n"
          ]
        },
        {
          "output_type": "stream",
          "name": "stderr",
          "text": [
            " 99%|█████████▉| 99/100 [00:15<00:00,  6.20it/s]"
          ]
        },
        {
          "output_type": "stream",
          "name": "stdout",
          "text": [
            "{} Loss:  tensor(0.4676, device='cuda:0', grad_fn=<NllLossBackward0>)\n",
            "Epoch 98/99\n",
            "----------\n",
            "{} Loss:  tensor(0.4416, device='cuda:0', grad_fn=<NllLossBackward0>)\n",
            "Epoch 99/99\n",
            "----------\n"
          ]
        },
        {
          "output_type": "stream",
          "name": "stderr",
          "text": [
            "100%|██████████| 100/100 [00:15<00:00,  6.30it/s]"
          ]
        },
        {
          "output_type": "stream",
          "name": "stdout",
          "text": [
            "{} Loss:  tensor(0.3725, device='cuda:0', grad_fn=<NllLossBackward0>)\n"
          ]
        },
        {
          "output_type": "stream",
          "name": "stderr",
          "text": [
            "\n"
          ]
        },
        {
          "output_type": "execute_result",
          "data": {
            "text/plain": [
              "MLP(\n",
              "  (model): Sequential(\n",
              "    (0): Linear(in_features=2, out_features=1280, bias=True)\n",
              "    (1): ReLU(inplace=True)\n",
              "    (2): Linear(in_features=1280, out_features=640, bias=True)\n",
              "    (3): ReLU(inplace=True)\n",
              "    (4): Linear(in_features=640, out_features=5, bias=True)\n",
              "    (5): LogSoftmax(dim=1)\n",
              "  )\n",
              ")"
            ]
          },
          "metadata": {},
          "execution_count": 30
        }
      ]
    },
    {
      "cell_type": "code",
      "source": [
        "c.eval(X_test, y_test)"
      ],
      "metadata": {
        "colab": {
          "base_uri": "https://localhost:8080/"
        },
        "id": "Dylaja_Q5W3x",
        "outputId": "530f6a91-cb39-439d-b290-a3df91a08e31"
      },
      "execution_count": null,
      "outputs": [
        {
          "output_type": "stream",
          "name": "stdout",
          "text": [
            "\n",
            "------------------------\n",
            "Accuracy: 86.64850136239782\n",
            "-----------------------------\n"
          ]
        }
      ]
    },
    {
      "cell_type": "markdown",
      "source": [
        "# Autoencoder: Train-Test"
      ],
      "metadata": {
        "id": "dMwu9pgjv5MT"
      }
    },
    {
      "cell_type": "code",
      "source": [
        "#funcsvd, funcumap, autoencode1\n",
        "f_reduced = autoencode1(f_all)"
      ],
      "metadata": {
        "colab": {
          "base_uri": "https://localhost:8080/"
        },
        "id": "mlnu1AK-5aYT",
        "outputId": "e6e4a9ba-38c7-45a8-8dd7-9f9738dbf520"
      },
      "execution_count": null,
      "outputs": [
        {
          "output_type": "stream",
          "name": "stderr",
          "text": [
            "100%|██████████| 100/100 [00:48<00:00,  2.07it/s]"
          ]
        },
        {
          "output_type": "stream",
          "name": "stdout",
          "text": [
            "(3670, 50)\n"
          ]
        },
        {
          "output_type": "stream",
          "name": "stderr",
          "text": [
            "\n"
          ]
        }
      ]
    },
    {
      "cell_type": "code",
      "source": [
        "X_train, X_test,y_train,  y_test = train_test_split(f_reduced,y_all, test_size=0.2, random_state=0)\n",
        "print(X_test)\n",
        "print(len(X_train), len(X_train[0]), len(X_test), len(X_test[0]))\n",
        "d = MLP(len(X_train[0]))\n",
        "d.train(X_train, y_train)"
      ],
      "metadata": {
        "colab": {
          "base_uri": "https://localhost:8080/"
        },
        "id": "8RcF7ErF5ec0",
        "outputId": "e3e5acfb-bfeb-470e-bf79-560ea057d9e6"
      },
      "execution_count": null,
      "outputs": [
        {
          "output_type": "stream",
          "name": "stdout",
          "text": [
            "[[ 17.27768     5.331152   -8.344173  ... -13.762637   -0.4862449\n",
            "   -5.0029554]\n",
            " [  8.82286    -2.0635893  -4.9848504 ...  -9.425858   -0.9881608\n",
            "  -19.82177  ]\n",
            " [ -2.041131   17.399317  -11.289994  ... -13.393878  -11.69753\n",
            "  -23.55314  ]\n",
            " ...\n",
            " [ 15.46832    -1.038958  -14.648314  ...  -8.719301    1.4976957\n",
            "  -36.598125 ]\n",
            " [  3.9986236  -4.5215173 -15.648998  ...  -4.017969   -0.9061427\n",
            "  -27.314114 ]\n",
            " [  9.070723   -5.8126817  -3.732636  ...   0.5773454   0.8295999\n",
            "  -14.195704 ]]\n",
            "2936 50 734 50\n"
          ]
        },
        {
          "output_type": "stream",
          "name": "stderr",
          "text": [
            "\r  0%|          | 0/100 [00:00<?, ?it/s]"
          ]
        },
        {
          "output_type": "stream",
          "name": "stdout",
          "text": [
            "Epoch 0/99\n",
            "----------\n",
            "{} Loss:  tensor(0.4207, device='cuda:0', grad_fn=<NllLossBackward0>)\n",
            "Epoch 1/99\n",
            "----------\n"
          ]
        },
        {
          "output_type": "stream",
          "name": "stderr",
          "text": [
            "\r  2%|▏         | 2/100 [00:00<00:08, 11.98it/s]"
          ]
        },
        {
          "output_type": "stream",
          "name": "stdout",
          "text": [
            "{} Loss:  tensor(0.3812, device='cuda:0', grad_fn=<NllLossBackward0>)\n",
            "Epoch 2/99\n",
            "----------\n"
          ]
        },
        {
          "output_type": "stream",
          "name": "stderr",
          "text": [
            "\r  4%|▍         | 4/100 [00:00<00:07, 12.35it/s]"
          ]
        },
        {
          "output_type": "stream",
          "name": "stdout",
          "text": [
            "{} Loss:  tensor(0.2767, device='cuda:0', grad_fn=<NllLossBackward0>)\n",
            "Epoch 3/99\n",
            "----------\n",
            "{} Loss:  tensor(0.2684, device='cuda:0', grad_fn=<NllLossBackward0>)\n",
            "Epoch 4/99\n",
            "----------\n",
            "{} Loss:  tensor(0.2230, device='cuda:0', grad_fn=<NllLossBackward0>)\n",
            "Epoch 5/99\n",
            "----------\n"
          ]
        },
        {
          "output_type": "stream",
          "name": "stderr",
          "text": [
            "\r  6%|▌         | 6/100 [00:00<00:07, 12.29it/s]"
          ]
        },
        {
          "output_type": "stream",
          "name": "stdout",
          "text": [
            "{} Loss:  tensor(0.1543, device='cuda:0', grad_fn=<NllLossBackward0>)\n",
            "Epoch 6/99\n",
            "----------\n",
            "{} Loss:  tensor(0.1576, device='cuda:0', grad_fn=<NllLossBackward0>)\n",
            "Epoch 7/99\n",
            "----------\n"
          ]
        },
        {
          "output_type": "stream",
          "name": "stderr",
          "text": [
            "\r  8%|▊         | 8/100 [00:00<00:07, 11.96it/s]"
          ]
        },
        {
          "output_type": "stream",
          "name": "stdout",
          "text": [
            "{} Loss:  tensor(0.1908, device='cuda:0', grad_fn=<NllLossBackward0>)\n",
            "Epoch 8/99\n",
            "----------\n"
          ]
        },
        {
          "output_type": "stream",
          "name": "stderr",
          "text": [
            "\r 10%|█         | 10/100 [00:00<00:07, 12.21it/s]"
          ]
        },
        {
          "output_type": "stream",
          "name": "stdout",
          "text": [
            "{} Loss:  tensor(0.0940, device='cuda:0', grad_fn=<NllLossBackward0>)\n",
            "Epoch 9/99\n",
            "----------\n",
            "{} Loss:  tensor(0.1658, device='cuda:0', grad_fn=<NllLossBackward0>)\n",
            "Epoch 10/99\n",
            "----------\n",
            "{} Loss:  tensor(0.1076, device='cuda:0', grad_fn=<NllLossBackward0>)\n",
            "Epoch 11/99\n",
            "----------\n"
          ]
        },
        {
          "output_type": "stream",
          "name": "stderr",
          "text": [
            "\r 12%|█▏        | 12/100 [00:00<00:07, 12.17it/s]"
          ]
        },
        {
          "output_type": "stream",
          "name": "stdout",
          "text": [
            "{} Loss:  tensor(0.1411, device='cuda:0', grad_fn=<NllLossBackward0>)\n",
            "Epoch 12/99\n",
            "----------\n",
            "{} Loss:  tensor(0.1041, device='cuda:0', grad_fn=<NllLossBackward0>)\n",
            "Epoch 13/99\n",
            "----------\n"
          ]
        },
        {
          "output_type": "stream",
          "name": "stderr",
          "text": [
            "\r 14%|█▍        | 14/100 [00:01<00:07, 12.20it/s]"
          ]
        },
        {
          "output_type": "stream",
          "name": "stdout",
          "text": [
            "{} Loss:  tensor(0.0979, device='cuda:0', grad_fn=<NllLossBackward0>)\n",
            "Epoch 14/99\n",
            "----------\n"
          ]
        },
        {
          "output_type": "stream",
          "name": "stderr",
          "text": [
            "\r 16%|█▌        | 16/100 [00:01<00:06, 12.34it/s]"
          ]
        },
        {
          "output_type": "stream",
          "name": "stdout",
          "text": [
            "{} Loss:  tensor(0.1534, device='cuda:0', grad_fn=<NllLossBackward0>)\n",
            "Epoch 15/99\n",
            "----------\n",
            "{} Loss:  tensor(0.0682, device='cuda:0', grad_fn=<NllLossBackward0>)\n",
            "Epoch 16/99\n",
            "----------\n",
            "{} Loss:  tensor(0.0461, device='cuda:0', grad_fn=<NllLossBackward0>)\n",
            "Epoch 17/99\n",
            "----------\n"
          ]
        },
        {
          "output_type": "stream",
          "name": "stderr",
          "text": [
            "\r 18%|█▊        | 18/100 [00:01<00:06, 12.33it/s]"
          ]
        },
        {
          "output_type": "stream",
          "name": "stdout",
          "text": [
            "{} Loss:  tensor(0.0740, device='cuda:0', grad_fn=<NllLossBackward0>)\n",
            "Epoch 18/99\n",
            "----------\n",
            "{} Loss:  tensor(0.0567, device='cuda:0', grad_fn=<NllLossBackward0>)\n",
            "Epoch 19/99\n",
            "----------\n"
          ]
        },
        {
          "output_type": "stream",
          "name": "stderr",
          "text": [
            "\r 20%|██        | 20/100 [00:01<00:06, 12.33it/s]"
          ]
        },
        {
          "output_type": "stream",
          "name": "stdout",
          "text": [
            "{} Loss:  tensor(0.0859, device='cuda:0', grad_fn=<NllLossBackward0>)\n",
            "Epoch 20/99\n",
            "----------\n"
          ]
        },
        {
          "output_type": "stream",
          "name": "stderr",
          "text": [
            "\r 22%|██▏       | 22/100 [00:01<00:06, 12.37it/s]"
          ]
        },
        {
          "output_type": "stream",
          "name": "stdout",
          "text": [
            "{} Loss:  tensor(0.1117, device='cuda:0', grad_fn=<NllLossBackward0>)\n",
            "Epoch 21/99\n",
            "----------\n",
            "{} Loss:  tensor(0.0474, device='cuda:0', grad_fn=<NllLossBackward0>)\n",
            "Epoch 22/99\n",
            "----------\n",
            "{} Loss:  tensor(0.0154, device='cuda:0', grad_fn=<NllLossBackward0>)\n",
            "Epoch 23/99\n",
            "----------\n"
          ]
        },
        {
          "output_type": "stream",
          "name": "stderr",
          "text": [
            "\r 24%|██▍       | 24/100 [00:01<00:06, 12.24it/s]"
          ]
        },
        {
          "output_type": "stream",
          "name": "stdout",
          "text": [
            "{} Loss:  tensor(0.0527, device='cuda:0', grad_fn=<NllLossBackward0>)\n",
            "Epoch 24/99\n",
            "----------\n",
            "{} Loss:  tensor(0.0362, device='cuda:0', grad_fn=<NllLossBackward0>)\n",
            "Epoch 25/99\n",
            "----------\n"
          ]
        },
        {
          "output_type": "stream",
          "name": "stderr",
          "text": [
            "\r 26%|██▌       | 26/100 [00:02<00:06, 12.32it/s]"
          ]
        },
        {
          "output_type": "stream",
          "name": "stdout",
          "text": [
            "{} Loss:  tensor(0.0618, device='cuda:0', grad_fn=<NllLossBackward0>)\n",
            "Epoch 26/99\n",
            "----------\n"
          ]
        },
        {
          "output_type": "stream",
          "name": "stderr",
          "text": [
            "\r 28%|██▊       | 28/100 [00:02<00:05, 12.50it/s]"
          ]
        },
        {
          "output_type": "stream",
          "name": "stdout",
          "text": [
            "{} Loss:  tensor(0.0206, device='cuda:0', grad_fn=<NllLossBackward0>)\n",
            "Epoch 27/99\n",
            "----------\n",
            "{} Loss:  tensor(0.0504, device='cuda:0', grad_fn=<NllLossBackward0>)\n",
            "Epoch 28/99\n",
            "----------\n",
            "{} Loss:  tensor(0.0167, device='cuda:0', grad_fn=<NllLossBackward0>)\n",
            "Epoch 29/99\n",
            "----------\n"
          ]
        },
        {
          "output_type": "stream",
          "name": "stderr",
          "text": [
            "\r 30%|███       | 30/100 [00:02<00:05, 12.48it/s]"
          ]
        },
        {
          "output_type": "stream",
          "name": "stdout",
          "text": [
            "{} Loss:  tensor(0.0064, device='cuda:0', grad_fn=<NllLossBackward0>)\n",
            "Epoch 30/99\n",
            "----------\n",
            "{} Loss:  tensor(0.0078, device='cuda:0', grad_fn=<NllLossBackward0>)\n",
            "Epoch 31/99\n",
            "----------\n"
          ]
        },
        {
          "output_type": "stream",
          "name": "stderr",
          "text": [
            "\r 32%|███▏      | 32/100 [00:02<00:05, 12.55it/s]"
          ]
        },
        {
          "output_type": "stream",
          "name": "stdout",
          "text": [
            "{} Loss:  tensor(0.0166, device='cuda:0', grad_fn=<NllLossBackward0>)\n",
            "Epoch 32/99\n",
            "----------\n"
          ]
        },
        {
          "output_type": "stream",
          "name": "stderr",
          "text": [
            "\r 34%|███▍      | 34/100 [00:02<00:05, 12.23it/s]"
          ]
        },
        {
          "output_type": "stream",
          "name": "stdout",
          "text": [
            "{} Loss:  tensor(0.0137, device='cuda:0', grad_fn=<NllLossBackward0>)\n",
            "Epoch 33/99\n",
            "----------\n",
            "{} Loss:  tensor(0.0042, device='cuda:0', grad_fn=<NllLossBackward0>)\n",
            "Epoch 34/99\n",
            "----------\n",
            "{} Loss:  tensor(0.0039, device='cuda:0', grad_fn=<NllLossBackward0>)\n",
            "Epoch 35/99\n",
            "----------\n"
          ]
        },
        {
          "output_type": "stream",
          "name": "stderr",
          "text": [
            "\r 36%|███▌      | 36/100 [00:02<00:05, 12.33it/s]"
          ]
        },
        {
          "output_type": "stream",
          "name": "stdout",
          "text": [
            "{} Loss:  tensor(0.0017, device='cuda:0', grad_fn=<NllLossBackward0>)\n",
            "Epoch 36/99\n",
            "----------\n",
            "{} Loss:  tensor(0.0025, device='cuda:0', grad_fn=<NllLossBackward0>)\n",
            "Epoch 37/99\n",
            "----------\n"
          ]
        },
        {
          "output_type": "stream",
          "name": "stderr",
          "text": [
            "\r 38%|███▊      | 38/100 [00:03<00:05, 12.35it/s]"
          ]
        },
        {
          "output_type": "stream",
          "name": "stdout",
          "text": [
            "{} Loss:  tensor(0.0026, device='cuda:0', grad_fn=<NllLossBackward0>)\n",
            "Epoch 38/99\n",
            "----------\n"
          ]
        },
        {
          "output_type": "stream",
          "name": "stderr",
          "text": [
            "\r 40%|████      | 40/100 [00:03<00:04, 12.50it/s]"
          ]
        },
        {
          "output_type": "stream",
          "name": "stdout",
          "text": [
            "{} Loss:  tensor(0.0016, device='cuda:0', grad_fn=<NllLossBackward0>)\n",
            "Epoch 39/99\n",
            "----------\n",
            "{} Loss:  tensor(0.0026, device='cuda:0', grad_fn=<NllLossBackward0>)\n",
            "Epoch 40/99\n",
            "----------\n",
            "{} Loss:  tensor(0.0018, device='cuda:0', grad_fn=<NllLossBackward0>)\n",
            "Epoch 41/99\n",
            "----------\n"
          ]
        },
        {
          "output_type": "stream",
          "name": "stderr",
          "text": [
            "\r 42%|████▏     | 42/100 [00:03<00:04, 12.34it/s]"
          ]
        },
        {
          "output_type": "stream",
          "name": "stdout",
          "text": [
            "{} Loss:  tensor(0.0020, device='cuda:0', grad_fn=<NllLossBackward0>)\n",
            "Epoch 42/99\n",
            "----------\n",
            "{} Loss:  tensor(0.0019, device='cuda:0', grad_fn=<NllLossBackward0>)\n",
            "Epoch 43/99\n",
            "----------\n"
          ]
        },
        {
          "output_type": "stream",
          "name": "stderr",
          "text": [
            "\r 44%|████▍     | 44/100 [00:03<00:04, 12.52it/s]"
          ]
        },
        {
          "output_type": "stream",
          "name": "stdout",
          "text": [
            "{} Loss:  tensor(0.0025, device='cuda:0', grad_fn=<NllLossBackward0>)\n",
            "Epoch 44/99\n",
            "----------\n"
          ]
        },
        {
          "output_type": "stream",
          "name": "stderr",
          "text": [
            "\r 46%|████▌     | 46/100 [00:03<00:04, 12.18it/s]"
          ]
        },
        {
          "output_type": "stream",
          "name": "stdout",
          "text": [
            "{} Loss:  tensor(0.0008, device='cuda:0', grad_fn=<NllLossBackward0>)\n",
            "Epoch 45/99\n",
            "----------\n",
            "{} Loss:  tensor(0.0021, device='cuda:0', grad_fn=<NllLossBackward0>)\n",
            "Epoch 46/99\n",
            "----------\n",
            "{} Loss:  tensor(0.0008, device='cuda:0', grad_fn=<NllLossBackward0>)\n",
            "Epoch 47/99\n",
            "----------\n"
          ]
        },
        {
          "output_type": "stream",
          "name": "stderr",
          "text": [
            "\r 48%|████▊     | 48/100 [00:03<00:04, 12.16it/s]"
          ]
        },
        {
          "output_type": "stream",
          "name": "stdout",
          "text": [
            "{} Loss:  tensor(0.0297, device='cuda:0', grad_fn=<NllLossBackward0>)\n",
            "Epoch 48/99\n",
            "----------\n",
            "{} Loss:  tensor(0.0019, device='cuda:0', grad_fn=<NllLossBackward0>)\n",
            "Epoch 49/99\n",
            "----------\n"
          ]
        },
        {
          "output_type": "stream",
          "name": "stderr",
          "text": [
            "\r 50%|█████     | 50/100 [00:04<00:04, 12.26it/s]"
          ]
        },
        {
          "output_type": "stream",
          "name": "stdout",
          "text": [
            "{} Loss:  tensor(0.0010, device='cuda:0', grad_fn=<NllLossBackward0>)\n",
            "Epoch 50/99\n",
            "----------\n"
          ]
        },
        {
          "output_type": "stream",
          "name": "stderr",
          "text": [
            "\r 52%|█████▏    | 52/100 [00:04<00:03, 12.27it/s]"
          ]
        },
        {
          "output_type": "stream",
          "name": "stdout",
          "text": [
            "{} Loss:  tensor(0.0008, device='cuda:0', grad_fn=<NllLossBackward0>)\n",
            "Epoch 51/99\n",
            "----------\n",
            "{} Loss:  tensor(0.0007, device='cuda:0', grad_fn=<NllLossBackward0>)\n",
            "Epoch 52/99\n",
            "----------\n",
            "{} Loss:  tensor(0.0008, device='cuda:0', grad_fn=<NllLossBackward0>)\n",
            "Epoch 53/99\n",
            "----------\n"
          ]
        },
        {
          "output_type": "stream",
          "name": "stderr",
          "text": [
            "\r 54%|█████▍    | 54/100 [00:04<00:03, 12.18it/s]"
          ]
        },
        {
          "output_type": "stream",
          "name": "stdout",
          "text": [
            "{} Loss:  tensor(0.0012, device='cuda:0', grad_fn=<NllLossBackward0>)\n",
            "Epoch 54/99\n",
            "----------\n",
            "{} Loss:  tensor(0.0012, device='cuda:0', grad_fn=<NllLossBackward0>)\n",
            "Epoch 55/99\n",
            "----------\n"
          ]
        },
        {
          "output_type": "stream",
          "name": "stderr",
          "text": [
            "\r 56%|█████▌    | 56/100 [00:04<00:03, 12.33it/s]"
          ]
        },
        {
          "output_type": "stream",
          "name": "stdout",
          "text": [
            "{} Loss:  tensor(0.0009, device='cuda:0', grad_fn=<NllLossBackward0>)\n",
            "Epoch 56/99\n",
            "----------\n"
          ]
        },
        {
          "output_type": "stream",
          "name": "stderr",
          "text": [
            "\r 58%|█████▊    | 58/100 [00:04<00:03, 12.18it/s]"
          ]
        },
        {
          "output_type": "stream",
          "name": "stdout",
          "text": [
            "{} Loss:  tensor(0.0011, device='cuda:0', grad_fn=<NllLossBackward0>)\n",
            "Epoch 57/99\n",
            "----------\n",
            "{} Loss:  tensor(0.0011, device='cuda:0', grad_fn=<NllLossBackward0>)\n",
            "Epoch 58/99\n",
            "----------\n",
            "{} Loss:  tensor(0.0005, device='cuda:0', grad_fn=<NllLossBackward0>)\n",
            "Epoch 59/99\n",
            "----------\n"
          ]
        },
        {
          "output_type": "stream",
          "name": "stderr",
          "text": [
            "\r 60%|██████    | 60/100 [00:04<00:03, 12.08it/s]"
          ]
        },
        {
          "output_type": "stream",
          "name": "stdout",
          "text": [
            "{} Loss:  tensor(0.0010, device='cuda:0', grad_fn=<NllLossBackward0>)\n",
            "Epoch 60/99\n",
            "----------\n",
            "{} Loss:  tensor(0.0007, device='cuda:0', grad_fn=<NllLossBackward0>)\n",
            "Epoch 61/99\n",
            "----------\n"
          ]
        },
        {
          "output_type": "stream",
          "name": "stderr",
          "text": [
            "\r 62%|██████▏   | 62/100 [00:05<00:03, 12.26it/s]"
          ]
        },
        {
          "output_type": "stream",
          "name": "stdout",
          "text": [
            "{} Loss:  tensor(0.0009, device='cuda:0', grad_fn=<NllLossBackward0>)\n",
            "Epoch 62/99\n",
            "----------\n"
          ]
        },
        {
          "output_type": "stream",
          "name": "stderr",
          "text": [
            "\r 64%|██████▍   | 64/100 [00:05<00:02, 12.08it/s]"
          ]
        },
        {
          "output_type": "stream",
          "name": "stdout",
          "text": [
            "{} Loss:  tensor(0.0277, device='cuda:0', grad_fn=<NllLossBackward0>)\n",
            "Epoch 63/99\n",
            "----------\n",
            "{} Loss:  tensor(0.0014, device='cuda:0', grad_fn=<NllLossBackward0>)\n",
            "Epoch 64/99\n",
            "----------\n",
            "{} Loss:  tensor(0.0008, device='cuda:0', grad_fn=<NllLossBackward0>)\n",
            "Epoch 65/99\n",
            "----------\n"
          ]
        },
        {
          "output_type": "stream",
          "name": "stderr",
          "text": [
            "\r 66%|██████▌   | 66/100 [00:05<00:02, 11.94it/s]"
          ]
        },
        {
          "output_type": "stream",
          "name": "stdout",
          "text": [
            "{} Loss:  tensor(0.0005, device='cuda:0', grad_fn=<NllLossBackward0>)\n",
            "Epoch 66/99\n",
            "----------\n",
            "{} Loss:  tensor(0.0009, device='cuda:0', grad_fn=<NllLossBackward0>)\n",
            "Epoch 67/99\n",
            "----------\n"
          ]
        },
        {
          "output_type": "stream",
          "name": "stderr",
          "text": [
            "\r 68%|██████▊   | 68/100 [00:05<00:02, 12.06it/s]"
          ]
        },
        {
          "output_type": "stream",
          "name": "stdout",
          "text": [
            "{} Loss:  tensor(0.0006, device='cuda:0', grad_fn=<NllLossBackward0>)\n",
            "Epoch 68/99\n",
            "----------\n"
          ]
        },
        {
          "output_type": "stream",
          "name": "stderr",
          "text": [
            "\r 70%|███████   | 70/100 [00:05<00:02, 12.11it/s]"
          ]
        },
        {
          "output_type": "stream",
          "name": "stdout",
          "text": [
            "{} Loss:  tensor(0.0007, device='cuda:0', grad_fn=<NllLossBackward0>)\n",
            "Epoch 69/99\n",
            "----------\n",
            "{} Loss:  tensor(0.0004, device='cuda:0', grad_fn=<NllLossBackward0>)\n",
            "Epoch 70/99\n",
            "----------\n",
            "{} Loss:  tensor(0.0004, device='cuda:0', grad_fn=<NllLossBackward0>)\n",
            "Epoch 71/99\n",
            "----------\n"
          ]
        },
        {
          "output_type": "stream",
          "name": "stderr",
          "text": [
            "\r 72%|███████▏  | 72/100 [00:05<00:02, 11.75it/s]"
          ]
        },
        {
          "output_type": "stream",
          "name": "stdout",
          "text": [
            "{} Loss:  tensor(0.0003, device='cuda:0', grad_fn=<NllLossBackward0>)\n",
            "Epoch 72/99\n",
            "----------\n",
            "{} Loss:  tensor(0.0005, device='cuda:0', grad_fn=<NllLossBackward0>)\n",
            "Epoch 73/99\n",
            "----------\n"
          ]
        },
        {
          "output_type": "stream",
          "name": "stderr",
          "text": [
            "\r 74%|███████▍  | 74/100 [00:06<00:02, 11.90it/s]"
          ]
        },
        {
          "output_type": "stream",
          "name": "stdout",
          "text": [
            "{} Loss:  tensor(0.0004, device='cuda:0', grad_fn=<NllLossBackward0>)\n",
            "Epoch 74/99\n",
            "----------\n"
          ]
        },
        {
          "output_type": "stream",
          "name": "stderr",
          "text": [
            "\r 76%|███████▌  | 76/100 [00:06<00:02, 11.89it/s]"
          ]
        },
        {
          "output_type": "stream",
          "name": "stdout",
          "text": [
            "{} Loss:  tensor(0.0248, device='cuda:0', grad_fn=<NllLossBackward0>)\n",
            "Epoch 75/99\n",
            "----------\n",
            "{} Loss:  tensor(0.0011, device='cuda:0', grad_fn=<NllLossBackward0>)\n",
            "Epoch 76/99\n",
            "----------\n",
            "{} Loss:  tensor(0.0286, device='cuda:0', grad_fn=<NllLossBackward0>)\n",
            "Epoch 77/99\n",
            "----------\n"
          ]
        },
        {
          "output_type": "stream",
          "name": "stderr",
          "text": [
            "\r 78%|███████▊  | 78/100 [00:06<00:01, 11.99it/s]"
          ]
        },
        {
          "output_type": "stream",
          "name": "stdout",
          "text": [
            "{} Loss:  tensor(0.1173, device='cuda:0', grad_fn=<NllLossBackward0>)\n",
            "Epoch 78/99\n",
            "----------\n",
            "{} Loss:  tensor(0.3223, device='cuda:0', grad_fn=<NllLossBackward0>)\n",
            "Epoch 79/99\n",
            "----------\n"
          ]
        },
        {
          "output_type": "stream",
          "name": "stderr",
          "text": [
            "\r 80%|████████  | 80/100 [00:06<00:01, 12.24it/s]"
          ]
        },
        {
          "output_type": "stream",
          "name": "stdout",
          "text": [
            "{} Loss:  tensor(0.1819, device='cuda:0', grad_fn=<NllLossBackward0>)\n",
            "Epoch 80/99\n",
            "----------\n"
          ]
        },
        {
          "output_type": "stream",
          "name": "stderr",
          "text": [
            "\r 82%|████████▏ | 82/100 [00:06<00:01, 12.26it/s]"
          ]
        },
        {
          "output_type": "stream",
          "name": "stdout",
          "text": [
            "{} Loss:  tensor(0.0726, device='cuda:0', grad_fn=<NllLossBackward0>)\n",
            "Epoch 81/99\n",
            "----------\n",
            "{} Loss:  tensor(0.0531, device='cuda:0', grad_fn=<NllLossBackward0>)\n",
            "Epoch 82/99\n",
            "----------\n",
            "{} Loss:  tensor(0.0299, device='cuda:0', grad_fn=<NllLossBackward0>)\n",
            "Epoch 83/99\n",
            "----------\n"
          ]
        },
        {
          "output_type": "stream",
          "name": "stderr",
          "text": [
            "\r 84%|████████▍ | 84/100 [00:06<00:01, 11.94it/s]"
          ]
        },
        {
          "output_type": "stream",
          "name": "stdout",
          "text": [
            "{} Loss:  tensor(0.0362, device='cuda:0', grad_fn=<NllLossBackward0>)\n",
            "Epoch 84/99\n",
            "----------\n",
            "{} Loss:  tensor(0.0106, device='cuda:0', grad_fn=<NllLossBackward0>)\n",
            "Epoch 85/99\n",
            "----------\n"
          ]
        },
        {
          "output_type": "stream",
          "name": "stderr",
          "text": [
            "\r 86%|████████▌ | 86/100 [00:07<00:01, 11.99it/s]"
          ]
        },
        {
          "output_type": "stream",
          "name": "stdout",
          "text": [
            "{} Loss:  tensor(0.0077, device='cuda:0', grad_fn=<NllLossBackward0>)\n",
            "Epoch 86/99\n",
            "----------\n"
          ]
        },
        {
          "output_type": "stream",
          "name": "stderr",
          "text": [
            "\r 88%|████████▊ | 88/100 [00:07<00:01, 11.98it/s]"
          ]
        },
        {
          "output_type": "stream",
          "name": "stdout",
          "text": [
            "{} Loss:  tensor(0.0037, device='cuda:0', grad_fn=<NllLossBackward0>)\n",
            "Epoch 87/99\n",
            "----------\n",
            "{} Loss:  tensor(0.0033, device='cuda:0', grad_fn=<NllLossBackward0>)\n",
            "Epoch 88/99\n",
            "----------\n",
            "{} Loss:  tensor(0.0018, device='cuda:0', grad_fn=<NllLossBackward0>)\n",
            "Epoch 89/99\n",
            "----------\n"
          ]
        },
        {
          "output_type": "stream",
          "name": "stderr",
          "text": [
            "\r 90%|█████████ | 90/100 [00:07<00:00, 12.11it/s]"
          ]
        },
        {
          "output_type": "stream",
          "name": "stdout",
          "text": [
            "{} Loss:  tensor(0.0033, device='cuda:0', grad_fn=<NllLossBackward0>)\n",
            "Epoch 90/99\n",
            "----------\n",
            "{} Loss:  tensor(0.0020, device='cuda:0', grad_fn=<NllLossBackward0>)\n",
            "Epoch 91/99\n",
            "----------\n"
          ]
        },
        {
          "output_type": "stream",
          "name": "stderr",
          "text": [
            "\r 92%|█████████▏| 92/100 [00:07<00:00, 12.34it/s]"
          ]
        },
        {
          "output_type": "stream",
          "name": "stdout",
          "text": [
            "{} Loss:  tensor(0.0199, device='cuda:0', grad_fn=<NllLossBackward0>)\n",
            "Epoch 92/99\n",
            "----------\n"
          ]
        },
        {
          "output_type": "stream",
          "name": "stderr",
          "text": [
            "\r 94%|█████████▍| 94/100 [00:07<00:00, 12.46it/s]"
          ]
        },
        {
          "output_type": "stream",
          "name": "stdout",
          "text": [
            "{} Loss:  tensor(0.0017, device='cuda:0', grad_fn=<NllLossBackward0>)\n",
            "Epoch 93/99\n",
            "----------\n",
            "{} Loss:  tensor(0.0014, device='cuda:0', grad_fn=<NllLossBackward0>)\n",
            "Epoch 94/99\n",
            "----------\n",
            "{} Loss:  tensor(0.0021, device='cuda:0', grad_fn=<NllLossBackward0>)\n",
            "Epoch 95/99\n",
            "----------\n"
          ]
        },
        {
          "output_type": "stream",
          "name": "stderr",
          "text": [
            "\r 96%|█████████▌| 96/100 [00:07<00:00, 12.18it/s]"
          ]
        },
        {
          "output_type": "stream",
          "name": "stdout",
          "text": [
            "{} Loss:  tensor(0.0004, device='cuda:0', grad_fn=<NllLossBackward0>)\n",
            "Epoch 96/99\n",
            "----------\n",
            "{} Loss:  tensor(0.0006, device='cuda:0', grad_fn=<NllLossBackward0>)\n",
            "Epoch 97/99\n",
            "----------\n"
          ]
        },
        {
          "output_type": "stream",
          "name": "stderr",
          "text": [
            "\r 98%|█████████▊| 98/100 [00:08<00:00, 12.30it/s]"
          ]
        },
        {
          "output_type": "stream",
          "name": "stdout",
          "text": [
            "{} Loss:  tensor(0.0011, device='cuda:0', grad_fn=<NllLossBackward0>)\n",
            "Epoch 98/99\n",
            "----------\n"
          ]
        },
        {
          "output_type": "stream",
          "name": "stderr",
          "text": [
            "100%|██████████| 100/100 [00:08<00:00, 12.21it/s]"
          ]
        },
        {
          "output_type": "stream",
          "name": "stdout",
          "text": [
            "{} Loss:  tensor(0.0009, device='cuda:0', grad_fn=<NllLossBackward0>)\n",
            "Epoch 99/99\n",
            "----------\n",
            "{} Loss:  tensor(0.0009, device='cuda:0', grad_fn=<NllLossBackward0>)\n"
          ]
        },
        {
          "output_type": "stream",
          "name": "stderr",
          "text": [
            "\n"
          ]
        },
        {
          "output_type": "execute_result",
          "data": {
            "text/plain": [
              "MLP(\n",
              "  (model): Sequential(\n",
              "    (0): Linear(in_features=50, out_features=1280, bias=True)\n",
              "    (1): ReLU(inplace=True)\n",
              "    (2): Linear(in_features=1280, out_features=640, bias=True)\n",
              "    (3): ReLU(inplace=True)\n",
              "    (4): Linear(in_features=640, out_features=5, bias=True)\n",
              "    (5): LogSoftmax(dim=1)\n",
              "  )\n",
              ")"
            ]
          },
          "metadata": {},
          "execution_count": 25
        }
      ]
    },
    {
      "cell_type": "code",
      "source": [
        "d.eval(X_test, y_test)"
      ],
      "metadata": {
        "colab": {
          "base_uri": "https://localhost:8080/"
        },
        "id": "1K50yWyS5hK4",
        "outputId": "0c36fa80-f902-45cf-e8a5-a704e8ffe15a"
      },
      "execution_count": null,
      "outputs": [
        {
          "output_type": "stream",
          "name": "stdout",
          "text": [
            "\n",
            "------------------------\n",
            "Accuracy: 89.3732970027248\n",
            "-----------------------------\n"
          ]
        }
      ]
    },
    {
      "cell_type": "markdown",
      "source": [
        "# t-SNE: Train - Test"
      ],
      "metadata": {
        "id": "thqhOpc6wARa"
      }
    },
    {
      "cell_type": "code",
      "source": [
        "X_train, X_test,y_train,  y_test = train_test_split(f_tsne,y_all, test_size=0.2, random_state=0)\n",
        "print(X_test)\n",
        "print(len(X_train), len(X_train[0]), len(X_test), len(X_test[0]))\n",
        "e = MLP(len(X_train[0]))\n",
        "e.train(X_train, y_train)"
      ],
      "metadata": {
        "colab": {
          "base_uri": "https://localhost:8080/"
        },
        "id": "l87Zhlv7M-BT",
        "outputId": "6d281ee6-d7a3-4e7a-dcb3-08d2c09f5f05"
      },
      "execution_count": null,
      "outputs": [
        {
          "output_type": "stream",
          "name": "stdout",
          "text": [
            "[[ -7.1096    -27.085537 ]\n",
            " [  5.638482  -38.176785 ]\n",
            " [  5.786406   18.31946  ]\n",
            " ...\n",
            " [ -1.1220982 -40.54671  ]\n",
            " [  1.400256  -31.190823 ]\n",
            " [ 21.896315    0.3141843]]\n",
            "2936 2 734 2\n"
          ]
        },
        {
          "output_type": "stream",
          "name": "stderr",
          "text": [
            "  1%|          | 1/100 [00:00<00:17,  5.76it/s]"
          ]
        },
        {
          "output_type": "stream",
          "name": "stdout",
          "text": [
            "Epoch 0/99\n",
            "----------\n",
            "{} Loss:  tensor(1.6565, device='cuda:0', grad_fn=<NllLossBackward0>)\n",
            "Epoch 1/99\n",
            "----------\n"
          ]
        },
        {
          "output_type": "stream",
          "name": "stderr",
          "text": [
            "\r  3%|▎         | 3/100 [00:00<00:09,  9.77it/s]"
          ]
        },
        {
          "output_type": "stream",
          "name": "stdout",
          "text": [
            "{} Loss:  tensor(0.6690, device='cuda:0', grad_fn=<NllLossBackward0>)\n",
            "Epoch 2/99\n",
            "----------\n",
            "{} Loss:  tensor(0.6710, device='cuda:0', grad_fn=<NllLossBackward0>)\n",
            "Epoch 3/99\n",
            "----------\n",
            "{} Loss:  tensor(0.5557, device='cuda:0', grad_fn=<NllLossBackward0>)\n",
            "Epoch 4/99\n",
            "----------\n"
          ]
        },
        {
          "output_type": "stream",
          "name": "stderr",
          "text": [
            "\r  5%|▌         | 5/100 [00:00<00:08, 11.18it/s]"
          ]
        },
        {
          "output_type": "stream",
          "name": "stdout",
          "text": [
            "{} Loss:  tensor(0.7540, device='cuda:0', grad_fn=<NllLossBackward0>)\n",
            "Epoch 5/99\n",
            "----------\n",
            "{} Loss:  tensor(0.5777, device='cuda:0', grad_fn=<NllLossBackward0>)\n",
            "Epoch 6/99\n",
            "----------\n"
          ]
        },
        {
          "output_type": "stream",
          "name": "stderr",
          "text": [
            "\r  7%|▋         | 7/100 [00:00<00:08, 11.15it/s]"
          ]
        },
        {
          "output_type": "stream",
          "name": "stdout",
          "text": [
            "{} Loss:  tensor(0.7254, device='cuda:0', grad_fn=<NllLossBackward0>)\n",
            "Epoch 7/99\n",
            "----------\n"
          ]
        },
        {
          "output_type": "stream",
          "name": "stderr",
          "text": [
            "\r  9%|▉         | 9/100 [00:00<00:07, 11.71it/s]"
          ]
        },
        {
          "output_type": "stream",
          "name": "stdout",
          "text": [
            "{} Loss:  tensor(0.8262, device='cuda:0', grad_fn=<NllLossBackward0>)\n",
            "Epoch 8/99\n",
            "----------\n",
            "{} Loss:  tensor(0.8059, device='cuda:0', grad_fn=<NllLossBackward0>)\n",
            "Epoch 9/99\n",
            "----------\n",
            "{} Loss:  tensor(0.5166, device='cuda:0', grad_fn=<NllLossBackward0>)\n",
            "Epoch 10/99\n",
            "----------\n"
          ]
        },
        {
          "output_type": "stream",
          "name": "stderr",
          "text": [
            "\r 11%|█         | 11/100 [00:00<00:07, 12.12it/s]"
          ]
        },
        {
          "output_type": "stream",
          "name": "stdout",
          "text": [
            "{} Loss:  tensor(0.6640, device='cuda:0', grad_fn=<NllLossBackward0>)\n",
            "Epoch 11/99\n",
            "----------\n",
            "{} Loss:  tensor(0.7767, device='cuda:0', grad_fn=<NllLossBackward0>)\n",
            "Epoch 12/99\n",
            "----------\n"
          ]
        },
        {
          "output_type": "stream",
          "name": "stderr",
          "text": [
            "\r 13%|█▎        | 13/100 [00:01<00:07, 12.42it/s]"
          ]
        },
        {
          "output_type": "stream",
          "name": "stdout",
          "text": [
            "{} Loss:  tensor(0.5883, device='cuda:0', grad_fn=<NllLossBackward0>)\n",
            "Epoch 13/99\n",
            "----------\n"
          ]
        },
        {
          "output_type": "stream",
          "name": "stderr",
          "text": [
            "\r 15%|█▌        | 15/100 [00:01<00:06, 12.69it/s]"
          ]
        },
        {
          "output_type": "stream",
          "name": "stdout",
          "text": [
            "{} Loss:  tensor(0.6744, device='cuda:0', grad_fn=<NllLossBackward0>)\n",
            "Epoch 14/99\n",
            "----------\n",
            "{} Loss:  tensor(0.6150, device='cuda:0', grad_fn=<NllLossBackward0>)\n",
            "Epoch 15/99\n",
            "----------\n",
            "{} Loss:  tensor(0.8987, device='cuda:0', grad_fn=<NllLossBackward0>)\n",
            "Epoch 16/99\n",
            "----------\n"
          ]
        },
        {
          "output_type": "stream",
          "name": "stderr",
          "text": [
            "\r 17%|█▋        | 17/100 [00:01<00:06, 12.63it/s]"
          ]
        },
        {
          "output_type": "stream",
          "name": "stdout",
          "text": [
            "{} Loss:  tensor(0.7012, device='cuda:0', grad_fn=<NllLossBackward0>)\n",
            "Epoch 17/99\n",
            "----------\n",
            "{} Loss:  tensor(0.5726, device='cuda:0', grad_fn=<NllLossBackward0>)\n",
            "Epoch 18/99\n",
            "----------\n"
          ]
        },
        {
          "output_type": "stream",
          "name": "stderr",
          "text": [
            "\r 19%|█▉        | 19/100 [00:01<00:06, 12.39it/s]"
          ]
        },
        {
          "output_type": "stream",
          "name": "stdout",
          "text": [
            "{} Loss:  tensor(0.6753, device='cuda:0', grad_fn=<NllLossBackward0>)\n",
            "Epoch 19/99\n",
            "----------\n"
          ]
        },
        {
          "output_type": "stream",
          "name": "stderr",
          "text": [
            "\r 21%|██        | 21/100 [00:01<00:06, 12.55it/s]"
          ]
        },
        {
          "output_type": "stream",
          "name": "stdout",
          "text": [
            "{} Loss:  tensor(0.5790, device='cuda:0', grad_fn=<NllLossBackward0>)\n",
            "Epoch 20/99\n",
            "----------\n",
            "{} Loss:  tensor(0.6123, device='cuda:0', grad_fn=<NllLossBackward0>)\n",
            "Epoch 21/99\n",
            "----------\n",
            "{} Loss:  tensor(0.5900, device='cuda:0', grad_fn=<NllLossBackward0>)\n",
            "Epoch 22/99\n",
            "----------\n"
          ]
        },
        {
          "output_type": "stream",
          "name": "stderr",
          "text": [
            "\r 23%|██▎       | 23/100 [00:01<00:06, 12.67it/s]"
          ]
        },
        {
          "output_type": "stream",
          "name": "stdout",
          "text": [
            "{} Loss:  tensor(0.4836, device='cuda:0', grad_fn=<NllLossBackward0>)\n",
            "Epoch 23/99\n",
            "----------\n",
            "{} Loss:  tensor(0.5993, device='cuda:0', grad_fn=<NllLossBackward0>)\n",
            "Epoch 24/99\n",
            "----------\n"
          ]
        },
        {
          "output_type": "stream",
          "name": "stderr",
          "text": [
            "\r 25%|██▌       | 25/100 [00:02<00:05, 12.88it/s]"
          ]
        },
        {
          "output_type": "stream",
          "name": "stdout",
          "text": [
            "{} Loss:  tensor(0.7231, device='cuda:0', grad_fn=<NllLossBackward0>)\n",
            "Epoch 25/99\n",
            "----------\n"
          ]
        },
        {
          "output_type": "stream",
          "name": "stderr",
          "text": [
            "\r 27%|██▋       | 27/100 [00:02<00:05, 12.94it/s]"
          ]
        },
        {
          "output_type": "stream",
          "name": "stdout",
          "text": [
            "{} Loss:  tensor(0.5737, device='cuda:0', grad_fn=<NllLossBackward0>)\n",
            "Epoch 26/99\n",
            "----------\n",
            "{} Loss:  tensor(0.6270, device='cuda:0', grad_fn=<NllLossBackward0>)\n",
            "Epoch 27/99\n",
            "----------\n",
            "{} Loss:  tensor(0.5413, device='cuda:0', grad_fn=<NllLossBackward0>)\n",
            "Epoch 28/99\n",
            "----------\n"
          ]
        },
        {
          "output_type": "stream",
          "name": "stderr",
          "text": [
            "\r 29%|██▉       | 29/100 [00:02<00:05, 12.76it/s]"
          ]
        },
        {
          "output_type": "stream",
          "name": "stdout",
          "text": [
            "{} Loss:  tensor(0.5180, device='cuda:0', grad_fn=<NllLossBackward0>)\n",
            "Epoch 29/99\n",
            "----------\n",
            "{} Loss:  tensor(0.6968, device='cuda:0', grad_fn=<NllLossBackward0>)\n",
            "Epoch 30/99\n",
            "----------\n"
          ]
        },
        {
          "output_type": "stream",
          "name": "stderr",
          "text": [
            "\r 31%|███       | 31/100 [00:02<00:05, 12.63it/s]"
          ]
        },
        {
          "output_type": "stream",
          "name": "stdout",
          "text": [
            "{} Loss:  tensor(0.6647, device='cuda:0', grad_fn=<NllLossBackward0>)\n",
            "Epoch 31/99\n",
            "----------\n"
          ]
        },
        {
          "output_type": "stream",
          "name": "stderr",
          "text": [
            "\r 33%|███▎      | 33/100 [00:02<00:05, 12.43it/s]"
          ]
        },
        {
          "output_type": "stream",
          "name": "stdout",
          "text": [
            "{} Loss:  tensor(0.6437, device='cuda:0', grad_fn=<NllLossBackward0>)\n",
            "Epoch 32/99\n",
            "----------\n",
            "{} Loss:  tensor(0.4914, device='cuda:0', grad_fn=<NllLossBackward0>)\n",
            "Epoch 33/99\n",
            "----------\n",
            "{} Loss:  tensor(0.5789, device='cuda:0', grad_fn=<NllLossBackward0>)\n",
            "Epoch 34/99\n",
            "----------\n"
          ]
        },
        {
          "output_type": "stream",
          "name": "stderr",
          "text": [
            "\r 35%|███▌      | 35/100 [00:02<00:05, 12.54it/s]"
          ]
        },
        {
          "output_type": "stream",
          "name": "stdout",
          "text": [
            "{} Loss:  tensor(0.6997, device='cuda:0', grad_fn=<NllLossBackward0>)\n",
            "Epoch 35/99\n",
            "----------\n",
            "{} Loss:  tensor(0.5526, device='cuda:0', grad_fn=<NllLossBackward0>)\n",
            "Epoch 36/99\n",
            "----------\n"
          ]
        },
        {
          "output_type": "stream",
          "name": "stderr",
          "text": [
            "\r 37%|███▋      | 37/100 [00:03<00:04, 12.80it/s]"
          ]
        },
        {
          "output_type": "stream",
          "name": "stdout",
          "text": [
            "{} Loss:  tensor(0.5435, device='cuda:0', grad_fn=<NllLossBackward0>)\n",
            "Epoch 37/99\n",
            "----------\n"
          ]
        },
        {
          "output_type": "stream",
          "name": "stderr",
          "text": [
            "\r 39%|███▉      | 39/100 [00:03<00:04, 12.92it/s]"
          ]
        },
        {
          "output_type": "stream",
          "name": "stdout",
          "text": [
            "{} Loss:  tensor(0.6007, device='cuda:0', grad_fn=<NllLossBackward0>)\n",
            "Epoch 38/99\n",
            "----------\n",
            "{} Loss:  tensor(0.6218, device='cuda:0', grad_fn=<NllLossBackward0>)\n",
            "Epoch 39/99\n",
            "----------\n",
            "{} Loss:  tensor(0.6370, device='cuda:0', grad_fn=<NllLossBackward0>)\n",
            "Epoch 40/99\n",
            "----------\n"
          ]
        },
        {
          "output_type": "stream",
          "name": "stderr",
          "text": [
            "\r 41%|████      | 41/100 [00:03<00:04, 12.89it/s]"
          ]
        },
        {
          "output_type": "stream",
          "name": "stdout",
          "text": [
            "{} Loss:  tensor(0.4853, device='cuda:0', grad_fn=<NllLossBackward0>)\n",
            "Epoch 41/99\n",
            "----------\n",
            "{} Loss:  tensor(0.7249, device='cuda:0', grad_fn=<NllLossBackward0>)\n",
            "Epoch 42/99\n",
            "----------\n"
          ]
        },
        {
          "output_type": "stream",
          "name": "stderr",
          "text": [
            "\r 43%|████▎     | 43/100 [00:03<00:04, 12.76it/s]"
          ]
        },
        {
          "output_type": "stream",
          "name": "stdout",
          "text": [
            "{} Loss:  tensor(0.5889, device='cuda:0', grad_fn=<NllLossBackward0>)\n",
            "Epoch 43/99\n",
            "----------\n"
          ]
        },
        {
          "output_type": "stream",
          "name": "stderr",
          "text": [
            "\r 45%|████▌     | 45/100 [00:03<00:04, 12.55it/s]"
          ]
        },
        {
          "output_type": "stream",
          "name": "stdout",
          "text": [
            "{} Loss:  tensor(0.4889, device='cuda:0', grad_fn=<NllLossBackward0>)\n",
            "Epoch 44/99\n",
            "----------\n",
            "{} Loss:  tensor(0.6336, device='cuda:0', grad_fn=<NllLossBackward0>)\n",
            "Epoch 45/99\n",
            "----------\n",
            "{} Loss:  tensor(0.6571, device='cuda:0', grad_fn=<NllLossBackward0>)\n",
            "Epoch 46/99\n",
            "----------\n"
          ]
        },
        {
          "output_type": "stream",
          "name": "stderr",
          "text": [
            "\r 47%|████▋     | 47/100 [00:03<00:04, 12.50it/s]"
          ]
        },
        {
          "output_type": "stream",
          "name": "stdout",
          "text": [
            "{} Loss:  tensor(0.6822, device='cuda:0', grad_fn=<NllLossBackward0>)\n",
            "Epoch 47/99\n",
            "----------\n",
            "{} Loss:  tensor(0.4302, device='cuda:0', grad_fn=<NllLossBackward0>)\n",
            "Epoch 48/99\n",
            "----------\n"
          ]
        },
        {
          "output_type": "stream",
          "name": "stderr",
          "text": [
            "\r 49%|████▉     | 49/100 [00:03<00:04, 12.62it/s]"
          ]
        },
        {
          "output_type": "stream",
          "name": "stdout",
          "text": [
            "{} Loss:  tensor(0.6342, device='cuda:0', grad_fn=<NllLossBackward0>)\n",
            "Epoch 49/99\n",
            "----------\n"
          ]
        },
        {
          "output_type": "stream",
          "name": "stderr",
          "text": [
            "\r 51%|█████     | 51/100 [00:04<00:03, 12.81it/s]"
          ]
        },
        {
          "output_type": "stream",
          "name": "stdout",
          "text": [
            "{} Loss:  tensor(0.5736, device='cuda:0', grad_fn=<NllLossBackward0>)\n",
            "Epoch 50/99\n",
            "----------\n",
            "{} Loss:  tensor(0.5608, device='cuda:0', grad_fn=<NllLossBackward0>)\n",
            "Epoch 51/99\n",
            "----------\n",
            "{} Loss:  tensor(0.7187, device='cuda:0', grad_fn=<NllLossBackward0>)\n",
            "Epoch 52/99\n",
            "----------\n"
          ]
        },
        {
          "output_type": "stream",
          "name": "stderr",
          "text": [
            "\r 53%|█████▎    | 53/100 [00:04<00:03, 12.82it/s]"
          ]
        },
        {
          "output_type": "stream",
          "name": "stdout",
          "text": [
            "{} Loss:  tensor(0.6174, device='cuda:0', grad_fn=<NllLossBackward0>)\n",
            "Epoch 53/99\n",
            "----------\n",
            "{} Loss:  tensor(0.6108, device='cuda:0', grad_fn=<NllLossBackward0>)\n",
            "Epoch 54/99\n",
            "----------\n"
          ]
        },
        {
          "output_type": "stream",
          "name": "stderr",
          "text": [
            "\r 55%|█████▌    | 55/100 [00:04<00:03, 12.82it/s]"
          ]
        },
        {
          "output_type": "stream",
          "name": "stdout",
          "text": [
            "{} Loss:  tensor(0.6097, device='cuda:0', grad_fn=<NllLossBackward0>)\n",
            "Epoch 55/99\n",
            "----------\n"
          ]
        },
        {
          "output_type": "stream",
          "name": "stderr",
          "text": [
            "\r 57%|█████▋    | 57/100 [00:04<00:03, 12.87it/s]"
          ]
        },
        {
          "output_type": "stream",
          "name": "stdout",
          "text": [
            "{} Loss:  tensor(0.5752, device='cuda:0', grad_fn=<NllLossBackward0>)\n",
            "Epoch 56/99\n",
            "----------\n",
            "{} Loss:  tensor(0.6468, device='cuda:0', grad_fn=<NllLossBackward0>)\n",
            "Epoch 57/99\n",
            "----------\n",
            "{} Loss:  tensor(0.5474, device='cuda:0', grad_fn=<NllLossBackward0>)\n",
            "Epoch 58/99\n",
            "----------\n"
          ]
        },
        {
          "output_type": "stream",
          "name": "stderr",
          "text": [
            "\r 59%|█████▉    | 59/100 [00:04<00:03, 12.66it/s]"
          ]
        },
        {
          "output_type": "stream",
          "name": "stdout",
          "text": [
            "{} Loss:  tensor(0.4975, device='cuda:0', grad_fn=<NllLossBackward0>)\n",
            "Epoch 59/99\n",
            "----------\n",
            "{} Loss:  tensor(0.7605, device='cuda:0', grad_fn=<NllLossBackward0>)\n",
            "Epoch 60/99\n",
            "----------\n"
          ]
        },
        {
          "output_type": "stream",
          "name": "stderr",
          "text": [
            "\r 61%|██████    | 61/100 [00:04<00:03, 12.74it/s]"
          ]
        },
        {
          "output_type": "stream",
          "name": "stdout",
          "text": [
            "{} Loss:  tensor(0.6693, device='cuda:0', grad_fn=<NllLossBackward0>)\n",
            "Epoch 61/99\n",
            "----------\n"
          ]
        },
        {
          "output_type": "stream",
          "name": "stderr",
          "text": [
            "\r 63%|██████▎   | 63/100 [00:05<00:02, 12.82it/s]"
          ]
        },
        {
          "output_type": "stream",
          "name": "stdout",
          "text": [
            "{} Loss:  tensor(0.5770, device='cuda:0', grad_fn=<NllLossBackward0>)\n",
            "Epoch 62/99\n",
            "----------\n",
            "{} Loss:  tensor(0.7223, device='cuda:0', grad_fn=<NllLossBackward0>)\n",
            "Epoch 63/99\n",
            "----------\n",
            "{} Loss:  tensor(0.5459, device='cuda:0', grad_fn=<NllLossBackward0>)\n",
            "Epoch 64/99\n",
            "----------\n"
          ]
        },
        {
          "output_type": "stream",
          "name": "stderr",
          "text": [
            "\r 65%|██████▌   | 65/100 [00:05<00:02, 12.82it/s]"
          ]
        },
        {
          "output_type": "stream",
          "name": "stdout",
          "text": [
            "{} Loss:  tensor(0.6029, device='cuda:0', grad_fn=<NllLossBackward0>)\n",
            "Epoch 65/99\n",
            "----------\n",
            "{} Loss:  tensor(0.5411, device='cuda:0', grad_fn=<NllLossBackward0>)\n",
            "Epoch 66/99\n",
            "----------\n"
          ]
        },
        {
          "output_type": "stream",
          "name": "stderr",
          "text": [
            "\r 67%|██████▋   | 67/100 [00:05<00:02, 12.99it/s]"
          ]
        },
        {
          "output_type": "stream",
          "name": "stdout",
          "text": [
            "{} Loss:  tensor(0.5700, device='cuda:0', grad_fn=<NllLossBackward0>)\n",
            "Epoch 67/99\n",
            "----------\n"
          ]
        },
        {
          "output_type": "stream",
          "name": "stderr",
          "text": [
            "\r 69%|██████▉   | 69/100 [00:05<00:02, 13.03it/s]"
          ]
        },
        {
          "output_type": "stream",
          "name": "stdout",
          "text": [
            "{} Loss:  tensor(0.6486, device='cuda:0', grad_fn=<NllLossBackward0>)\n",
            "Epoch 68/99\n",
            "----------\n",
            "{} Loss:  tensor(0.4475, device='cuda:0', grad_fn=<NllLossBackward0>)\n",
            "Epoch 69/99\n",
            "----------\n",
            "{} Loss:  tensor(0.5903, device='cuda:0', grad_fn=<NllLossBackward0>)\n",
            "Epoch 70/99\n",
            "----------\n"
          ]
        },
        {
          "output_type": "stream",
          "name": "stderr",
          "text": [
            "\r 71%|███████   | 71/100 [00:05<00:02, 12.65it/s]"
          ]
        },
        {
          "output_type": "stream",
          "name": "stdout",
          "text": [
            "{} Loss:  tensor(0.6968, device='cuda:0', grad_fn=<NllLossBackward0>)\n",
            "Epoch 71/99\n",
            "----------\n",
            "{} Loss:  tensor(0.5861, device='cuda:0', grad_fn=<NllLossBackward0>)\n",
            "Epoch 72/99\n",
            "----------\n"
          ]
        },
        {
          "output_type": "stream",
          "name": "stderr",
          "text": [
            "\r 73%|███████▎  | 73/100 [00:05<00:02, 12.86it/s]"
          ]
        },
        {
          "output_type": "stream",
          "name": "stdout",
          "text": [
            "{} Loss:  tensor(0.6564, device='cuda:0', grad_fn=<NllLossBackward0>)\n",
            "Epoch 73/99\n",
            "----------\n"
          ]
        },
        {
          "output_type": "stream",
          "name": "stderr",
          "text": [
            "\r 75%|███████▌  | 75/100 [00:05<00:01, 12.98it/s]"
          ]
        },
        {
          "output_type": "stream",
          "name": "stdout",
          "text": [
            "{} Loss:  tensor(0.7618, device='cuda:0', grad_fn=<NllLossBackward0>)\n",
            "Epoch 74/99\n",
            "----------\n",
            "{} Loss:  tensor(0.5650, device='cuda:0', grad_fn=<NllLossBackward0>)\n",
            "Epoch 75/99\n",
            "----------\n",
            "{} Loss:  tensor(0.5798, device='cuda:0', grad_fn=<NllLossBackward0>)\n",
            "Epoch 76/99\n",
            "----------\n"
          ]
        },
        {
          "output_type": "stream",
          "name": "stderr",
          "text": [
            "\r 77%|███████▋  | 77/100 [00:06<00:01, 13.01it/s]"
          ]
        },
        {
          "output_type": "stream",
          "name": "stdout",
          "text": [
            "{} Loss:  tensor(0.6248, device='cuda:0', grad_fn=<NllLossBackward0>)\n",
            "Epoch 77/99\n",
            "----------\n",
            "{} Loss:  tensor(0.6455, device='cuda:0', grad_fn=<NllLossBackward0>)\n",
            "Epoch 78/99\n",
            "----------\n"
          ]
        },
        {
          "output_type": "stream",
          "name": "stderr",
          "text": [
            "\r 79%|███████▉  | 79/100 [00:06<00:01, 12.97it/s]"
          ]
        },
        {
          "output_type": "stream",
          "name": "stdout",
          "text": [
            "{} Loss:  tensor(0.6316, device='cuda:0', grad_fn=<NllLossBackward0>)\n",
            "Epoch 79/99\n",
            "----------\n"
          ]
        },
        {
          "output_type": "stream",
          "name": "stderr",
          "text": [
            "\r 81%|████████  | 81/100 [00:06<00:01, 13.03it/s]"
          ]
        },
        {
          "output_type": "stream",
          "name": "stdout",
          "text": [
            "{} Loss:  tensor(0.6060, device='cuda:0', grad_fn=<NllLossBackward0>)\n",
            "Epoch 80/99\n",
            "----------\n",
            "{} Loss:  tensor(0.7091, device='cuda:0', grad_fn=<NllLossBackward0>)\n",
            "Epoch 81/99\n",
            "----------\n",
            "{} Loss:  tensor(0.4841, device='cuda:0', grad_fn=<NllLossBackward0>)\n",
            "Epoch 82/99\n",
            "----------\n"
          ]
        },
        {
          "output_type": "stream",
          "name": "stderr",
          "text": [
            "\r 83%|████████▎ | 83/100 [00:06<00:01, 12.86it/s]"
          ]
        },
        {
          "output_type": "stream",
          "name": "stdout",
          "text": [
            "{} Loss:  tensor(0.5109, device='cuda:0', grad_fn=<NllLossBackward0>)\n",
            "Epoch 83/99\n",
            "----------\n",
            "{} Loss:  tensor(0.5777, device='cuda:0', grad_fn=<NllLossBackward0>)\n",
            "Epoch 84/99\n",
            "----------\n"
          ]
        },
        {
          "output_type": "stream",
          "name": "stderr",
          "text": [
            "\r 85%|████████▌ | 85/100 [00:06<00:01, 12.69it/s]"
          ]
        },
        {
          "output_type": "stream",
          "name": "stdout",
          "text": [
            "{} Loss:  tensor(0.5519, device='cuda:0', grad_fn=<NllLossBackward0>)\n",
            "Epoch 85/99\n",
            "----------\n"
          ]
        },
        {
          "output_type": "stream",
          "name": "stderr",
          "text": [
            "\r 87%|████████▋ | 87/100 [00:06<00:01, 12.84it/s]"
          ]
        },
        {
          "output_type": "stream",
          "name": "stdout",
          "text": [
            "{} Loss:  tensor(0.6132, device='cuda:0', grad_fn=<NllLossBackward0>)\n",
            "Epoch 86/99\n",
            "----------\n",
            "{} Loss:  tensor(0.6052, device='cuda:0', grad_fn=<NllLossBackward0>)\n",
            "Epoch 87/99\n",
            "----------\n",
            "{} Loss:  tensor(0.6218, device='cuda:0', grad_fn=<NllLossBackward0>)\n",
            "Epoch 88/99\n",
            "----------\n"
          ]
        },
        {
          "output_type": "stream",
          "name": "stderr",
          "text": [
            "\r 89%|████████▉ | 89/100 [00:07<00:00, 12.84it/s]"
          ]
        },
        {
          "output_type": "stream",
          "name": "stdout",
          "text": [
            "{} Loss:  tensor(0.4897, device='cuda:0', grad_fn=<NllLossBackward0>)\n",
            "Epoch 89/99\n",
            "----------\n",
            "{} Loss:  tensor(0.5749, device='cuda:0', grad_fn=<NllLossBackward0>)\n",
            "Epoch 90/99\n",
            "----------\n"
          ]
        },
        {
          "output_type": "stream",
          "name": "stderr",
          "text": [
            "\r 91%|█████████ | 91/100 [00:07<00:00, 13.00it/s]"
          ]
        },
        {
          "output_type": "stream",
          "name": "stdout",
          "text": [
            "{} Loss:  tensor(0.6252, device='cuda:0', grad_fn=<NllLossBackward0>)\n",
            "Epoch 91/99\n",
            "----------\n"
          ]
        },
        {
          "output_type": "stream",
          "name": "stderr",
          "text": [
            "\r 93%|█████████▎| 93/100 [00:07<00:00, 13.06it/s]"
          ]
        },
        {
          "output_type": "stream",
          "name": "stdout",
          "text": [
            "{} Loss:  tensor(0.5439, device='cuda:0', grad_fn=<NllLossBackward0>)\n",
            "Epoch 92/99\n",
            "----------\n",
            "{} Loss:  tensor(0.5858, device='cuda:0', grad_fn=<NllLossBackward0>)\n",
            "Epoch 93/99\n",
            "----------\n",
            "{} Loss:  tensor(0.6115, device='cuda:0', grad_fn=<NllLossBackward0>)\n",
            "Epoch 94/99\n",
            "----------\n"
          ]
        },
        {
          "output_type": "stream",
          "name": "stderr",
          "text": [
            "\r 95%|█████████▌| 95/100 [00:07<00:00, 12.38it/s]"
          ]
        },
        {
          "output_type": "stream",
          "name": "stdout",
          "text": [
            "{} Loss:  tensor(0.7807, device='cuda:0', grad_fn=<NllLossBackward0>)\n",
            "Epoch 95/99\n",
            "----------\n",
            "{} Loss:  tensor(0.6305, device='cuda:0', grad_fn=<NllLossBackward0>)\n",
            "Epoch 96/99\n",
            "----------\n"
          ]
        },
        {
          "output_type": "stream",
          "name": "stderr",
          "text": [
            "\r 97%|█████████▋| 97/100 [00:07<00:00, 12.36it/s]"
          ]
        },
        {
          "output_type": "stream",
          "name": "stdout",
          "text": [
            "{} Loss:  tensor(0.5406, device='cuda:0', grad_fn=<NllLossBackward0>)\n",
            "Epoch 97/99\n",
            "----------\n"
          ]
        },
        {
          "output_type": "stream",
          "name": "stderr",
          "text": [
            "\r 99%|█████████▉| 99/100 [00:07<00:00, 12.55it/s]"
          ]
        },
        {
          "output_type": "stream",
          "name": "stdout",
          "text": [
            "{} Loss:  tensor(0.6505, device='cuda:0', grad_fn=<NllLossBackward0>)\n",
            "Epoch 98/99\n",
            "----------\n",
            "{} Loss:  tensor(0.5221, device='cuda:0', grad_fn=<NllLossBackward0>)\n",
            "Epoch 99/99\n",
            "----------\n"
          ]
        },
        {
          "output_type": "stream",
          "name": "stderr",
          "text": [
            "\r100%|██████████| 100/100 [00:07<00:00, 12.58it/s]"
          ]
        },
        {
          "output_type": "stream",
          "name": "stdout",
          "text": [
            "{} Loss:  tensor(0.4625, device='cuda:0', grad_fn=<NllLossBackward0>)\n"
          ]
        },
        {
          "output_type": "stream",
          "name": "stderr",
          "text": [
            "\n"
          ]
        },
        {
          "output_type": "execute_result",
          "data": {
            "text/plain": [
              "MLP(\n",
              "  (model): Sequential(\n",
              "    (0): Linear(in_features=2, out_features=1280, bias=True)\n",
              "    (1): ReLU(inplace=True)\n",
              "    (2): Linear(in_features=1280, out_features=640, bias=True)\n",
              "    (3): ReLU(inplace=True)\n",
              "    (4): Linear(in_features=640, out_features=5, bias=True)\n",
              "    (5): LogSoftmax(dim=1)\n",
              "  )\n",
              ")"
            ]
          },
          "metadata": {},
          "execution_count": 18
        }
      ]
    },
    {
      "cell_type": "code",
      "execution_count": null,
      "metadata": {
        "id": "4EZ8GE2dVApq",
        "colab": {
          "base_uri": "https://localhost:8080/"
        },
        "outputId": "0c091423-4fa4-46a0-a794-a2b8762741ce"
      },
      "outputs": [
        {
          "output_type": "stream",
          "name": "stdout",
          "text": [
            "\n",
            "------------------------\n",
            "Accuracy: 77.9291553133515\n",
            "-----------------------------\n"
          ]
        }
      ],
      "source": [
        "e.eval(X_test, y_test)"
      ]
    },
    {
      "cell_type": "markdown",
      "source": [
        "# PCA: Train - Test"
      ],
      "metadata": {
        "id": "3Va-UKNkwE4D"
      }
    },
    {
      "cell_type": "code",
      "source": [
        "X_train, X_test,y_train,  y_test = train_test_split(f_pca,y_all, test_size=0.2, random_state=0)\n",
        "print(X_test)\n",
        "print(len(X_train), len(X_train[0]), len(X_test), len(X_test[0]))\n",
        "f = MLP(len(X_train[0]))\n",
        "f.train(X_train, y_train)"
      ],
      "metadata": {
        "id": "7UVP7G2tNMAo",
        "colab": {
          "base_uri": "https://localhost:8080/"
        },
        "outputId": "5aa0c7c4-8757-401b-dfde-b67c3828db9b"
      },
      "execution_count": 5,
      "outputs": [
        {
          "output_type": "stream",
          "name": "stdout",
          "text": [
            "[[ 36.16701533 -13.11823659]\n",
            " [-29.43066741 -49.36164237]\n",
            " [-57.70118872 -51.39741212]\n",
            " ...\n",
            " [ 15.9689297  -52.69257638]\n",
            " [ 99.94481678 -43.23887138]\n",
            " [-43.9947058    7.92929673]]\n",
            "2936 2 734 2\n"
          ]
        },
        {
          "output_type": "stream",
          "name": "stderr",
          "text": [
            "  1%|          | 1/100 [00:00<00:14,  6.69it/s]"
          ]
        },
        {
          "output_type": "stream",
          "name": "stdout",
          "text": [
            "Epoch 0/99\n",
            "----------\n",
            "{} Loss:  tensor(2.5438, device='cuda:0', grad_fn=<NllLossBackward0>)\n",
            "Epoch 1/99\n",
            "----------\n"
          ]
        },
        {
          "output_type": "stream",
          "name": "stderr",
          "text": [
            "  4%|▍         | 4/100 [00:00<00:09,  9.88it/s]"
          ]
        },
        {
          "output_type": "stream",
          "name": "stdout",
          "text": [
            "{} Loss:  tensor(1.1227, device='cuda:0', grad_fn=<NllLossBackward0>)\n",
            "Epoch 2/99\n",
            "----------\n",
            "{} Loss:  tensor(1.1212, device='cuda:0', grad_fn=<NllLossBackward0>)\n",
            "Epoch 3/99\n",
            "----------\n",
            "{} Loss:  tensor(1.0790, device='cuda:0', grad_fn=<NllLossBackward0>)\n",
            "Epoch 4/99\n",
            "----------\n"
          ]
        },
        {
          "output_type": "stream",
          "name": "stderr",
          "text": [
            "\r  6%|▌         | 6/100 [00:00<00:08, 10.64it/s]"
          ]
        },
        {
          "output_type": "stream",
          "name": "stdout",
          "text": [
            "{} Loss:  tensor(1.1071, device='cuda:0', grad_fn=<NllLossBackward0>)\n",
            "Epoch 5/99\n",
            "----------\n",
            "{} Loss:  tensor(1.1049, device='cuda:0', grad_fn=<NllLossBackward0>)\n",
            "Epoch 6/99\n",
            "----------\n",
            "{} Loss:  tensor(1.2720, device='cuda:0', grad_fn=<NllLossBackward0>)\n",
            "Epoch 7/99\n",
            "----------\n"
          ]
        },
        {
          "output_type": "stream",
          "name": "stderr",
          "text": [
            "\r  8%|▊         | 8/100 [00:00<00:08, 10.23it/s]"
          ]
        },
        {
          "output_type": "stream",
          "name": "stdout",
          "text": [
            "{} Loss:  tensor(1.0108, device='cuda:0', grad_fn=<NllLossBackward0>)\n",
            "Epoch 8/99\n",
            "----------\n",
            "{} Loss:  tensor(1.0315, device='cuda:0', grad_fn=<NllLossBackward0>)\n",
            "Epoch 9/99\n",
            "----------\n"
          ]
        },
        {
          "output_type": "stream",
          "name": "stderr",
          "text": [
            " 11%|█         | 11/100 [00:01<00:09,  9.27it/s]"
          ]
        },
        {
          "output_type": "stream",
          "name": "stdout",
          "text": [
            "{} Loss:  tensor(0.9600, device='cuda:0', grad_fn=<NllLossBackward0>)\n",
            "Epoch 10/99\n",
            "----------\n",
            "{} Loss:  tensor(1.0920, device='cuda:0', grad_fn=<NllLossBackward0>)\n",
            "Epoch 11/99\n",
            "----------\n"
          ]
        },
        {
          "output_type": "stream",
          "name": "stderr",
          "text": [
            " 13%|█▎        | 13/100 [00:01<00:09,  8.72it/s]"
          ]
        },
        {
          "output_type": "stream",
          "name": "stdout",
          "text": [
            "{} Loss:  tensor(1.1704, device='cuda:0', grad_fn=<NllLossBackward0>)\n",
            "Epoch 12/99\n",
            "----------\n",
            "{} Loss:  tensor(0.9823, device='cuda:0', grad_fn=<NllLossBackward0>)\n",
            "Epoch 13/99\n",
            "----------\n"
          ]
        },
        {
          "output_type": "stream",
          "name": "stderr",
          "text": [
            " 15%|█▌        | 15/100 [00:01<00:10,  8.26it/s]"
          ]
        },
        {
          "output_type": "stream",
          "name": "stdout",
          "text": [
            "{} Loss:  tensor(0.8985, device='cuda:0', grad_fn=<NllLossBackward0>)\n",
            "Epoch 14/99\n",
            "----------\n",
            "{} Loss:  tensor(0.9492, device='cuda:0', grad_fn=<NllLossBackward0>)\n",
            "Epoch 15/99\n",
            "----------\n"
          ]
        },
        {
          "output_type": "stream",
          "name": "stderr",
          "text": [
            "\r 16%|█▌        | 16/100 [00:01<00:11,  7.62it/s]"
          ]
        },
        {
          "output_type": "stream",
          "name": "stdout",
          "text": [
            "{} Loss:  tensor(1.0598, device='cuda:0', grad_fn=<NllLossBackward0>)\n",
            "Epoch 16/99\n",
            "----------\n",
            "{} Loss:  tensor(1.1754, device='cuda:0', grad_fn=<NllLossBackward0>)\n",
            "Epoch 17/99\n",
            "----------\n",
            "{} Loss:  tensor(1.0487, device='cuda:0', grad_fn=<NllLossBackward0>)"
          ]
        },
        {
          "output_type": "stream",
          "name": "stderr",
          "text": [
            " 19%|█▉        | 19/100 [00:02<00:10,  7.49it/s]"
          ]
        },
        {
          "output_type": "stream",
          "name": "stdout",
          "text": [
            "\n",
            "Epoch 18/99\n",
            "----------\n",
            "{} Loss:  tensor(0.9811, device='cuda:0', grad_fn=<NllLossBackward0>)\n",
            "Epoch 19/99\n",
            "----------\n"
          ]
        },
        {
          "output_type": "stream",
          "name": "stderr",
          "text": [
            " 21%|██        | 21/100 [00:02<00:09,  7.96it/s]"
          ]
        },
        {
          "output_type": "stream",
          "name": "stdout",
          "text": [
            "{} Loss:  tensor(1.0386, device='cuda:0', grad_fn=<NllLossBackward0>)\n",
            "Epoch 20/99\n",
            "----------\n",
            "{} Loss:  tensor(1.0182, device='cuda:0', grad_fn=<NllLossBackward0>)\n",
            "Epoch 21/99\n",
            "----------\n"
          ]
        },
        {
          "output_type": "stream",
          "name": "stderr",
          "text": [
            " 23%|██▎       | 23/100 [00:02<00:09,  7.82it/s]"
          ]
        },
        {
          "output_type": "stream",
          "name": "stdout",
          "text": [
            "{} Loss:  tensor(1.0103, device='cuda:0', grad_fn=<NllLossBackward0>)\n",
            "Epoch 22/99\n",
            "----------\n",
            "{} Loss:  tensor(1.0784, device='cuda:0', grad_fn=<NllLossBackward0>)\n",
            "Epoch 23/99\n",
            "----------\n"
          ]
        },
        {
          "output_type": "stream",
          "name": "stderr",
          "text": [
            " 26%|██▌       | 26/100 [00:03<00:08,  9.22it/s]"
          ]
        },
        {
          "output_type": "stream",
          "name": "stdout",
          "text": [
            "{} Loss:  tensor(1.0359, device='cuda:0', grad_fn=<NllLossBackward0>)\n",
            "Epoch 24/99\n",
            "----------\n",
            "{} Loss:  tensor(0.9535, device='cuda:0', grad_fn=<NllLossBackward0>)\n",
            "Epoch 25/99\n",
            "----------\n",
            "{} Loss:  tensor(1.0301, device='cuda:0', grad_fn=<NllLossBackward0>)\n",
            "Epoch 26/99\n",
            "----------\n"
          ]
        },
        {
          "output_type": "stream",
          "name": "stderr",
          "text": [
            " 29%|██▉       | 29/100 [00:03<00:07, 10.03it/s]"
          ]
        },
        {
          "output_type": "stream",
          "name": "stdout",
          "text": [
            "{} Loss:  tensor(0.9236, device='cuda:0', grad_fn=<NllLossBackward0>)\n",
            "Epoch 27/99\n",
            "----------\n",
            "{} Loss:  tensor(0.9973, device='cuda:0', grad_fn=<NllLossBackward0>)\n",
            "Epoch 28/99\n",
            "----------\n",
            "{} Loss:  tensor(1.0466, device='cuda:0', grad_fn=<NllLossBackward0>)\n",
            "Epoch 29/99\n",
            "----------\n"
          ]
        },
        {
          "output_type": "stream",
          "name": "stderr",
          "text": [
            " 31%|███       | 31/100 [00:03<00:07,  9.06it/s]"
          ]
        },
        {
          "output_type": "stream",
          "name": "stdout",
          "text": [
            "{} Loss:  tensor(1.1017, device='cuda:0', grad_fn=<NllLossBackward0>)\n",
            "Epoch 30/99\n",
            "----------\n",
            "{} Loss:  tensor(1.0771, device='cuda:0', grad_fn=<NllLossBackward0>)\n",
            "Epoch 31/99\n",
            "----------\n"
          ]
        },
        {
          "output_type": "stream",
          "name": "stderr",
          "text": [
            " 34%|███▍      | 34/100 [00:03<00:06,  9.52it/s]"
          ]
        },
        {
          "output_type": "stream",
          "name": "stdout",
          "text": [
            "{} Loss:  tensor(1.0877, device='cuda:0', grad_fn=<NllLossBackward0>)\n",
            "Epoch 32/99\n",
            "----------\n",
            "{} Loss:  tensor(0.9630, device='cuda:0', grad_fn=<NllLossBackward0>)\n",
            "Epoch 33/99\n",
            "----------\n",
            "{} Loss:  tensor(0.9918, device='cuda:0', grad_fn=<NllLossBackward0>)\n"
          ]
        },
        {
          "output_type": "stream",
          "name": "stderr",
          "text": [
            "\r 35%|███▌      | 35/100 [00:03<00:06,  9.35it/s]"
          ]
        },
        {
          "output_type": "stream",
          "name": "stdout",
          "text": [
            "Epoch 34/99\n",
            "----------\n",
            "{} Loss:  tensor(0.9964, device='cuda:0', grad_fn=<NllLossBackward0>)\n",
            "Epoch 35/99\n",
            "----------\n"
          ]
        },
        {
          "output_type": "stream",
          "name": "stderr",
          "text": [
            " 38%|███▊      | 38/100 [00:04<00:06,  9.65it/s]"
          ]
        },
        {
          "output_type": "stream",
          "name": "stdout",
          "text": [
            "{} Loss:  tensor(0.9933, device='cuda:0', grad_fn=<NllLossBackward0>)\n",
            "Epoch 36/99\n",
            "----------\n",
            "{} Loss:  tensor(1.0307, device='cuda:0', grad_fn=<NllLossBackward0>)\n",
            "Epoch 37/99\n",
            "----------\n",
            "{} Loss:  tensor(0.9197, device='cuda:0', grad_fn=<NllLossBackward0>)\n"
          ]
        },
        {
          "output_type": "stream",
          "name": "stderr",
          "text": [
            "\r 39%|███▉      | 39/100 [00:04<00:06,  9.17it/s]"
          ]
        },
        {
          "output_type": "stream",
          "name": "stdout",
          "text": [
            "Epoch 38/99\n",
            "----------\n",
            "{} Loss:  tensor(0.9726, device='cuda:0', grad_fn=<NllLossBackward0>)\n",
            "Epoch 39/99\n",
            "----------\n"
          ]
        },
        {
          "output_type": "stream",
          "name": "stderr",
          "text": [
            "\r 40%|████      | 40/100 [00:04<00:07,  8.41it/s]"
          ]
        },
        {
          "output_type": "stream",
          "name": "stdout",
          "text": [
            "{} Loss:  tensor(1.0748, device='cuda:0', grad_fn=<NllLossBackward0>)\n",
            "Epoch 40/99\n",
            "----------\n",
            "{} Loss:  tensor(1.0013, device='cuda:0', grad_fn=<NllLossBackward0>)\n",
            "Epoch 41/99\n",
            "----------\n"
          ]
        },
        {
          "output_type": "stream",
          "name": "stderr",
          "text": [
            " 43%|████▎     | 43/100 [00:04<00:06,  8.27it/s]"
          ]
        },
        {
          "output_type": "stream",
          "name": "stdout",
          "text": [
            "{} Loss:  tensor(0.9633, device='cuda:0', grad_fn=<NllLossBackward0>)\n",
            "Epoch 42/99\n",
            "----------\n",
            "{} Loss:  tensor(0.9823, device='cuda:0', grad_fn=<NllLossBackward0>)\n",
            "Epoch 43/99\n",
            "----------\n"
          ]
        },
        {
          "output_type": "stream",
          "name": "stderr",
          "text": [
            " 45%|████▌     | 45/100 [00:05<00:07,  7.21it/s]"
          ]
        },
        {
          "output_type": "stream",
          "name": "stdout",
          "text": [
            "{} Loss:  tensor(1.0204, device='cuda:0', grad_fn=<NllLossBackward0>)\n",
            "Epoch 44/99\n",
            "----------\n",
            "{} Loss:  tensor(0.9827, device='cuda:0', grad_fn=<NllLossBackward0>)\n",
            "Epoch 45/99\n",
            "----------\n"
          ]
        },
        {
          "output_type": "stream",
          "name": "stderr",
          "text": [
            " 47%|████▋     | 47/100 [00:05<00:07,  7.42it/s]"
          ]
        },
        {
          "output_type": "stream",
          "name": "stdout",
          "text": [
            "{} Loss:  tensor(0.9580, device='cuda:0', grad_fn=<NllLossBackward0>)\n",
            "Epoch 46/99\n",
            "----------\n",
            "{} Loss:  tensor(0.9530, device='cuda:0', grad_fn=<NllLossBackward0>)\n",
            "Epoch 47/99\n",
            "----------\n"
          ]
        },
        {
          "output_type": "stream",
          "name": "stderr",
          "text": [
            " 49%|████▉     | 49/100 [00:05<00:07,  7.12it/s]"
          ]
        },
        {
          "output_type": "stream",
          "name": "stdout",
          "text": [
            "{} Loss:  tensor(1.1540, device='cuda:0', grad_fn=<NllLossBackward0>)\n",
            "Epoch 48/99\n",
            "----------\n",
            "{} Loss:  tensor(1.0308, device='cuda:0', grad_fn=<NllLossBackward0>)\n",
            "Epoch 49/99\n",
            "----------\n"
          ]
        },
        {
          "output_type": "stream",
          "name": "stderr",
          "text": [
            " 51%|█████     | 51/100 [00:05<00:06,  8.14it/s]"
          ]
        },
        {
          "output_type": "stream",
          "name": "stdout",
          "text": [
            "{} Loss:  tensor(0.8971, device='cuda:0', grad_fn=<NllLossBackward0>)\n",
            "Epoch 50/99\n",
            "----------\n",
            "{} Loss:  tensor(1.1105, device='cuda:0', grad_fn=<NllLossBackward0>)\n",
            "Epoch 51/99\n",
            "----------\n",
            "{} Loss:  "
          ]
        },
        {
          "output_type": "stream",
          "name": "stderr",
          "text": [
            "\r 53%|█████▎    | 53/100 [00:06<00:05,  8.71it/s]"
          ]
        },
        {
          "output_type": "stream",
          "name": "stdout",
          "text": [
            "tensor(1.1029, device='cuda:0', grad_fn=<NllLossBackward0>)\n",
            "Epoch 52/99\n",
            "----------\n",
            "{} Loss:  tensor(0.8804, device='cuda:0', grad_fn=<NllLossBackward0>)\n",
            "Epoch 53/99\n",
            "----------\n"
          ]
        },
        {
          "output_type": "stream",
          "name": "stderr",
          "text": [
            " 56%|█████▌    | 56/100 [00:06<00:04,  9.52it/s]"
          ]
        },
        {
          "output_type": "stream",
          "name": "stdout",
          "text": [
            "{} Loss:  tensor(0.8761, device='cuda:0', grad_fn=<NllLossBackward0>)\n",
            "Epoch 54/99\n",
            "----------\n",
            "{} Loss:  tensor(1.0759, device='cuda:0', grad_fn=<NllLossBackward0>)\n",
            "Epoch 55/99\n",
            "----------\n",
            "{} Loss:  tensor(1.0038, device='cuda:0', grad_fn=<NllLossBackward0>)\n",
            "Epoch 56/99\n",
            "----------\n"
          ]
        },
        {
          "output_type": "stream",
          "name": "stderr",
          "text": [
            " 58%|█████▊    | 58/100 [00:06<00:04,  8.71it/s]"
          ]
        },
        {
          "output_type": "stream",
          "name": "stdout",
          "text": [
            "{} Loss:  tensor(1.0137, device='cuda:0', grad_fn=<NllLossBackward0>)\n",
            "Epoch 57/99\n",
            "----------\n",
            "{} Loss:  tensor(1.0408, device='cuda:0', grad_fn=<NllLossBackward0>)\n",
            "Epoch 58/99\n",
            "----------\n"
          ]
        },
        {
          "output_type": "stream",
          "name": "stderr",
          "text": [
            " 60%|██████    | 60/100 [00:06<00:04,  8.54it/s]"
          ]
        },
        {
          "output_type": "stream",
          "name": "stdout",
          "text": [
            "{} Loss:  tensor(0.9579, device='cuda:0', grad_fn=<NllLossBackward0>)\n",
            "Epoch 59/99\n",
            "----------\n",
            "{} Loss:  tensor(1.1397, device='cuda:0', grad_fn=<NllLossBackward0>)\n",
            "Epoch 60/99\n",
            "----------\n"
          ]
        },
        {
          "output_type": "stream",
          "name": "stderr",
          "text": [
            " 62%|██████▏   | 62/100 [00:07<00:04,  8.59it/s]"
          ]
        },
        {
          "output_type": "stream",
          "name": "stdout",
          "text": [
            "{} Loss:  tensor(0.9241, device='cuda:0', grad_fn=<NllLossBackward0>)\n",
            "Epoch 61/99\n",
            "----------\n",
            "{} Loss:  tensor(0.9703, device='cuda:0', grad_fn=<NllLossBackward0>)\n",
            "Epoch 62/99\n",
            "----------\n"
          ]
        },
        {
          "output_type": "stream",
          "name": "stderr",
          "text": [
            " 64%|██████▍   | 64/100 [00:07<00:04,  8.08it/s]"
          ]
        },
        {
          "output_type": "stream",
          "name": "stdout",
          "text": [
            "{} Loss:  tensor(0.9809, device='cuda:0', grad_fn=<NllLossBackward0>)\n",
            "Epoch 63/99\n",
            "----------\n",
            "{} Loss:  tensor(0.9427, device='cuda:0', grad_fn=<NllLossBackward0>)\n",
            "Epoch 64/99\n",
            "----------\n"
          ]
        },
        {
          "output_type": "stream",
          "name": "stderr",
          "text": [
            " 66%|██████▌   | 66/100 [00:07<00:04,  6.93it/s]"
          ]
        },
        {
          "output_type": "stream",
          "name": "stdout",
          "text": [
            "{} Loss:  tensor(1.0414, device='cuda:0', grad_fn=<NllLossBackward0>)\n",
            "Epoch 65/99\n",
            "----------\n",
            "{} Loss:  tensor(0.9472, device='cuda:0', grad_fn=<NllLossBackward0>)\n",
            "Epoch 66/99\n",
            "----------\n"
          ]
        },
        {
          "output_type": "stream",
          "name": "stderr",
          "text": [
            " 68%|██████▊   | 68/100 [00:08<00:04,  6.77it/s]"
          ]
        },
        {
          "output_type": "stream",
          "name": "stdout",
          "text": [
            "{} Loss:  tensor(1.0990, device='cuda:0', grad_fn=<NllLossBackward0>)\n",
            "Epoch 67/99\n",
            "----------\n",
            "{} Loss:  tensor(0.9383, device='cuda:0', grad_fn=<NllLossBackward0>)\n",
            "Epoch 68/99\n",
            "----------\n"
          ]
        },
        {
          "output_type": "stream",
          "name": "stderr",
          "text": [
            " 70%|███████   | 70/100 [00:08<00:03,  7.62it/s]"
          ]
        },
        {
          "output_type": "stream",
          "name": "stdout",
          "text": [
            "{} Loss:  tensor(1.0279, device='cuda:0', grad_fn=<NllLossBackward0>)\n",
            "Epoch 69/99\n",
            "----------\n",
            "{} Loss:  tensor(0.9895, device='cuda:0', grad_fn=<NllLossBackward0>)\n",
            "Epoch 70/99\n",
            "----------\n",
            "{} Loss:  tensor(1.1051, device='cuda:0', grad_fn=<NllLossBackward0>)\n",
            "Epoch 71/99\n",
            "----------\n"
          ]
        },
        {
          "output_type": "stream",
          "name": "stderr",
          "text": [
            " 74%|███████▍  | 74/100 [00:08<00:02,  9.15it/s]"
          ]
        },
        {
          "output_type": "stream",
          "name": "stdout",
          "text": [
            "{} Loss:  tensor(0.9679, device='cuda:0', grad_fn=<NllLossBackward0>)\n",
            "Epoch 72/99\n",
            "----------\n",
            "{} Loss:  tensor(0.9504, device='cuda:0', grad_fn=<NllLossBackward0>)\n",
            "Epoch 73/99\n",
            "----------\n",
            "{} Loss:  tensor(0.9737, device='cuda:0', grad_fn=<NllLossBackward0>)\n",
            "Epoch 74/99\n",
            "----------\n"
          ]
        },
        {
          "output_type": "stream",
          "name": "stderr",
          "text": [
            " 76%|███████▌  | 76/100 [00:08<00:02,  9.17it/s]"
          ]
        },
        {
          "output_type": "stream",
          "name": "stdout",
          "text": [
            "{} Loss:  tensor(0.9315, device='cuda:0', grad_fn=<NllLossBackward0>)\n",
            "Epoch 75/99\n",
            "----------\n",
            "{} Loss:  tensor(0.9513, device='cuda:0', grad_fn=<NllLossBackward0>)\n",
            "Epoch 76/99\n",
            "----------\n",
            "{} Loss: "
          ]
        },
        {
          "output_type": "stream",
          "name": "stderr",
          "text": [
            "\r 78%|███████▊  | 78/100 [00:09<00:02,  9.46it/s]"
          ]
        },
        {
          "output_type": "stream",
          "name": "stdout",
          "text": [
            " tensor(1.1558, device='cuda:0', grad_fn=<NllLossBackward0>)\n",
            "Epoch 77/99\n",
            "----------\n",
            "{} Loss:  tensor(1.0731, device='cuda:0', grad_fn=<NllLossBackward0>)\n",
            "Epoch 78/99\n",
            "----------\n",
            "{} Loss:  tensor(1.0616, device='cuda:0', grad_fn=<NllLossBackward0>)\n",
            "Epoch 79/99\n",
            "----------\n"
          ]
        },
        {
          "output_type": "stream",
          "name": "stderr",
          "text": [
            "\r 80%|████████  | 80/100 [00:09<00:02,  9.69it/s]"
          ]
        },
        {
          "output_type": "stream",
          "name": "stdout",
          "text": [
            "{} Loss:  tensor(1.0861, device='cuda:0', grad_fn=<NllLossBackward0>)\n",
            "Epoch 80/99\n",
            "----------\n",
            "{} Loss:  tensor(0.9504, device='cuda:0', grad_fn=<NllLossBackward0>)\n",
            "Epoch 81/99\n",
            "----------\n"
          ]
        },
        {
          "output_type": "stream",
          "name": "stderr",
          "text": [
            " 84%|████████▍ | 84/100 [00:09<00:01, 10.34it/s]"
          ]
        },
        {
          "output_type": "stream",
          "name": "stdout",
          "text": [
            "{} Loss:  tensor(0.9740, device='cuda:0', grad_fn=<NllLossBackward0>)\n",
            "Epoch 82/99\n",
            "----------\n",
            "{} Loss:  tensor(0.9356, device='cuda:0', grad_fn=<NllLossBackward0>)\n",
            "Epoch 83/99\n",
            "----------\n",
            "{} Loss:  tensor(0.8991, device='cuda:0', grad_fn=<NllLossBackward0>)\n",
            "Epoch 84/99\n",
            "----------\n"
          ]
        },
        {
          "output_type": "stream",
          "name": "stderr",
          "text": [
            "\r 86%|████████▌ | 86/100 [00:09<00:01, 10.49it/s]"
          ]
        },
        {
          "output_type": "stream",
          "name": "stdout",
          "text": [
            "{} Loss:  tensor(0.9840, device='cuda:0', grad_fn=<NllLossBackward0>)\n",
            "Epoch 85/99\n",
            "----------\n",
            "{} Loss:  tensor(0.9577, device='cuda:0', grad_fn=<NllLossBackward0>)\n",
            "Epoch 86/99\n",
            "----------\n"
          ]
        },
        {
          "output_type": "stream",
          "name": "stderr",
          "text": [
            "\r 88%|████████▊ | 88/100 [00:10<00:01,  9.04it/s]"
          ]
        },
        {
          "output_type": "stream",
          "name": "stdout",
          "text": [
            "{} Loss:  tensor(0.9369, device='cuda:0', grad_fn=<NllLossBackward0>)\n",
            "Epoch 87/99\n",
            "----------\n",
            "{} Loss:  tensor(1.0215, device='cuda:0', grad_fn=<NllLossBackward0>)\n",
            "Epoch 88/99\n",
            "----------\n",
            "{} Loss:  tensor(1.0044, device='cuda:0', grad_fn=<NllLossBackward0>)\n",
            "Epoch 89/99"
          ]
        },
        {
          "output_type": "stream",
          "name": "stderr",
          "text": [
            "\r 90%|█████████ | 90/100 [00:10<00:01,  9.18it/s]"
          ]
        },
        {
          "output_type": "stream",
          "name": "stdout",
          "text": [
            "\n",
            "----------\n",
            "{} Loss:  tensor(1.0405, device='cuda:0', grad_fn=<NllLossBackward0>)\n",
            "Epoch 90/99\n",
            "----------\n"
          ]
        },
        {
          "output_type": "stream",
          "name": "stderr",
          "text": [
            " 92%|█████████▏| 92/100 [00:10<00:00,  9.24it/s]"
          ]
        },
        {
          "output_type": "stream",
          "name": "stdout",
          "text": [
            "{} Loss:  tensor(0.9528, device='cuda:0', grad_fn=<NllLossBackward0>)\n",
            "Epoch 91/99\n",
            "----------\n",
            "{} Loss:  tensor(1.0500, device='cuda:0', grad_fn=<NllLossBackward0>)\n",
            "Epoch 92/99\n",
            "----------\n"
          ]
        },
        {
          "output_type": "stream",
          "name": "stderr",
          "text": [
            " 94%|█████████▍| 94/100 [00:10<00:00,  8.67it/s]"
          ]
        },
        {
          "output_type": "stream",
          "name": "stdout",
          "text": [
            "{} Loss:  tensor(1.1084, device='cuda:0', grad_fn=<NllLossBackward0>)\n",
            "Epoch 93/99\n",
            "----------\n",
            "{} Loss:  tensor(0.9568, device='cuda:0', grad_fn=<NllLossBackward0>)\n",
            "Epoch 94/99\n",
            "----------\n"
          ]
        },
        {
          "output_type": "stream",
          "name": "stderr",
          "text": [
            " 96%|█████████▌| 96/100 [00:11<00:00,  6.89it/s]"
          ]
        },
        {
          "output_type": "stream",
          "name": "stdout",
          "text": [
            "{} Loss:  tensor(0.9621, device='cuda:0', grad_fn=<NllLossBackward0>)\n",
            "Epoch 95/99\n",
            "----------\n",
            "{} Loss:  tensor(1.0032, device='cuda:0', grad_fn=<NllLossBackward0>)\n",
            "Epoch 96/99\n",
            "----------\n"
          ]
        },
        {
          "output_type": "stream",
          "name": "stderr",
          "text": [
            "\r 97%|█████████▋| 97/100 [00:11<00:00,  7.38it/s]"
          ]
        },
        {
          "output_type": "stream",
          "name": "stdout",
          "text": [
            "{} Loss:  tensor(1.0942, device='cuda:0', grad_fn=<NllLossBackward0>)\n",
            "Epoch 97/99\n",
            "----------\n",
            "{} Loss:  tensor(1.0543, device='cuda:0', grad_fn=<NllLossBackward0>)\n",
            "Epoch 98/99\n",
            "----------\n"
          ]
        },
        {
          "output_type": "stream",
          "name": "stderr",
          "text": [
            "100%|██████████| 100/100 [00:11<00:00,  8.61it/s]"
          ]
        },
        {
          "output_type": "stream",
          "name": "stdout",
          "text": [
            "{} Loss:  tensor(0.9085, device='cuda:0', grad_fn=<NllLossBackward0>)\n",
            "Epoch 99/99\n",
            "----------\n",
            "{} Loss:  tensor(0.9620, device='cuda:0', grad_fn=<NllLossBackward0>)\n"
          ]
        },
        {
          "output_type": "stream",
          "name": "stderr",
          "text": [
            "\n"
          ]
        },
        {
          "output_type": "execute_result",
          "data": {
            "text/plain": [
              "MLP(\n",
              "  (model): Sequential(\n",
              "    (0): Linear(in_features=2, out_features=1280, bias=True)\n",
              "    (1): ReLU(inplace=True)\n",
              "    (2): Linear(in_features=1280, out_features=640, bias=True)\n",
              "    (3): ReLU(inplace=True)\n",
              "    (4): Linear(in_features=640, out_features=5, bias=True)\n",
              "    (5): LogSoftmax(dim=1)\n",
              "  )\n",
              ")"
            ]
          },
          "metadata": {},
          "execution_count": 5
        }
      ]
    },
    {
      "cell_type": "code",
      "source": [
        "f.eval(X_test, y_test)"
      ],
      "metadata": {
        "colab": {
          "base_uri": "https://localhost:8080/"
        },
        "id": "6iJIwZLcrm27",
        "outputId": "ea33b8f3-40d9-4e27-db54-00de5630bee7"
      },
      "execution_count": 6,
      "outputs": [
        {
          "output_type": "stream",
          "name": "stdout",
          "text": [
            "\n",
            "------------------------\n",
            "Accuracy: 56.403269754768395\n",
            "-----------------------------\n"
          ]
        }
      ]
    },
    {
      "cell_type": "code",
      "source": [
        ""
      ],
      "metadata": {
        "id": "ADRQKw7OsNiK"
      },
      "execution_count": null,
      "outputs": []
    }
  ],
  "metadata": {
    "accelerator": "GPU",
    "colab": {
      "collapsed_sections": [],
      "name": "helper-code.ipynb",
      "provenance": [],
      "toc_visible": true
    },
    "kernelspec": {
      "display_name": "Python 3 (ipykernel)",
      "language": "python",
      "name": "python3"
    },
    "language_info": {
      "codemirror_mode": {
        "name": "ipython",
        "version": 3
      },
      "file_extension": ".py",
      "mimetype": "text/x-python",
      "name": "python",
      "nbconvert_exporter": "python",
      "pygments_lexer": "ipython3",
      "version": "3.8.3"
    },
    "widgets": {
      "application/vnd.jupyter.widget-state+json": {
        "baafb7b948b542a18f5eec51e71c36ae": {
          "model_module": "@jupyter-widgets/controls",
          "model_name": "HBoxModel",
          "model_module_version": "1.5.0",
          "state": {
            "_view_name": "HBoxView",
            "_dom_classes": [],
            "_model_name": "HBoxModel",
            "_view_module": "@jupyter-widgets/controls",
            "_model_module_version": "1.5.0",
            "_view_count": null,
            "_view_module_version": "1.5.0",
            "box_style": "",
            "layout": "IPY_MODEL_f7e0f026e9a64ca38a11f0ec05c0e105",
            "_model_module": "@jupyter-widgets/controls",
            "children": [
              "IPY_MODEL_ce783c9592ea441093d3a78d47bafd3c",
              "IPY_MODEL_ad337e132c0649e893e96ba538e22bbd",
              "IPY_MODEL_f04780b5b6ac4f8d8a8b8e2d670cf9b5"
            ]
          }
        },
        "f7e0f026e9a64ca38a11f0ec05c0e105": {
          "model_module": "@jupyter-widgets/base",
          "model_name": "LayoutModel",
          "model_module_version": "1.2.0",
          "state": {
            "_view_name": "LayoutView",
            "grid_template_rows": null,
            "right": null,
            "justify_content": null,
            "_view_module": "@jupyter-widgets/base",
            "overflow": null,
            "_model_module_version": "1.2.0",
            "_view_count": null,
            "flex_flow": null,
            "width": null,
            "min_width": null,
            "border": null,
            "align_items": null,
            "bottom": null,
            "_model_module": "@jupyter-widgets/base",
            "top": null,
            "grid_column": null,
            "overflow_y": null,
            "overflow_x": null,
            "grid_auto_flow": null,
            "grid_area": null,
            "grid_template_columns": null,
            "flex": null,
            "_model_name": "LayoutModel",
            "justify_items": null,
            "grid_row": null,
            "max_height": null,
            "align_content": null,
            "visibility": null,
            "align_self": null,
            "height": null,
            "min_height": null,
            "padding": null,
            "grid_auto_rows": null,
            "grid_gap": null,
            "max_width": null,
            "order": null,
            "_view_module_version": "1.2.0",
            "grid_template_areas": null,
            "object_position": null,
            "object_fit": null,
            "grid_auto_columns": null,
            "margin": null,
            "display": null,
            "left": null
          }
        },
        "ce783c9592ea441093d3a78d47bafd3c": {
          "model_module": "@jupyter-widgets/controls",
          "model_name": "HTMLModel",
          "model_module_version": "1.5.0",
          "state": {
            "_view_name": "HTMLView",
            "style": "IPY_MODEL_e980b651fc6842a4a354322ccfa2ab72",
            "_dom_classes": [],
            "description": "",
            "_model_name": "HTMLModel",
            "placeholder": "​",
            "_view_module": "@jupyter-widgets/controls",
            "_model_module_version": "1.5.0",
            "value": "100%",
            "_view_count": null,
            "_view_module_version": "1.5.0",
            "description_tooltip": null,
            "_model_module": "@jupyter-widgets/controls",
            "layout": "IPY_MODEL_5f1d88a0460f40118385f2b469397cc8"
          }
        },
        "ad337e132c0649e893e96ba538e22bbd": {
          "model_module": "@jupyter-widgets/controls",
          "model_name": "FloatProgressModel",
          "model_module_version": "1.5.0",
          "state": {
            "_view_name": "ProgressView",
            "style": "IPY_MODEL_276556ac226845d29ef63e6a15a79188",
            "_dom_classes": [],
            "description": "",
            "_model_name": "FloatProgressModel",
            "bar_style": "success",
            "max": 553433881,
            "_view_module": "@jupyter-widgets/controls",
            "_model_module_version": "1.5.0",
            "value": 553433881,
            "_view_count": null,
            "_view_module_version": "1.5.0",
            "orientation": "horizontal",
            "min": 0,
            "description_tooltip": null,
            "_model_module": "@jupyter-widgets/controls",
            "layout": "IPY_MODEL_77d95ce9f8e641469102b2e7dcaaa083"
          }
        },
        "f04780b5b6ac4f8d8a8b8e2d670cf9b5": {
          "model_module": "@jupyter-widgets/controls",
          "model_name": "HTMLModel",
          "model_module_version": "1.5.0",
          "state": {
            "_view_name": "HTMLView",
            "style": "IPY_MODEL_2b3bb148b1aa40caa1c90d4cdc546f44",
            "_dom_classes": [],
            "description": "",
            "_model_name": "HTMLModel",
            "placeholder": "​",
            "_view_module": "@jupyter-widgets/controls",
            "_model_module_version": "1.5.0",
            "value": " 528M/528M [00:06&lt;00:00, 78.8MB/s]",
            "_view_count": null,
            "_view_module_version": "1.5.0",
            "description_tooltip": null,
            "_model_module": "@jupyter-widgets/controls",
            "layout": "IPY_MODEL_2c6117a0717c4992b9bb5dc2c63779a8"
          }
        },
        "e980b651fc6842a4a354322ccfa2ab72": {
          "model_module": "@jupyter-widgets/controls",
          "model_name": "DescriptionStyleModel",
          "model_module_version": "1.5.0",
          "state": {
            "_view_name": "StyleView",
            "_model_name": "DescriptionStyleModel",
            "description_width": "",
            "_view_module": "@jupyter-widgets/base",
            "_model_module_version": "1.5.0",
            "_view_count": null,
            "_view_module_version": "1.2.0",
            "_model_module": "@jupyter-widgets/controls"
          }
        },
        "5f1d88a0460f40118385f2b469397cc8": {
          "model_module": "@jupyter-widgets/base",
          "model_name": "LayoutModel",
          "model_module_version": "1.2.0",
          "state": {
            "_view_name": "LayoutView",
            "grid_template_rows": null,
            "right": null,
            "justify_content": null,
            "_view_module": "@jupyter-widgets/base",
            "overflow": null,
            "_model_module_version": "1.2.0",
            "_view_count": null,
            "flex_flow": null,
            "width": null,
            "min_width": null,
            "border": null,
            "align_items": null,
            "bottom": null,
            "_model_module": "@jupyter-widgets/base",
            "top": null,
            "grid_column": null,
            "overflow_y": null,
            "overflow_x": null,
            "grid_auto_flow": null,
            "grid_area": null,
            "grid_template_columns": null,
            "flex": null,
            "_model_name": "LayoutModel",
            "justify_items": null,
            "grid_row": null,
            "max_height": null,
            "align_content": null,
            "visibility": null,
            "align_self": null,
            "height": null,
            "min_height": null,
            "padding": null,
            "grid_auto_rows": null,
            "grid_gap": null,
            "max_width": null,
            "order": null,
            "_view_module_version": "1.2.0",
            "grid_template_areas": null,
            "object_position": null,
            "object_fit": null,
            "grid_auto_columns": null,
            "margin": null,
            "display": null,
            "left": null
          }
        },
        "276556ac226845d29ef63e6a15a79188": {
          "model_module": "@jupyter-widgets/controls",
          "model_name": "ProgressStyleModel",
          "model_module_version": "1.5.0",
          "state": {
            "_view_name": "StyleView",
            "_model_name": "ProgressStyleModel",
            "description_width": "",
            "_view_module": "@jupyter-widgets/base",
            "_model_module_version": "1.5.0",
            "_view_count": null,
            "_view_module_version": "1.2.0",
            "bar_color": null,
            "_model_module": "@jupyter-widgets/controls"
          }
        },
        "77d95ce9f8e641469102b2e7dcaaa083": {
          "model_module": "@jupyter-widgets/base",
          "model_name": "LayoutModel",
          "model_module_version": "1.2.0",
          "state": {
            "_view_name": "LayoutView",
            "grid_template_rows": null,
            "right": null,
            "justify_content": null,
            "_view_module": "@jupyter-widgets/base",
            "overflow": null,
            "_model_module_version": "1.2.0",
            "_view_count": null,
            "flex_flow": null,
            "width": null,
            "min_width": null,
            "border": null,
            "align_items": null,
            "bottom": null,
            "_model_module": "@jupyter-widgets/base",
            "top": null,
            "grid_column": null,
            "overflow_y": null,
            "overflow_x": null,
            "grid_auto_flow": null,
            "grid_area": null,
            "grid_template_columns": null,
            "flex": null,
            "_model_name": "LayoutModel",
            "justify_items": null,
            "grid_row": null,
            "max_height": null,
            "align_content": null,
            "visibility": null,
            "align_self": null,
            "height": null,
            "min_height": null,
            "padding": null,
            "grid_auto_rows": null,
            "grid_gap": null,
            "max_width": null,
            "order": null,
            "_view_module_version": "1.2.0",
            "grid_template_areas": null,
            "object_position": null,
            "object_fit": null,
            "grid_auto_columns": null,
            "margin": null,
            "display": null,
            "left": null
          }
        },
        "2b3bb148b1aa40caa1c90d4cdc546f44": {
          "model_module": "@jupyter-widgets/controls",
          "model_name": "DescriptionStyleModel",
          "model_module_version": "1.5.0",
          "state": {
            "_view_name": "StyleView",
            "_model_name": "DescriptionStyleModel",
            "description_width": "",
            "_view_module": "@jupyter-widgets/base",
            "_model_module_version": "1.5.0",
            "_view_count": null,
            "_view_module_version": "1.2.0",
            "_model_module": "@jupyter-widgets/controls"
          }
        },
        "2c6117a0717c4992b9bb5dc2c63779a8": {
          "model_module": "@jupyter-widgets/base",
          "model_name": "LayoutModel",
          "model_module_version": "1.2.0",
          "state": {
            "_view_name": "LayoutView",
            "grid_template_rows": null,
            "right": null,
            "justify_content": null,
            "_view_module": "@jupyter-widgets/base",
            "overflow": null,
            "_model_module_version": "1.2.0",
            "_view_count": null,
            "flex_flow": null,
            "width": null,
            "min_width": null,
            "border": null,
            "align_items": null,
            "bottom": null,
            "_model_module": "@jupyter-widgets/base",
            "top": null,
            "grid_column": null,
            "overflow_y": null,
            "overflow_x": null,
            "grid_auto_flow": null,
            "grid_area": null,
            "grid_template_columns": null,
            "flex": null,
            "_model_name": "LayoutModel",
            "justify_items": null,
            "grid_row": null,
            "max_height": null,
            "align_content": null,
            "visibility": null,
            "align_self": null,
            "height": null,
            "min_height": null,
            "padding": null,
            "grid_auto_rows": null,
            "grid_gap": null,
            "max_width": null,
            "order": null,
            "_view_module_version": "1.2.0",
            "grid_template_areas": null,
            "object_position": null,
            "object_fit": null,
            "grid_auto_columns": null,
            "margin": null,
            "display": null,
            "left": null
          }
        }
      }
    }
  },
  "nbformat": 4,
  "nbformat_minor": 0
}